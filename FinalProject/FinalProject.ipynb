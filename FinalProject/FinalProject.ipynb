{
 "cells": [
  {
   "cell_type": "markdown",
   "metadata": {
    "toc": true
   },
   "source": [
    "<h1>Содержание<span class=\"tocSkip\"></span></h1>\n",
    "<div class=\"toc\"><ul class=\"toc-item\"><li><span><a href=\"#Материалы\" data-toc-modified-id=\"Материалы-1\"><span class=\"toc-item-num\">1&nbsp;&nbsp;</span>Материалы</a></span></li><li><span><a href=\"#Файлы-с-данными,-общая-информация\" data-toc-modified-id=\"Файлы-с-данными,-общая-информация-2\"><span class=\"toc-item-num\">2&nbsp;&nbsp;</span>Файлы с данными, общая информация</a></span><ul class=\"toc-item\"><li><span><a href=\"#Вывод\" data-toc-modified-id=\"Вывод-2.1\"><span class=\"toc-item-num\">2.1&nbsp;&nbsp;</span>Вывод</a></span></li></ul></li><li><span><a href=\"#Предобработка-данных\" data-toc-modified-id=\"Предобработка-данных-3\"><span class=\"toc-item-num\">3&nbsp;&nbsp;</span>Предобработка данных</a></span><ul class=\"toc-item\"><li><span><a href=\"#Пропущенные-значения\" data-toc-modified-id=\"Пропущенные-значения-3.1\"><span class=\"toc-item-num\">3.1&nbsp;&nbsp;</span>Пропущенные значения</a></span></li><li><span><a href=\"#Типы-данных\" data-toc-modified-id=\"Типы-данных-3.2\"><span class=\"toc-item-num\">3.2&nbsp;&nbsp;</span>Типы данных</a></span></li><li><span><a href=\"#Поиск-дубликатов\" data-toc-modified-id=\"Поиск-дубликатов-3.3\"><span class=\"toc-item-num\">3.3&nbsp;&nbsp;</span>Поиск дубликатов</a></span></li><li><span><a href=\"#Категоризация-данных\" data-toc-modified-id=\"Категоризация-данных-3.4\"><span class=\"toc-item-num\">3.4&nbsp;&nbsp;</span>Категоризация данных</a></span></li><li><span><a href=\"#Проверка-данных-на-аномалии\" data-toc-modified-id=\"Проверка-данных-на-аномалии-3.5\"><span class=\"toc-item-num\">3.5&nbsp;&nbsp;</span>Проверка данных на аномалии</a></span></li><li><span><a href=\"#Вывод\" data-toc-modified-id=\"Вывод-3.6\"><span class=\"toc-item-num\">3.6&nbsp;&nbsp;</span>Вывод</a></span></li></ul></li><li><span><a href=\"#Исследовательский-анализ-данных\" data-toc-modified-id=\"Исследовательский-анализ-данных-4\"><span class=\"toc-item-num\">4&nbsp;&nbsp;</span>Исследовательский анализ данных</a></span><ul class=\"toc-item\"><li><span><a href=\"#LTV-на-игрока-при-стоимости-просмотра-рекламы-0,07-USD-(на-экране-с-выбором-постройки)\" data-toc-modified-id=\"LTV-на-игрока-при-стоимости-просмотра-рекламы-0,07-USD-(на-экране-с-выбором-постройки)-4.1\"><span class=\"toc-item-num\">4.1&nbsp;&nbsp;</span>LTV на игрока при стоимости просмотра рекламы 0,07 USD (на экране с выбором постройки)</a></span></li><li><span><a href=\"#Общая-сумма-расходов-на-маркетинг\" data-toc-modified-id=\"Общая-сумма-расходов-на-маркетинг-4.2\"><span class=\"toc-item-num\">4.2&nbsp;&nbsp;</span>Общая сумма расходов на маркетинг</a></span></li><li><span><a href=\"#Cредний-CAC-на-одного-игрока\" data-toc-modified-id=\"Cредний-CAC-на-одного-игрока-4.3\"><span class=\"toc-item-num\">4.3&nbsp;&nbsp;</span>Cредний CAC на одного игрока</a></span></li><li><span><a href=\"#ROMI-в-разрезе-источников\" data-toc-modified-id=\"ROMI-в-разрезе-источников-4.4\"><span class=\"toc-item-num\">4.4&nbsp;&nbsp;</span>ROMI в разрезе источников</a></span></li><li><span><a href=\"#Вывод\" data-toc-modified-id=\"Вывод-4.5\"><span class=\"toc-item-num\">4.5&nbsp;&nbsp;</span>Вывод</a></span></li></ul></li><li><span><a href=\"#Влияние-событий-на-совершение-целевого-события\" data-toc-modified-id=\"Влияние-событий-на-совершение-целевого-события-5\"><span class=\"toc-item-num\">5&nbsp;&nbsp;</span>Влияние событий на совершение целевого события</a></span><ul class=\"toc-item\"><li><span><a href=\"#Сколько-игроков-завершили-1-уровень?\" data-toc-modified-id=\"Сколько-игроков-завершили-1-уровень?-5.1\"><span class=\"toc-item-num\">5.1&nbsp;&nbsp;</span>Сколько игроков завершили 1 уровень?</a></span></li><li><span><a href=\"#Сколько-игроков-заканчивают-уровень-через-реализацию-проекта,-и-сколько-заканчивают-уровень-победой-над-другим-игроком?\" data-toc-modified-id=\"Сколько-игроков-заканчивают-уровень-через-реализацию-проекта,-и-сколько-заканчивают-уровень-победой-над-другим-игроком?-5.2\"><span class=\"toc-item-num\">5.2&nbsp;&nbsp;</span>Сколько игроков заканчивают уровень через реализацию проекта, и сколько заканчивают уровень победой над другим игроком?</a></span></li><li><span><a href=\"#Сколько-объектов-в-среднем-строит-игрок-до-завершения-1-уровня?\" data-toc-modified-id=\"Сколько-объектов-в-среднем-строит-игрок-до-завершения-1-уровня?-5.3\"><span class=\"toc-item-num\">5.3&nbsp;&nbsp;</span>Сколько объектов в среднем строит игрок до завершения 1 уровня?</a></span></li><li><span><a href=\"#Сколько-времени-проходит-от-постройки-первого-объекта-до-завершения-1-уровня?\" data-toc-modified-id=\"Сколько-времени-проходит-от-постройки-первого-объекта-до-завершения-1-уровня?-5.4\"><span class=\"toc-item-num\">5.4&nbsp;&nbsp;</span>Сколько времени проходит от постройки первого объекта до завершения 1 уровня?</a></span></li><li><span><a href=\"#Как-тип-проекта-влияет-на-завершение-1-уровня?\" data-toc-modified-id=\"Как-тип-проекта-влияет-на-завершение-1-уровня?-5.5\"><span class=\"toc-item-num\">5.5&nbsp;&nbsp;</span>Как тип проекта влияет на завершение 1 уровня?</a></span></li><li><span><a href=\"#Вывод\" data-toc-modified-id=\"Вывод-5.6\"><span class=\"toc-item-num\">5.6&nbsp;&nbsp;</span>Вывод</a></span></li></ul></li><li><span><a href=\"#Проверка-статистических-гипотез\" data-toc-modified-id=\"Проверка-статистических-гипотез-6\"><span class=\"toc-item-num\">6&nbsp;&nbsp;</span>Проверка статистических гипотез</a></span><ul class=\"toc-item\"><li><span><a href=\"#Гипотеза-различия-времени\" data-toc-modified-id=\"Гипотеза-различия-времени-6.1\"><span class=\"toc-item-num\">6.1&nbsp;&nbsp;</span>Гипотеза различия времени</a></span></li><li><span><a href=\"#Гипотеза-различия-количества-объектов\" data-toc-modified-id=\"Гипотеза-различия-количества-объектов-6.2\"><span class=\"toc-item-num\">6.2&nbsp;&nbsp;</span>Гипотеза различия количества объектов</a></span></li><li><span><a href=\"#Вывод\" data-toc-modified-id=\"Вывод-6.3\"><span class=\"toc-item-num\">6.3&nbsp;&nbsp;</span>Вывод</a></span></li></ul></li><li><span><a href=\"#Выводы-и-рекомендации\" data-toc-modified-id=\"Выводы-и-рекомендации-7\"><span class=\"toc-item-num\">7&nbsp;&nbsp;</span>Выводы и рекомендации</a></span></li></ul></div>"
   ]
  },
  {
   "cell_type": "markdown",
   "metadata": {},
   "source": [
    "# Формирование модели монетизации"
   ]
  },
  {
   "cell_type": "markdown",
   "metadata": {},
   "source": [
    "## Материалы\n",
    "* [Презентация] (https://drive.google.com/file/d/1IpbwHtk5CiD7txBItjkeOg6dBO_XQtHS/view?usp=sharing)\n",
    "* [Дашборд] (https://public.tableau.com/views/_16340603669190/Dashboard3?:language=en-US&publish=yes&:display_count=n&:origin=viz_share_link)"
   ]
  },
  {
   "cell_type": "markdown",
   "metadata": {},
   "source": [
    "Основной датасет содержит данные о событиях, совершенных в мобильной игре «Космические братья». В ней пользователи строят свою космическую программу и пытаются преуспеть в нелёгком деле колонизации галактики.\n",
    "\n",
    "Основная монетизация игры — только планируется. Но предполагается, что в приложении будет происходить показ рекламы на экране с выбором типа объекта для постройки.\n",
    "\n",
    "В датасете представлены данные по игре пользователей на первом уровне. Завершение первого уровня требует от игрока выполнения одного из двух условий:\n",
    "\n",
    "- Победа над первым врагом\n",
    "- Реализация проекта - разработка орбитальной сборки спутников\n"
   ]
  },
  {
   "cell_type": "code",
   "execution_count": 1,
   "metadata": {},
   "outputs": [],
   "source": [
    "import pandas as pd\n",
    "\n",
    "from pandas.plotting import register_matplotlib_converters\n",
    "register_matplotlib_converters()\n",
    "\n",
    "import matplotlib.pyplot as plt\n",
    "\n",
    "from scipy import stats as st"
   ]
  },
  {
   "cell_type": "markdown",
   "metadata": {},
   "source": [
    "## Файлы с данными, общая информация\n",
    "\n",
    "В датасете содержатся данные первых пользователей приложения — когорты пользователей, которые начали пользоваться приложением в период с 4 по 10 мая включительно.\n",
    "\n",
    "Датасет *game_actions.csv*:\n",
    "\n",
    "- `event_datetime` — время события;\n",
    "- `event` — одно из трёх событий:\n",
    "    1. `building` — объект построен,\n",
    "    2. `finished_stage_1` — первый уровень завершён,\n",
    "    3. `project` — проект завершён;\n",
    "- `building_type` — один из трёх типов здания:\n",
    "    1. `assembly_shop` — сборочный цех,\n",
    "    2. `spaceport` — космопорт,\n",
    "    3. `research_center` — исследовательский центр;\n",
    "- `user_id` — идентификатор пользователя;\n",
    "- `project_type` — тип реализованного проекта;"
   ]
  },
  {
   "cell_type": "code",
   "execution_count": 2,
   "metadata": {},
   "outputs": [],
   "source": [
    "game_actions = pd.read_csv('/datasets/game_actions.csv')"
   ]
  },
  {
   "cell_type": "code",
   "execution_count": 3,
   "metadata": {},
   "outputs": [
    {
     "data": {
      "text/html": [
       "<div>\n",
       "<style scoped>\n",
       "    .dataframe tbody tr th:only-of-type {\n",
       "        vertical-align: middle;\n",
       "    }\n",
       "\n",
       "    .dataframe tbody tr th {\n",
       "        vertical-align: top;\n",
       "    }\n",
       "\n",
       "    .dataframe thead th {\n",
       "        text-align: right;\n",
       "    }\n",
       "</style>\n",
       "<table border=\"1\" class=\"dataframe\">\n",
       "  <thead>\n",
       "    <tr style=\"text-align: right;\">\n",
       "      <th></th>\n",
       "      <th>event_datetime</th>\n",
       "      <th>event</th>\n",
       "      <th>building_type</th>\n",
       "      <th>user_id</th>\n",
       "      <th>project_type</th>\n",
       "    </tr>\n",
       "  </thead>\n",
       "  <tbody>\n",
       "    <tr>\n",
       "      <td>0</td>\n",
       "      <td>2020-05-04 00:00:01</td>\n",
       "      <td>building</td>\n",
       "      <td>assembly_shop</td>\n",
       "      <td>55e92310-cb8e-4754-b622-597e124b03de</td>\n",
       "      <td>NaN</td>\n",
       "    </tr>\n",
       "    <tr>\n",
       "      <td>1</td>\n",
       "      <td>2020-05-04 00:00:03</td>\n",
       "      <td>building</td>\n",
       "      <td>assembly_shop</td>\n",
       "      <td>c07b1c10-f477-44dc-81dc-ec82254b1347</td>\n",
       "      <td>NaN</td>\n",
       "    </tr>\n",
       "    <tr>\n",
       "      <td>2</td>\n",
       "      <td>2020-05-04 00:00:16</td>\n",
       "      <td>building</td>\n",
       "      <td>assembly_shop</td>\n",
       "      <td>6edd42cc-e753-4ff6-a947-2107cd560710</td>\n",
       "      <td>NaN</td>\n",
       "    </tr>\n",
       "    <tr>\n",
       "      <td>3</td>\n",
       "      <td>2020-05-04 00:00:16</td>\n",
       "      <td>building</td>\n",
       "      <td>assembly_shop</td>\n",
       "      <td>92c69003-d60a-444a-827f-8cc51bf6bf4c</td>\n",
       "      <td>NaN</td>\n",
       "    </tr>\n",
       "    <tr>\n",
       "      <td>4</td>\n",
       "      <td>2020-05-04 00:00:35</td>\n",
       "      <td>building</td>\n",
       "      <td>assembly_shop</td>\n",
       "      <td>cdc6bb92-0ccb-4490-9866-ef142f09139d</td>\n",
       "      <td>NaN</td>\n",
       "    </tr>\n",
       "    <tr>\n",
       "      <td>5</td>\n",
       "      <td>2020-05-04 00:00:36</td>\n",
       "      <td>building</td>\n",
       "      <td>assembly_shop</td>\n",
       "      <td>06c592ca-902d-42bb-bac3-75ce84cca159</td>\n",
       "      <td>NaN</td>\n",
       "    </tr>\n",
       "    <tr>\n",
       "      <td>6</td>\n",
       "      <td>2020-05-04 00:00:36</td>\n",
       "      <td>building</td>\n",
       "      <td>assembly_shop</td>\n",
       "      <td>4fe0f101-694b-4e31-9740-d1d87f7208ea</td>\n",
       "      <td>NaN</td>\n",
       "    </tr>\n",
       "    <tr>\n",
       "      <td>7</td>\n",
       "      <td>2020-05-04 00:00:38</td>\n",
       "      <td>building</td>\n",
       "      <td>assembly_shop</td>\n",
       "      <td>beb8ca15-33a9-465d-b47b-89aa96f89c9a</td>\n",
       "      <td>NaN</td>\n",
       "    </tr>\n",
       "    <tr>\n",
       "      <td>8</td>\n",
       "      <td>2020-05-04 00:00:44</td>\n",
       "      <td>building</td>\n",
       "      <td>assembly_shop</td>\n",
       "      <td>65a92713-5969-48b1-8945-bfefa5063887</td>\n",
       "      <td>NaN</td>\n",
       "    </tr>\n",
       "    <tr>\n",
       "      <td>9</td>\n",
       "      <td>2020-05-04 00:01:33</td>\n",
       "      <td>building</td>\n",
       "      <td>assembly_shop</td>\n",
       "      <td>fa352362-d258-472c-b295-2796ccc39fa3</td>\n",
       "      <td>NaN</td>\n",
       "    </tr>\n",
       "  </tbody>\n",
       "</table>\n",
       "</div>"
      ],
      "text/plain": [
       "        event_datetime     event  building_type  \\\n",
       "0  2020-05-04 00:00:01  building  assembly_shop   \n",
       "1  2020-05-04 00:00:03  building  assembly_shop   \n",
       "2  2020-05-04 00:00:16  building  assembly_shop   \n",
       "3  2020-05-04 00:00:16  building  assembly_shop   \n",
       "4  2020-05-04 00:00:35  building  assembly_shop   \n",
       "5  2020-05-04 00:00:36  building  assembly_shop   \n",
       "6  2020-05-04 00:00:36  building  assembly_shop   \n",
       "7  2020-05-04 00:00:38  building  assembly_shop   \n",
       "8  2020-05-04 00:00:44  building  assembly_shop   \n",
       "9  2020-05-04 00:01:33  building  assembly_shop   \n",
       "\n",
       "                                user_id project_type  \n",
       "0  55e92310-cb8e-4754-b622-597e124b03de          NaN  \n",
       "1  c07b1c10-f477-44dc-81dc-ec82254b1347          NaN  \n",
       "2  6edd42cc-e753-4ff6-a947-2107cd560710          NaN  \n",
       "3  92c69003-d60a-444a-827f-8cc51bf6bf4c          NaN  \n",
       "4  cdc6bb92-0ccb-4490-9866-ef142f09139d          NaN  \n",
       "5  06c592ca-902d-42bb-bac3-75ce84cca159          NaN  \n",
       "6  4fe0f101-694b-4e31-9740-d1d87f7208ea          NaN  \n",
       "7  beb8ca15-33a9-465d-b47b-89aa96f89c9a          NaN  \n",
       "8  65a92713-5969-48b1-8945-bfefa5063887          NaN  \n",
       "9  fa352362-d258-472c-b295-2796ccc39fa3          NaN  "
      ]
     },
     "execution_count": 3,
     "metadata": {},
     "output_type": "execute_result"
    }
   ],
   "source": [
    "game_actions.head(10)"
   ]
  },
  {
   "cell_type": "code",
   "execution_count": 4,
   "metadata": {},
   "outputs": [
    {
     "name": "stdout",
     "output_type": "stream",
     "text": [
      "<class 'pandas.core.frame.DataFrame'>\n",
      "RangeIndex: 135640 entries, 0 to 135639\n",
      "Data columns (total 5 columns):\n",
      "event_datetime    135640 non-null object\n",
      "event             135640 non-null object\n",
      "building_type     127957 non-null object\n",
      "user_id           135640 non-null object\n",
      "project_type      1866 non-null object\n",
      "dtypes: object(5)\n",
      "memory usage: 5.2+ MB\n"
     ]
    }
   ],
   "source": [
    "game_actions.info()"
   ]
  },
  {
   "cell_type": "markdown",
   "metadata": {},
   "source": [
    "Помимо основного датасета есть два датасета с информацией о рекламных активностях. Они также помогут в решении задачи.\n",
    "\n",
    "Датасет *ad_costs.csv* содержит колонки:\n",
    "\n",
    "- `day` - день, в который был совершен клик по объявлению\n",
    "- `source` - источник трафика\n",
    "- `cost` - стоимость кликов\n"
   ]
  },
  {
   "cell_type": "code",
   "execution_count": 5,
   "metadata": {},
   "outputs": [],
   "source": [
    "ad_costs = pd.read_csv('/datasets/ad_costs.csv')"
   ]
  },
  {
   "cell_type": "code",
   "execution_count": 6,
   "metadata": {},
   "outputs": [
    {
     "data": {
      "text/html": [
       "<div>\n",
       "<style scoped>\n",
       "    .dataframe tbody tr th:only-of-type {\n",
       "        vertical-align: middle;\n",
       "    }\n",
       "\n",
       "    .dataframe tbody tr th {\n",
       "        vertical-align: top;\n",
       "    }\n",
       "\n",
       "    .dataframe thead th {\n",
       "        text-align: right;\n",
       "    }\n",
       "</style>\n",
       "<table border=\"1\" class=\"dataframe\">\n",
       "  <thead>\n",
       "    <tr style=\"text-align: right;\">\n",
       "      <th></th>\n",
       "      <th>source</th>\n",
       "      <th>day</th>\n",
       "      <th>cost</th>\n",
       "    </tr>\n",
       "  </thead>\n",
       "  <tbody>\n",
       "    <tr>\n",
       "      <td>0</td>\n",
       "      <td>facebook_ads</td>\n",
       "      <td>2020-05-03</td>\n",
       "      <td>935.882786</td>\n",
       "    </tr>\n",
       "    <tr>\n",
       "      <td>1</td>\n",
       "      <td>facebook_ads</td>\n",
       "      <td>2020-05-04</td>\n",
       "      <td>548.354480</td>\n",
       "    </tr>\n",
       "    <tr>\n",
       "      <td>2</td>\n",
       "      <td>facebook_ads</td>\n",
       "      <td>2020-05-05</td>\n",
       "      <td>260.185754</td>\n",
       "    </tr>\n",
       "    <tr>\n",
       "      <td>3</td>\n",
       "      <td>facebook_ads</td>\n",
       "      <td>2020-05-06</td>\n",
       "      <td>177.982200</td>\n",
       "    </tr>\n",
       "    <tr>\n",
       "      <td>4</td>\n",
       "      <td>facebook_ads</td>\n",
       "      <td>2020-05-07</td>\n",
       "      <td>111.766796</td>\n",
       "    </tr>\n",
       "    <tr>\n",
       "      <td>5</td>\n",
       "      <td>facebook_ads</td>\n",
       "      <td>2020-05-08</td>\n",
       "      <td>68.009276</td>\n",
       "    </tr>\n",
       "    <tr>\n",
       "      <td>6</td>\n",
       "      <td>facebook_ads</td>\n",
       "      <td>2020-05-09</td>\n",
       "      <td>38.723350</td>\n",
       "    </tr>\n",
       "    <tr>\n",
       "      <td>7</td>\n",
       "      <td>instagram_new_adverts</td>\n",
       "      <td>2020-05-03</td>\n",
       "      <td>943.204717</td>\n",
       "    </tr>\n",
       "    <tr>\n",
       "      <td>8</td>\n",
       "      <td>instagram_new_adverts</td>\n",
       "      <td>2020-05-04</td>\n",
       "      <td>502.925451</td>\n",
       "    </tr>\n",
       "    <tr>\n",
       "      <td>9</td>\n",
       "      <td>instagram_new_adverts</td>\n",
       "      <td>2020-05-05</td>\n",
       "      <td>313.970984</td>\n",
       "    </tr>\n",
       "  </tbody>\n",
       "</table>\n",
       "</div>"
      ],
      "text/plain": [
       "                  source         day        cost\n",
       "0           facebook_ads  2020-05-03  935.882786\n",
       "1           facebook_ads  2020-05-04  548.354480\n",
       "2           facebook_ads  2020-05-05  260.185754\n",
       "3           facebook_ads  2020-05-06  177.982200\n",
       "4           facebook_ads  2020-05-07  111.766796\n",
       "5           facebook_ads  2020-05-08   68.009276\n",
       "6           facebook_ads  2020-05-09   38.723350\n",
       "7  instagram_new_adverts  2020-05-03  943.204717\n",
       "8  instagram_new_adverts  2020-05-04  502.925451\n",
       "9  instagram_new_adverts  2020-05-05  313.970984"
      ]
     },
     "execution_count": 6,
     "metadata": {},
     "output_type": "execute_result"
    }
   ],
   "source": [
    "ad_costs.head(10)"
   ]
  },
  {
   "cell_type": "code",
   "execution_count": 7,
   "metadata": {},
   "outputs": [
    {
     "name": "stdout",
     "output_type": "stream",
     "text": [
      "<class 'pandas.core.frame.DataFrame'>\n",
      "RangeIndex: 28 entries, 0 to 27\n",
      "Data columns (total 3 columns):\n",
      "source    28 non-null object\n",
      "day       28 non-null object\n",
      "cost      28 non-null float64\n",
      "dtypes: float64(1), object(2)\n",
      "memory usage: 800.0+ bytes\n"
     ]
    }
   ],
   "source": [
    "ad_costs.info()"
   ]
  },
  {
   "cell_type": "markdown",
   "metadata": {},
   "source": [
    "Датасет user_source.csv содержит колонки:\n",
    "\n",
    "- `user_id` - идентификатор пользователя\n",
    "- `source` - источников, с которого пришёл пользователь, установивший приложение"
   ]
  },
  {
   "cell_type": "code",
   "execution_count": 8,
   "metadata": {},
   "outputs": [],
   "source": [
    "user_source = pd.read_csv('/datasets/user_source.csv')"
   ]
  },
  {
   "cell_type": "code",
   "execution_count": 9,
   "metadata": {},
   "outputs": [
    {
     "data": {
      "text/html": [
       "<div>\n",
       "<style scoped>\n",
       "    .dataframe tbody tr th:only-of-type {\n",
       "        vertical-align: middle;\n",
       "    }\n",
       "\n",
       "    .dataframe tbody tr th {\n",
       "        vertical-align: top;\n",
       "    }\n",
       "\n",
       "    .dataframe thead th {\n",
       "        text-align: right;\n",
       "    }\n",
       "</style>\n",
       "<table border=\"1\" class=\"dataframe\">\n",
       "  <thead>\n",
       "    <tr style=\"text-align: right;\">\n",
       "      <th></th>\n",
       "      <th>user_id</th>\n",
       "      <th>source</th>\n",
       "    </tr>\n",
       "  </thead>\n",
       "  <tbody>\n",
       "    <tr>\n",
       "      <td>0</td>\n",
       "      <td>0001f83c-c6ac-4621-b7f0-8a28b283ac30</td>\n",
       "      <td>facebook_ads</td>\n",
       "    </tr>\n",
       "    <tr>\n",
       "      <td>1</td>\n",
       "      <td>00151b4f-ba38-44a8-a650-d7cf130a0105</td>\n",
       "      <td>yandex_direct</td>\n",
       "    </tr>\n",
       "    <tr>\n",
       "      <td>2</td>\n",
       "      <td>001aaea6-3d14-43f1-8ca8-7f48820f17aa</td>\n",
       "      <td>youtube_channel_reklama</td>\n",
       "    </tr>\n",
       "    <tr>\n",
       "      <td>3</td>\n",
       "      <td>001d39dc-366c-4021-9604-6a3b9ff01e25</td>\n",
       "      <td>instagram_new_adverts</td>\n",
       "    </tr>\n",
       "    <tr>\n",
       "      <td>4</td>\n",
       "      <td>002f508f-67b6-479f-814b-b05f00d4e995</td>\n",
       "      <td>facebook_ads</td>\n",
       "    </tr>\n",
       "    <tr>\n",
       "      <td>5</td>\n",
       "      <td>003b80c6-4164-4157-bb2a-03d0181d39c4</td>\n",
       "      <td>yandex_direct</td>\n",
       "    </tr>\n",
       "    <tr>\n",
       "      <td>6</td>\n",
       "      <td>003ee7e8-6356-4286-a715-62f22a18d2a1</td>\n",
       "      <td>instagram_new_adverts</td>\n",
       "    </tr>\n",
       "    <tr>\n",
       "      <td>7</td>\n",
       "      <td>004074f8-251a-4776-922c-8348dca1a2f6</td>\n",
       "      <td>facebook_ads</td>\n",
       "    </tr>\n",
       "    <tr>\n",
       "      <td>8</td>\n",
       "      <td>00440efd-aa50-4b4b-aae8-ffcd1782729d</td>\n",
       "      <td>facebook_ads</td>\n",
       "    </tr>\n",
       "    <tr>\n",
       "      <td>9</td>\n",
       "      <td>00464e5e-28ed-4be6-bf44-517ef7b3937b</td>\n",
       "      <td>yandex_direct</td>\n",
       "    </tr>\n",
       "  </tbody>\n",
       "</table>\n",
       "</div>"
      ],
      "text/plain": [
       "                                user_id                   source\n",
       "0  0001f83c-c6ac-4621-b7f0-8a28b283ac30             facebook_ads\n",
       "1  00151b4f-ba38-44a8-a650-d7cf130a0105            yandex_direct\n",
       "2  001aaea6-3d14-43f1-8ca8-7f48820f17aa  youtube_channel_reklama\n",
       "3  001d39dc-366c-4021-9604-6a3b9ff01e25    instagram_new_adverts\n",
       "4  002f508f-67b6-479f-814b-b05f00d4e995             facebook_ads\n",
       "5  003b80c6-4164-4157-bb2a-03d0181d39c4            yandex_direct\n",
       "6  003ee7e8-6356-4286-a715-62f22a18d2a1    instagram_new_adverts\n",
       "7  004074f8-251a-4776-922c-8348dca1a2f6             facebook_ads\n",
       "8  00440efd-aa50-4b4b-aae8-ffcd1782729d             facebook_ads\n",
       "9  00464e5e-28ed-4be6-bf44-517ef7b3937b            yandex_direct"
      ]
     },
     "execution_count": 9,
     "metadata": {},
     "output_type": "execute_result"
    }
   ],
   "source": [
    "user_source.head(10)"
   ]
  },
  {
   "cell_type": "code",
   "execution_count": 10,
   "metadata": {},
   "outputs": [
    {
     "name": "stdout",
     "output_type": "stream",
     "text": [
      "<class 'pandas.core.frame.DataFrame'>\n",
      "RangeIndex: 13576 entries, 0 to 13575\n",
      "Data columns (total 2 columns):\n",
      "user_id    13576 non-null object\n",
      "source     13576 non-null object\n",
      "dtypes: object(2)\n",
      "memory usage: 212.2+ KB\n"
     ]
    }
   ],
   "source": [
    "user_source.info()"
   ]
  },
  {
   "cell_type": "markdown",
   "metadata": {},
   "source": [
    "### Вывод\n",
    "\n",
    "В таблице `game_actions` представлены данные по игре пользователей на первом уровне: время события, тип события, тип здания, идентификатор пользователя, тип реализованного проекта. Пропуски в столбцах `building_type` и `project_type` закономерны: нет типа здания там, где событие - не постройка объекта, и типа проекта, где событие - не реализация проекта. Помимо основной есть две таблицы с информацией о рекламных активностях. На этапе предобработки нужно привести данные о датах к нужному типу."
   ]
  },
  {
   "cell_type": "markdown",
   "metadata": {},
   "source": [
    "## Предобработка данных"
   ]
  },
  {
   "cell_type": "markdown",
   "metadata": {},
   "source": [
    "### Пропущенные значения\n",
    "\n",
    "Проверим данные на наличие пропусков вызовом набора методов для суммирования пропущенных значений."
   ]
  },
  {
   "cell_type": "code",
   "execution_count": 11,
   "metadata": {},
   "outputs": [
    {
     "data": {
      "text/plain": [
       "event_datetime         0\n",
       "event                  0\n",
       "building_type       7683\n",
       "user_id                0\n",
       "project_type      133774\n",
       "dtype: int64"
      ]
     },
     "execution_count": 11,
     "metadata": {},
     "output_type": "execute_result"
    }
   ],
   "source": [
    "game_actions.isnull().sum()"
   ]
  },
  {
   "cell_type": "markdown",
   "metadata": {},
   "source": [
    "Пустые значения в столбце `building_type` соответствуют событиям `finished_stage_1` — первый уровень завершён и `project` — проект завершён:"
   ]
  },
  {
   "cell_type": "code",
   "execution_count": 12,
   "metadata": {},
   "outputs": [
    {
     "data": {
      "text/plain": [
       "event_datetime         0\n",
       "event                  0\n",
       "building_type          0\n",
       "user_id                0\n",
       "project_type      127957\n",
       "dtype: int64"
      ]
     },
     "execution_count": 12,
     "metadata": {},
     "output_type": "execute_result"
    }
   ],
   "source": [
    "game_actions.query('event == \"building\"').isnull().sum()"
   ]
  },
  {
   "cell_type": "markdown",
   "metadata": {},
   "source": [
    "Пустые значения в столбце `project_type` соответствуют событиям `building` — объект построен и `finished_stage_1` — первый уровень завершён:"
   ]
  },
  {
   "cell_type": "code",
   "execution_count": 13,
   "metadata": {},
   "outputs": [
    {
     "data": {
      "text/plain": [
       "event_datetime       0\n",
       "event                0\n",
       "building_type     1866\n",
       "user_id              0\n",
       "project_type         0\n",
       "dtype: int64"
      ]
     },
     "execution_count": 13,
     "metadata": {},
     "output_type": "execute_result"
    }
   ],
   "source": [
    "game_actions.query('event == \"project\"').isnull().sum()"
   ]
  },
  {
   "cell_type": "markdown",
   "metadata": {},
   "source": [
    "Таким образом пропущенные значения неслучайные: вероятность пропуска зависит от других значений."
   ]
  },
  {
   "cell_type": "markdown",
   "metadata": {},
   "source": [
    "### Типы данных\n",
    "\n",
    "Приведем данные о датах к нужному типу:"
   ]
  },
  {
   "cell_type": "code",
   "execution_count": 14,
   "metadata": {},
   "outputs": [],
   "source": [
    "game_actions['event_datetime'] = pd.to_datetime(game_actions['event_datetime'], format='%Y-%m-%d')"
   ]
  },
  {
   "cell_type": "code",
   "execution_count": 15,
   "metadata": {},
   "outputs": [
    {
     "name": "stdout",
     "output_type": "stream",
     "text": [
      "<class 'pandas.core.frame.DataFrame'>\n",
      "RangeIndex: 135640 entries, 0 to 135639\n",
      "Data columns (total 5 columns):\n",
      "event_datetime    135640 non-null datetime64[ns]\n",
      "event             135640 non-null object\n",
      "building_type     127957 non-null object\n",
      "user_id           135640 non-null object\n",
      "project_type      1866 non-null object\n",
      "dtypes: datetime64[ns](1), object(4)\n",
      "memory usage: 5.2+ MB\n"
     ]
    }
   ],
   "source": [
    "game_actions.info()"
   ]
  },
  {
   "cell_type": "code",
   "execution_count": 16,
   "metadata": {},
   "outputs": [],
   "source": [
    "ad_costs['day'] = pd.to_datetime(ad_costs['day'], format='%Y-%m-%d')"
   ]
  },
  {
   "cell_type": "code",
   "execution_count": 17,
   "metadata": {},
   "outputs": [
    {
     "name": "stdout",
     "output_type": "stream",
     "text": [
      "<class 'pandas.core.frame.DataFrame'>\n",
      "RangeIndex: 28 entries, 0 to 27\n",
      "Data columns (total 3 columns):\n",
      "source    28 non-null object\n",
      "day       28 non-null datetime64[ns]\n",
      "cost      28 non-null float64\n",
      "dtypes: datetime64[ns](1), float64(1), object(1)\n",
      "memory usage: 800.0+ bytes\n"
     ]
    }
   ],
   "source": [
    "ad_costs.info()"
   ]
  },
  {
   "cell_type": "markdown",
   "metadata": {},
   "source": [
    "### Поиск дубликатов\n",
    "\n",
    "Необходимо установить наличие дубликатов. Если найдутся, удаляем, и проверяем, все ли удалились."
   ]
  },
  {
   "cell_type": "code",
   "execution_count": 18,
   "metadata": {},
   "outputs": [
    {
     "data": {
      "text/plain": [
       "1"
      ]
     },
     "execution_count": 18,
     "metadata": {},
     "output_type": "execute_result"
    }
   ],
   "source": [
    "game_actions.duplicated().sum()"
   ]
  },
  {
   "cell_type": "markdown",
   "metadata": {},
   "source": [
    "\n",
    "Один дубликат можно смело удалить. Но если бы их было, больше, нужно было бы разобраться в их природе прежде чем удалять"
   ]
  },
  {
   "cell_type": "code",
   "execution_count": 19,
   "metadata": {},
   "outputs": [],
   "source": [
    "game_actions = game_actions.drop_duplicates().reset_index(drop = True)"
   ]
  },
  {
   "cell_type": "code",
   "execution_count": 20,
   "metadata": {},
   "outputs": [
    {
     "data": {
      "text/plain": [
       "0"
      ]
     },
     "execution_count": 20,
     "metadata": {},
     "output_type": "execute_result"
    }
   ],
   "source": [
    "game_actions.duplicated().sum()"
   ]
  },
  {
   "cell_type": "code",
   "execution_count": 21,
   "metadata": {},
   "outputs": [
    {
     "data": {
      "text/plain": [
       "0"
      ]
     },
     "execution_count": 21,
     "metadata": {},
     "output_type": "execute_result"
    }
   ],
   "source": [
    "ad_costs.duplicated().sum()"
   ]
  },
  {
   "cell_type": "code",
   "execution_count": 22,
   "metadata": {},
   "outputs": [
    {
     "data": {
      "text/plain": [
       "0"
      ]
     },
     "execution_count": 22,
     "metadata": {},
     "output_type": "execute_result"
    }
   ],
   "source": [
    "user_source.duplicated().sum()"
   ]
  },
  {
   "cell_type": "markdown",
   "metadata": {},
   "source": [
    "### Категоризация данных\n",
    "\n",
    "Завершение первого уровня требует от игрока выполнения одного из двух условий:\n",
    "\n",
    "- Победа над первым врагом\n",
    "- Реализация проекта - разработка орбитальной сборки спутников\n",
    "\n",
    "Получим список `user_id` всех игроков, завершивших 1 уровень:"
   ]
  },
  {
   "cell_type": "code",
   "execution_count": 23,
   "metadata": {},
   "outputs": [
    {
     "data": {
      "text/plain": [
       "5817"
      ]
     },
     "execution_count": 23,
     "metadata": {},
     "output_type": "execute_result"
    }
   ],
   "source": [
    "finished_stage_1_users = game_actions.query('event == \"finished_stage_1\"')['user_id'].tolist()\n",
    "len(finished_stage_1_users)"
   ]
  },
  {
   "cell_type": "markdown",
   "metadata": {},
   "source": [
    "И список `user_id` всех игроков, реализовавших проект:"
   ]
  },
  {
   "cell_type": "code",
   "execution_count": 24,
   "metadata": {},
   "outputs": [
    {
     "data": {
      "text/plain": [
       "1866"
      ]
     },
     "execution_count": 24,
     "metadata": {},
     "output_type": "execute_result"
    }
   ],
   "source": [
    "project_users = game_actions.query('event == \"project\"')['user_id'].tolist()\n",
    "len(project_users)"
   ]
  },
  {
   "cell_type": "markdown",
   "metadata": {},
   "source": [
    "5817 игроков завершили 1 уровень, из них 1866 - через реализацию проекта, остальные - победой над врагом.\n",
    "\n",
    "Общее количество игроков:"
   ]
  },
  {
   "cell_type": "code",
   "execution_count": 25,
   "metadata": {},
   "outputs": [
    {
     "data": {
      "text/plain": [
       "13576"
      ]
     },
     "execution_count": 25,
     "metadata": {},
     "output_type": "execute_result"
    }
   ],
   "source": [
    "game_actions['user_id'].nunique()"
   ]
  },
  {
   "cell_type": "code",
   "execution_count": 26,
   "metadata": {},
   "outputs": [
    {
     "data": {
      "text/plain": [
       "7759"
      ]
     },
     "execution_count": 26,
     "metadata": {},
     "output_type": "execute_result"
    }
   ],
   "source": [
    "game_actions['user_id'].nunique() - len(finished_stage_1_users)"
   ]
  },
  {
   "cell_type": "markdown",
   "metadata": {},
   "source": [
    "7759 игроков не завершили первый уровень.\n",
    "\n",
    "Присвоим каждому игроку категорию в зависмости от того, какую стратегию он использовал для завершения первого уровня:\n",
    "- 1 - Победа над первым врагом\n",
    "- 2 - Реализация проекта - разработка орбитальной сборки спутников\n",
    "- 0 - для игроков, которые пока не завершили 1 уровень"
   ]
  },
  {
   "cell_type": "code",
   "execution_count": 27,
   "metadata": {},
   "outputs": [],
   "source": [
    "def strategy(user_id):\n",
    "    \n",
    "    if (user_id in finished_stage_1_users) and not (user_id in project_users):\n",
    "        return 1\n",
    "    if user_id in project_users:\n",
    "        return 2\n",
    "    return 0 "
   ]
  },
  {
   "cell_type": "code",
   "execution_count": 28,
   "metadata": {},
   "outputs": [],
   "source": [
    "game_actions['category'] = game_actions['user_id'].apply(strategy)"
   ]
  },
  {
   "cell_type": "code",
   "execution_count": 29,
   "metadata": {},
   "outputs": [
    {
     "data": {
      "text/html": [
       "<div>\n",
       "<style scoped>\n",
       "    .dataframe tbody tr th:only-of-type {\n",
       "        vertical-align: middle;\n",
       "    }\n",
       "\n",
       "    .dataframe tbody tr th {\n",
       "        vertical-align: top;\n",
       "    }\n",
       "\n",
       "    .dataframe thead th {\n",
       "        text-align: right;\n",
       "    }\n",
       "</style>\n",
       "<table border=\"1\" class=\"dataframe\">\n",
       "  <thead>\n",
       "    <tr style=\"text-align: right;\">\n",
       "      <th></th>\n",
       "      <th>event_datetime</th>\n",
       "      <th>event</th>\n",
       "      <th>building_type</th>\n",
       "      <th>user_id</th>\n",
       "      <th>project_type</th>\n",
       "      <th>category</th>\n",
       "    </tr>\n",
       "  </thead>\n",
       "  <tbody>\n",
       "    <tr>\n",
       "      <td>0</td>\n",
       "      <td>2020-05-04 00:00:01</td>\n",
       "      <td>building</td>\n",
       "      <td>assembly_shop</td>\n",
       "      <td>55e92310-cb8e-4754-b622-597e124b03de</td>\n",
       "      <td>NaN</td>\n",
       "      <td>0</td>\n",
       "    </tr>\n",
       "    <tr>\n",
       "      <td>1</td>\n",
       "      <td>2020-05-04 00:00:03</td>\n",
       "      <td>building</td>\n",
       "      <td>assembly_shop</td>\n",
       "      <td>c07b1c10-f477-44dc-81dc-ec82254b1347</td>\n",
       "      <td>NaN</td>\n",
       "      <td>2</td>\n",
       "    </tr>\n",
       "    <tr>\n",
       "      <td>2</td>\n",
       "      <td>2020-05-04 00:00:16</td>\n",
       "      <td>building</td>\n",
       "      <td>assembly_shop</td>\n",
       "      <td>6edd42cc-e753-4ff6-a947-2107cd560710</td>\n",
       "      <td>NaN</td>\n",
       "      <td>1</td>\n",
       "    </tr>\n",
       "    <tr>\n",
       "      <td>3</td>\n",
       "      <td>2020-05-04 00:00:16</td>\n",
       "      <td>building</td>\n",
       "      <td>assembly_shop</td>\n",
       "      <td>92c69003-d60a-444a-827f-8cc51bf6bf4c</td>\n",
       "      <td>NaN</td>\n",
       "      <td>0</td>\n",
       "    </tr>\n",
       "    <tr>\n",
       "      <td>4</td>\n",
       "      <td>2020-05-04 00:00:35</td>\n",
       "      <td>building</td>\n",
       "      <td>assembly_shop</td>\n",
       "      <td>cdc6bb92-0ccb-4490-9866-ef142f09139d</td>\n",
       "      <td>NaN</td>\n",
       "      <td>1</td>\n",
       "    </tr>\n",
       "  </tbody>\n",
       "</table>\n",
       "</div>"
      ],
      "text/plain": [
       "       event_datetime     event  building_type  \\\n",
       "0 2020-05-04 00:00:01  building  assembly_shop   \n",
       "1 2020-05-04 00:00:03  building  assembly_shop   \n",
       "2 2020-05-04 00:00:16  building  assembly_shop   \n",
       "3 2020-05-04 00:00:16  building  assembly_shop   \n",
       "4 2020-05-04 00:00:35  building  assembly_shop   \n",
       "\n",
       "                                user_id project_type  category  \n",
       "0  55e92310-cb8e-4754-b622-597e124b03de          NaN         0  \n",
       "1  c07b1c10-f477-44dc-81dc-ec82254b1347          NaN         2  \n",
       "2  6edd42cc-e753-4ff6-a947-2107cd560710          NaN         1  \n",
       "3  92c69003-d60a-444a-827f-8cc51bf6bf4c          NaN         0  \n",
       "4  cdc6bb92-0ccb-4490-9866-ef142f09139d          NaN         1  "
      ]
     },
     "execution_count": 29,
     "metadata": {},
     "output_type": "execute_result"
    }
   ],
   "source": [
    "game_actions.head()"
   ]
  },
  {
   "cell_type": "markdown",
   "metadata": {},
   "source": [
    "Выведем статистику по категориям методом `value_counts()`:"
   ]
  },
  {
   "cell_type": "code",
   "execution_count": 30,
   "metadata": {},
   "outputs": [
    {
     "data": {
      "text/plain": [
       "0    7759\n",
       "1    3951\n",
       "2    1866\n",
       "Name: category, dtype: int64"
      ]
     },
     "execution_count": 30,
     "metadata": {},
     "output_type": "execute_result"
    }
   ],
   "source": [
    "game_actions[['user_id', 'category']].drop_duplicates()['category'].value_counts()"
   ]
  },
  {
   "cell_type": "markdown",
   "metadata": {},
   "source": [
    "7759 игроков не завершили первый уровень, 3951 завершили его победой над врагом, 1866 - через реализацию проекта."
   ]
  },
  {
   "cell_type": "markdown",
   "metadata": {},
   "source": [
    "\n",
    "Общее число пользователей сошлось - это дополнительный знак, что все сделано верно"
   ]
  },
  {
   "cell_type": "markdown",
   "metadata": {},
   "source": [
    "### Проверка данных на аномалии"
   ]
  },
  {
   "cell_type": "code",
   "execution_count": 31,
   "metadata": {},
   "outputs": [
    {
     "data": {
      "text/plain": [
       "Timestamp('2020-05-04 00:00:01')"
      ]
     },
     "execution_count": 31,
     "metadata": {},
     "output_type": "execute_result"
    }
   ],
   "source": [
    "game_actions['event_datetime'].min()"
   ]
  },
  {
   "cell_type": "code",
   "execution_count": 32,
   "metadata": {},
   "outputs": [
    {
     "data": {
      "text/plain": [
       "Timestamp('2020-06-05 12:32:49')"
      ]
     },
     "execution_count": 32,
     "metadata": {},
     "output_type": "execute_result"
    }
   ],
   "source": [
    "game_actions['event_datetime'].max()"
   ]
  },
  {
   "cell_type": "code",
   "execution_count": 33,
   "metadata": {},
   "outputs": [
    {
     "data": {
      "image/png": "[encoded data removed]",
      "text/plain": [
       "<Figure size 864x432 with 1 Axes>"
      ]
     },
     "metadata": {
      "needs_background": "light"
     },
     "output_type": "display_data"
    }
   ],
   "source": [
    "plt.figure(figsize=(12, 6))\n",
    "\n",
    "game_actions['event_datetime'].hist(bins=35)\n",
    "plt.title('гистограмма распределения событий по дате и времени')\n",
    "plt.xlabel('время события')\n",
    "plt.ylabel('число событий')\n",
    "\n",
    "plt.show()"
   ]
  },
  {
   "cell_type": "markdown",
   "metadata": {},
   "source": [
    "В таблице `game_actions` содержатся данные о событиях с 4 мая по 5 июня 2020. Известно, что это данные первых пользователей приложения — когорты пользователей, которые начали пользоваться приложением в период с 4 по 10 мая включительно. На гистограмме видно уменьшение числа событий после 11 мая: мы прекратили привлекать новых игроков и при этом часть старых уже могла завершить уровень."
   ]
  },
  {
   "cell_type": "markdown",
   "metadata": {},
   "source": [
    "Проверим, нет ли ошибок в столбцах `event`, `building_type` и `project_type`:"
   ]
  },
  {
   "cell_type": "code",
   "execution_count": 34,
   "metadata": {},
   "outputs": [
    {
     "data": {
      "text/plain": [
       "array(['building', 'finished_stage_1', 'project'], dtype=object)"
      ]
     },
     "execution_count": 34,
     "metadata": {},
     "output_type": "execute_result"
    }
   ],
   "source": [
    "game_actions['event'].unique()"
   ]
  },
  {
   "cell_type": "code",
   "execution_count": 35,
   "metadata": {},
   "outputs": [
    {
     "data": {
      "text/plain": [
       "array(['assembly_shop', 'spaceport', nan, 'research_center'], dtype=object)"
      ]
     },
     "execution_count": 35,
     "metadata": {},
     "output_type": "execute_result"
    }
   ],
   "source": [
    "game_actions['building_type'].unique()"
   ]
  },
  {
   "cell_type": "code",
   "execution_count": 36,
   "metadata": {},
   "outputs": [
    {
     "data": {
      "text/plain": [
       "array([nan, 'satellite_orbital_assembly'], dtype=object)"
      ]
     },
     "execution_count": 36,
     "metadata": {},
     "output_type": "execute_result"
    }
   ],
   "source": [
    "game_actions['project_type'].unique()"
   ]
  },
  {
   "cell_type": "markdown",
   "metadata": {},
   "source": [
    "Все значения соответствуют заявленным в условии, пропуски закономерны."
   ]
  },
  {
   "cell_type": "markdown",
   "metadata": {},
   "source": [
    "Посмотрим на таблицу рекламных расходов:"
   ]
  },
  {
   "cell_type": "code",
   "execution_count": 37,
   "metadata": {},
   "outputs": [
    {
     "data": {
      "text/html": [
       "<div>\n",
       "<style scoped>\n",
       "    .dataframe tbody tr th:only-of-type {\n",
       "        vertical-align: middle;\n",
       "    }\n",
       "\n",
       "    .dataframe tbody tr th {\n",
       "        vertical-align: top;\n",
       "    }\n",
       "\n",
       "    .dataframe thead th {\n",
       "        text-align: right;\n",
       "    }\n",
       "</style>\n",
       "<table border=\"1\" class=\"dataframe\">\n",
       "  <thead>\n",
       "    <tr style=\"text-align: right;\">\n",
       "      <th></th>\n",
       "      <th>cost</th>\n",
       "    </tr>\n",
       "  </thead>\n",
       "  <tbody>\n",
       "    <tr>\n",
       "      <td>count</td>\n",
       "      <td>28.000000</td>\n",
       "    </tr>\n",
       "    <tr>\n",
       "      <td>mean</td>\n",
       "      <td>271.556321</td>\n",
       "    </tr>\n",
       "    <tr>\n",
       "      <td>std</td>\n",
       "      <td>286.867650</td>\n",
       "    </tr>\n",
       "    <tr>\n",
       "      <td>min</td>\n",
       "      <td>23.314669</td>\n",
       "    </tr>\n",
       "    <tr>\n",
       "      <td>25%</td>\n",
       "      <td>66.747365</td>\n",
       "    </tr>\n",
       "    <tr>\n",
       "      <td>50%</td>\n",
       "      <td>160.056443</td>\n",
       "    </tr>\n",
       "    <tr>\n",
       "      <td>75%</td>\n",
       "      <td>349.034473</td>\n",
       "    </tr>\n",
       "    <tr>\n",
       "      <td>max</td>\n",
       "      <td>969.139394</td>\n",
       "    </tr>\n",
       "  </tbody>\n",
       "</table>\n",
       "</div>"
      ],
      "text/plain": [
       "             cost\n",
       "count   28.000000\n",
       "mean   271.556321\n",
       "std    286.867650\n",
       "min     23.314669\n",
       "25%     66.747365\n",
       "50%    160.056443\n",
       "75%    349.034473\n",
       "max    969.139394"
      ]
     },
     "execution_count": 37,
     "metadata": {},
     "output_type": "execute_result"
    }
   ],
   "source": [
    "ad_costs.describe()"
   ]
  },
  {
   "cell_type": "code",
   "execution_count": 38,
   "metadata": {},
   "outputs": [
    {
     "data": {
      "text/plain": [
       "(0, 1000)"
      ]
     },
     "execution_count": 38,
     "metadata": {},
     "output_type": "execute_result"
    },
    {
     "data": {
      "image/png": "[encoded data removed]",
      "text/plain": [
       "<Figure size 432x288 with 1 Axes>"
      ]
     },
     "metadata": {
      "needs_background": "light"
     },
     "output_type": "display_data"
    }
   ],
   "source": [
    "ad_costs.boxplot()\n",
    "\n",
    "plt.ylim(0, 1000)\n",
    " "
   ]
  },
  {
   "cell_type": "code",
   "execution_count": 39,
   "metadata": {},
   "outputs": [
    {
     "data": {
      "text/html": [
       "<div>\n",
       "<style scoped>\n",
       "    .dataframe tbody tr th:only-of-type {\n",
       "        vertical-align: middle;\n",
       "    }\n",
       "\n",
       "    .dataframe tbody tr th {\n",
       "        vertical-align: top;\n",
       "    }\n",
       "\n",
       "    .dataframe thead th {\n",
       "        text-align: right;\n",
       "    }\n",
       "</style>\n",
       "<table border=\"1\" class=\"dataframe\">\n",
       "  <thead>\n",
       "    <tr style=\"text-align: right;\">\n",
       "      <th></th>\n",
       "      <th>source</th>\n",
       "      <th>day</th>\n",
       "      <th>cost</th>\n",
       "    </tr>\n",
       "  </thead>\n",
       "  <tbody>\n",
       "    <tr>\n",
       "      <td>14</td>\n",
       "      <td>yandex_direct</td>\n",
       "      <td>2020-05-03</td>\n",
       "      <td>969.139394</td>\n",
       "    </tr>\n",
       "    <tr>\n",
       "      <td>7</td>\n",
       "      <td>instagram_new_adverts</td>\n",
       "      <td>2020-05-03</td>\n",
       "      <td>943.204717</td>\n",
       "    </tr>\n",
       "    <tr>\n",
       "      <td>0</td>\n",
       "      <td>facebook_ads</td>\n",
       "      <td>2020-05-03</td>\n",
       "      <td>935.882786</td>\n",
       "    </tr>\n",
       "    <tr>\n",
       "      <td>15</td>\n",
       "      <td>yandex_direct</td>\n",
       "      <td>2020-05-04</td>\n",
       "      <td>554.651494</td>\n",
       "    </tr>\n",
       "    <tr>\n",
       "      <td>1</td>\n",
       "      <td>facebook_ads</td>\n",
       "      <td>2020-05-04</td>\n",
       "      <td>548.354480</td>\n",
       "    </tr>\n",
       "  </tbody>\n",
       "</table>\n",
       "</div>"
      ],
      "text/plain": [
       "                   source        day        cost\n",
       "14          yandex_direct 2020-05-03  969.139394\n",
       "7   instagram_new_adverts 2020-05-03  943.204717\n",
       "0            facebook_ads 2020-05-03  935.882786\n",
       "15          yandex_direct 2020-05-04  554.651494\n",
       "1            facebook_ads 2020-05-04  548.354480"
      ]
     },
     "execution_count": 39,
     "metadata": {},
     "output_type": "execute_result"
    }
   ],
   "source": [
    "ad_costs.sort_values(by='cost', ascending=False).head()"
   ]
  },
  {
   "cell_type": "markdown",
   "metadata": {},
   "source": [
    "Выбросы значений расходов соответствуют началу рекламной кампании: 3 мая 2020, значения выглядят достоверно и к аномальным не относятся."
   ]
  },
  {
   "cell_type": "markdown",
   "metadata": {},
   "source": [
    "### Вывод\n",
    "\n",
    "Пропуски в столбцах `building_type` и `project_type` закономерны: нет типа здания там, где событие - не постройка объекта, и типа проекта, где событие - не реализация проекта. Других пропусков нет. На этапе предобработки привели данные о датах к нужному типу, удалили дубликаты, присвоили каждому игроку категорию в зависмости от того, какую стратегию он использовал для завершения первого уровня (добавили эти данные в таблицу `games_actions`). Аномалий в данных не выявлено."
   ]
  },
  {
   "cell_type": "markdown",
   "metadata": {},
   "source": [
    "## Исследовательский анализ данных\n",
    "\n",
    "Здесь важно оговорить наши допущения: отток = 0%"
   ]
  },
  {
   "cell_type": "markdown",
   "metadata": {},
   "source": [
    "### LTV на игрока при стоимости просмотра рекламы 0,07 USD (на экране с выбором постройки)\n",
    "\n",
    "Добавим в столбец `revenue` стоимость просмотра рекламы на экране с выбором типа объекта для постройки:"
   ]
  },
  {
   "cell_type": "code",
   "execution_count": 40,
   "metadata": {},
   "outputs": [],
   "source": [
    "def revenue(event):\n",
    "    if event == 'building':\n",
    "        return 0.07\n",
    "    return 0"
   ]
  },
  {
   "cell_type": "code",
   "execution_count": 41,
   "metadata": {},
   "outputs": [],
   "source": [
    "game_actions['revenue'] = game_actions['event'].apply(revenue)"
   ]
  },
  {
   "cell_type": "code",
   "execution_count": 42,
   "metadata": {},
   "outputs": [
    {
     "data": {
      "text/html": [
       "<div>\n",
       "<style scoped>\n",
       "    .dataframe tbody tr th:only-of-type {\n",
       "        vertical-align: middle;\n",
       "    }\n",
       "\n",
       "    .dataframe tbody tr th {\n",
       "        vertical-align: top;\n",
       "    }\n",
       "\n",
       "    .dataframe thead th {\n",
       "        text-align: right;\n",
       "    }\n",
       "</style>\n",
       "<table border=\"1\" class=\"dataframe\">\n",
       "  <thead>\n",
       "    <tr style=\"text-align: right;\">\n",
       "      <th></th>\n",
       "      <th>event_datetime</th>\n",
       "      <th>event</th>\n",
       "      <th>building_type</th>\n",
       "      <th>user_id</th>\n",
       "      <th>project_type</th>\n",
       "      <th>category</th>\n",
       "      <th>revenue</th>\n",
       "    </tr>\n",
       "  </thead>\n",
       "  <tbody>\n",
       "    <tr>\n",
       "      <td>135634</td>\n",
       "      <td>2020-06-05 00:08:06</td>\n",
       "      <td>building</td>\n",
       "      <td>research_center</td>\n",
       "      <td>f21d179f-1c4b-437e-b9c6-ab1976907195</td>\n",
       "      <td>NaN</td>\n",
       "      <td>1</td>\n",
       "      <td>0.07</td>\n",
       "    </tr>\n",
       "    <tr>\n",
       "      <td>135635</td>\n",
       "      <td>2020-06-05 02:25:12</td>\n",
       "      <td>finished_stage_1</td>\n",
       "      <td>NaN</td>\n",
       "      <td>515c1952-99aa-4bca-a7ea-d0449eb5385a</td>\n",
       "      <td>NaN</td>\n",
       "      <td>1</td>\n",
       "      <td>0.00</td>\n",
       "    </tr>\n",
       "    <tr>\n",
       "      <td>135636</td>\n",
       "      <td>2020-06-05 08:57:52</td>\n",
       "      <td>building</td>\n",
       "      <td>research_center</td>\n",
       "      <td>ed3e7d02-8a96-4be7-9998-e9813ff9c316</td>\n",
       "      <td>NaN</td>\n",
       "      <td>0</td>\n",
       "      <td>0.07</td>\n",
       "    </tr>\n",
       "    <tr>\n",
       "      <td>135637</td>\n",
       "      <td>2020-06-05 12:12:27</td>\n",
       "      <td>finished_stage_1</td>\n",
       "      <td>NaN</td>\n",
       "      <td>32572adb-900f-4b5d-a453-1eb1e6d88d8b</td>\n",
       "      <td>NaN</td>\n",
       "      <td>1</td>\n",
       "      <td>0.00</td>\n",
       "    </tr>\n",
       "    <tr>\n",
       "      <td>135638</td>\n",
       "      <td>2020-06-05 12:32:49</td>\n",
       "      <td>finished_stage_1</td>\n",
       "      <td>NaN</td>\n",
       "      <td>f21d179f-1c4b-437e-b9c6-ab1976907195</td>\n",
       "      <td>NaN</td>\n",
       "      <td>1</td>\n",
       "      <td>0.00</td>\n",
       "    </tr>\n",
       "  </tbody>\n",
       "</table>\n",
       "</div>"
      ],
      "text/plain": [
       "            event_datetime             event    building_type  \\\n",
       "135634 2020-06-05 00:08:06          building  research_center   \n",
       "135635 2020-06-05 02:25:12  finished_stage_1              NaN   \n",
       "135636 2020-06-05 08:57:52          building  research_center   \n",
       "135637 2020-06-05 12:12:27  finished_stage_1              NaN   \n",
       "135638 2020-06-05 12:32:49  finished_stage_1              NaN   \n",
       "\n",
       "                                     user_id project_type  category  revenue  \n",
       "135634  f21d179f-1c4b-437e-b9c6-ab1976907195          NaN         1     0.07  \n",
       "135635  515c1952-99aa-4bca-a7ea-d0449eb5385a          NaN         1     0.00  \n",
       "135636  ed3e7d02-8a96-4be7-9998-e9813ff9c316          NaN         0     0.07  \n",
       "135637  32572adb-900f-4b5d-a453-1eb1e6d88d8b          NaN         1     0.00  \n",
       "135638  f21d179f-1c4b-437e-b9c6-ab1976907195          NaN         1     0.00  "
      ]
     },
     "execution_count": 42,
     "metadata": {},
     "output_type": "execute_result"
    }
   ],
   "source": [
    "game_actions.tail()"
   ]
  },
  {
   "cell_type": "markdown",
   "metadata": {},
   "source": [
    "Общая сумма возможной прибыли:"
   ]
  },
  {
   "cell_type": "code",
   "execution_count": 43,
   "metadata": {},
   "outputs": [
    {
     "data": {
      "text/plain": [
       "8956.920000000004"
      ]
     },
     "execution_count": 43,
     "metadata": {},
     "output_type": "execute_result"
    }
   ],
   "source": [
    "game_actions['revenue'].sum()"
   ]
  },
  {
   "cell_type": "markdown",
   "metadata": {},
   "source": [
    "Найдём LTV. Разделим валовую прибыль на общее число пользователей:"
   ]
  },
  {
   "cell_type": "code",
   "execution_count": 44,
   "metadata": {},
   "outputs": [
    {
     "data": {
      "text/plain": [
       "0.6597613435474369"
      ]
     },
     "execution_count": 44,
     "metadata": {},
     "output_type": "execute_result"
    }
   ],
   "source": [
    "game_actions['revenue'].sum() / game_actions['user_id'].nunique()"
   ]
  },
  {
   "cell_type": "markdown",
   "metadata": {},
   "source": [
    "В среднем каждый игрок мог бы принести по 0,66 USD прибыли. Как эта величина зависит от стратегии, которую выбирает игрок для завершения 1 уровня:"
   ]
  },
  {
   "cell_type": "code",
   "execution_count": 45,
   "metadata": {},
   "outputs": [],
   "source": [
    "category_revenue = game_actions.groupby('category').agg({'revenue':'sum', 'user_id':'nunique'}).reset_index()"
   ]
  },
  {
   "cell_type": "code",
   "execution_count": 46,
   "metadata": {},
   "outputs": [
    {
     "data": {
      "text/html": [
       "<div>\n",
       "<style scoped>\n",
       "    .dataframe tbody tr th:only-of-type {\n",
       "        vertical-align: middle;\n",
       "    }\n",
       "\n",
       "    .dataframe tbody tr th {\n",
       "        vertical-align: top;\n",
       "    }\n",
       "\n",
       "    .dataframe thead th {\n",
       "        text-align: right;\n",
       "    }\n",
       "</style>\n",
       "<table border=\"1\" class=\"dataframe\">\n",
       "  <thead>\n",
       "    <tr style=\"text-align: right;\">\n",
       "      <th></th>\n",
       "      <th>category</th>\n",
       "      <th>revenue</th>\n",
       "      <th>user_id</th>\n",
       "      <th>ltv</th>\n",
       "    </tr>\n",
       "  </thead>\n",
       "  <tbody>\n",
       "    <tr>\n",
       "      <td>0</td>\n",
       "      <td>0</td>\n",
       "      <td>4701.90</td>\n",
       "      <td>7759</td>\n",
       "      <td>0.605993</td>\n",
       "    </tr>\n",
       "    <tr>\n",
       "      <td>1</td>\n",
       "      <td>1</td>\n",
       "      <td>2602.95</td>\n",
       "      <td>3951</td>\n",
       "      <td>0.658808</td>\n",
       "    </tr>\n",
       "    <tr>\n",
       "      <td>2</td>\n",
       "      <td>2</td>\n",
       "      <td>1652.07</td>\n",
       "      <td>1866</td>\n",
       "      <td>0.885354</td>\n",
       "    </tr>\n",
       "  </tbody>\n",
       "</table>\n",
       "</div>"
      ],
      "text/plain": [
       "   category  revenue  user_id       ltv\n",
       "0         0  4701.90     7759  0.605993\n",
       "1         1  2602.95     3951  0.658808\n",
       "2         2  1652.07     1866  0.885354"
      ]
     },
     "execution_count": 46,
     "metadata": {},
     "output_type": "execute_result"
    }
   ],
   "source": [
    "category_revenue['ltv'] = category_revenue['revenue'] / category_revenue['user_id']\n",
    "category_revenue"
   ]
  },
  {
   "cell_type": "code",
   "execution_count": 47,
   "metadata": {},
   "outputs": [
    {
     "data": {
      "image/png": "[encoded data removed]",
      "text/plain": [
       "<Figure size 1008x432 with 1 Axes>"
      ]
     },
     "metadata": {
      "needs_background": "light"
     },
     "output_type": "display_data"
    }
   ],
   "source": [
    "category_revenue.plot(kind='barh', y='ltv', x='category', legend=False,\n",
    "    figsize=(14, 6), grid=True,title='Cредний LTV на одного игрока по категориям')\n",
    "plt.xlabel('LTV, USD')\n",
    "plt.ylabel('')\n",
    "plt.yticks(\n",
    "    [0, 1, 2], ['Игроки, которые пока не завершили 1 уровень', 'Победа над первым врагом', 'Реализация проекта'])\n",
    "plt.show()"
   ]
  },
  {
   "cell_type": "markdown",
   "metadata": {},
   "source": [
    "Те, кто завершает уровень через реализацию проекта, могут принести больше прибыли (в среднем 0,88 USD), чем те, кто завершает уровень победой над врагом (0,66 USD)."
   ]
  },
  {
   "cell_type": "markdown",
   "metadata": {},
   "source": [
    "\n",
    "Нужно повысить привлекательность pve cтратегии для игроков: ввести какие-то дополнительные бонусы, зарабатываемые на этом пути. Возможно стоит изменить позиционирование игры среди потенциальных пользователей: в рекламе сделать упор на увлекательный путь строительства, чтобы привлечь тех пользователей, которым ближе эта стратегия."
   ]
  },
  {
   "cell_type": "markdown",
   "metadata": {},
   "source": [
    "### Общая сумма расходов на маркетинг"
   ]
  },
  {
   "cell_type": "code",
   "execution_count": 48,
   "metadata": {},
   "outputs": [
    {
     "data": {
      "text/plain": [
       "7603.576986788022"
      ]
     },
     "execution_count": 48,
     "metadata": {},
     "output_type": "execute_result"
    }
   ],
   "source": [
    "ad_costs['cost'].sum()"
   ]
  },
  {
   "cell_type": "markdown",
   "metadata": {},
   "source": [
    "При этом общая сумма расходов на маркетинг составила 7603,58 USD."
   ]
  },
  {
   "cell_type": "markdown",
   "metadata": {},
   "source": [
    "### Cредний CAC на одного игрока "
   ]
  },
  {
   "cell_type": "markdown",
   "metadata": {},
   "source": [
    "Для всего проекта: поделим расходы на количество игроков:"
   ]
  },
  {
   "cell_type": "code",
   "execution_count": 49,
   "metadata": {},
   "outputs": [
    {
     "data": {
      "text/plain": [
       "0.5600749106355349"
      ]
     },
     "execution_count": 49,
     "metadata": {},
     "output_type": "execute_result"
    }
   ],
   "source": [
    "ad_costs['cost'].sum() / game_actions['user_id'].nunique()"
   ]
  },
  {
   "cell_type": "markdown",
   "metadata": {},
   "source": [
    "Привлечение одного игрока в среднем обошлось компании в 0,56 USD. Возможная прибыль с каждого из них: 0,66 USD. То есть вложения в привлечение могли окупиться.\n",
    "\n",
    "Чтобы посчитать средний САС на одного игрока для каждого источника трафика добавим в таблицу `game_actions` данные об источниках трафика из таблицы `user_source`:"
   ]
  },
  {
   "cell_type": "code",
   "execution_count": 50,
   "metadata": {},
   "outputs": [],
   "source": [
    "game_actions = game_actions.merge(user_source, on='user_id', how='left')"
   ]
  },
  {
   "cell_type": "code",
   "execution_count": 51,
   "metadata": {},
   "outputs": [
    {
     "data": {
      "text/html": [
       "<div>\n",
       "<style scoped>\n",
       "    .dataframe tbody tr th:only-of-type {\n",
       "        vertical-align: middle;\n",
       "    }\n",
       "\n",
       "    .dataframe tbody tr th {\n",
       "        vertical-align: top;\n",
       "    }\n",
       "\n",
       "    .dataframe thead th {\n",
       "        text-align: right;\n",
       "    }\n",
       "</style>\n",
       "<table border=\"1\" class=\"dataframe\">\n",
       "  <thead>\n",
       "    <tr style=\"text-align: right;\">\n",
       "      <th></th>\n",
       "      <th>event_datetime</th>\n",
       "      <th>event</th>\n",
       "      <th>building_type</th>\n",
       "      <th>user_id</th>\n",
       "      <th>project_type</th>\n",
       "      <th>category</th>\n",
       "      <th>revenue</th>\n",
       "      <th>source</th>\n",
       "    </tr>\n",
       "  </thead>\n",
       "  <tbody>\n",
       "    <tr>\n",
       "      <td>0</td>\n",
       "      <td>2020-05-04 00:00:01</td>\n",
       "      <td>building</td>\n",
       "      <td>assembly_shop</td>\n",
       "      <td>55e92310-cb8e-4754-b622-597e124b03de</td>\n",
       "      <td>NaN</td>\n",
       "      <td>0</td>\n",
       "      <td>0.07</td>\n",
       "      <td>youtube_channel_reklama</td>\n",
       "    </tr>\n",
       "    <tr>\n",
       "      <td>1</td>\n",
       "      <td>2020-05-04 00:00:03</td>\n",
       "      <td>building</td>\n",
       "      <td>assembly_shop</td>\n",
       "      <td>c07b1c10-f477-44dc-81dc-ec82254b1347</td>\n",
       "      <td>NaN</td>\n",
       "      <td>2</td>\n",
       "      <td>0.07</td>\n",
       "      <td>facebook_ads</td>\n",
       "    </tr>\n",
       "    <tr>\n",
       "      <td>2</td>\n",
       "      <td>2020-05-04 00:00:16</td>\n",
       "      <td>building</td>\n",
       "      <td>assembly_shop</td>\n",
       "      <td>6edd42cc-e753-4ff6-a947-2107cd560710</td>\n",
       "      <td>NaN</td>\n",
       "      <td>1</td>\n",
       "      <td>0.07</td>\n",
       "      <td>instagram_new_adverts</td>\n",
       "    </tr>\n",
       "    <tr>\n",
       "      <td>3</td>\n",
       "      <td>2020-05-04 00:00:16</td>\n",
       "      <td>building</td>\n",
       "      <td>assembly_shop</td>\n",
       "      <td>92c69003-d60a-444a-827f-8cc51bf6bf4c</td>\n",
       "      <td>NaN</td>\n",
       "      <td>0</td>\n",
       "      <td>0.07</td>\n",
       "      <td>facebook_ads</td>\n",
       "    </tr>\n",
       "    <tr>\n",
       "      <td>4</td>\n",
       "      <td>2020-05-04 00:00:35</td>\n",
       "      <td>building</td>\n",
       "      <td>assembly_shop</td>\n",
       "      <td>cdc6bb92-0ccb-4490-9866-ef142f09139d</td>\n",
       "      <td>NaN</td>\n",
       "      <td>1</td>\n",
       "      <td>0.07</td>\n",
       "      <td>yandex_direct</td>\n",
       "    </tr>\n",
       "  </tbody>\n",
       "</table>\n",
       "</div>"
      ],
      "text/plain": [
       "       event_datetime     event  building_type  \\\n",
       "0 2020-05-04 00:00:01  building  assembly_shop   \n",
       "1 2020-05-04 00:00:03  building  assembly_shop   \n",
       "2 2020-05-04 00:00:16  building  assembly_shop   \n",
       "3 2020-05-04 00:00:16  building  assembly_shop   \n",
       "4 2020-05-04 00:00:35  building  assembly_shop   \n",
       "\n",
       "                                user_id project_type  category  revenue  \\\n",
       "0  55e92310-cb8e-4754-b622-597e124b03de          NaN         0     0.07   \n",
       "1  c07b1c10-f477-44dc-81dc-ec82254b1347          NaN         2     0.07   \n",
       "2  6edd42cc-e753-4ff6-a947-2107cd560710          NaN         1     0.07   \n",
       "3  92c69003-d60a-444a-827f-8cc51bf6bf4c          NaN         0     0.07   \n",
       "4  cdc6bb92-0ccb-4490-9866-ef142f09139d          NaN         1     0.07   \n",
       "\n",
       "                    source  \n",
       "0  youtube_channel_reklama  \n",
       "1             facebook_ads  \n",
       "2    instagram_new_adverts  \n",
       "3             facebook_ads  \n",
       "4            yandex_direct  "
      ]
     },
     "execution_count": 51,
     "metadata": {},
     "output_type": "execute_result"
    }
   ],
   "source": [
    "game_actions.head()"
   ]
  },
  {
   "cell_type": "markdown",
   "metadata": {},
   "source": [
    "Расходы на каждый источник трафика:"
   ]
  },
  {
   "cell_type": "code",
   "execution_count": 52,
   "metadata": {},
   "outputs": [
    {
     "data": {
      "text/html": [
       "<div>\n",
       "<style scoped>\n",
       "    .dataframe tbody tr th:only-of-type {\n",
       "        vertical-align: middle;\n",
       "    }\n",
       "\n",
       "    .dataframe tbody tr th {\n",
       "        vertical-align: top;\n",
       "    }\n",
       "\n",
       "    .dataframe thead th {\n",
       "        text-align: right;\n",
       "    }\n",
       "</style>\n",
       "<table border=\"1\" class=\"dataframe\">\n",
       "  <thead>\n",
       "    <tr style=\"text-align: right;\">\n",
       "      <th></th>\n",
       "      <th>source</th>\n",
       "      <th>cost</th>\n",
       "    </tr>\n",
       "  </thead>\n",
       "  <tbody>\n",
       "    <tr>\n",
       "      <td>0</td>\n",
       "      <td>facebook_ads</td>\n",
       "      <td>2140.904643</td>\n",
       "    </tr>\n",
       "    <tr>\n",
       "      <td>1</td>\n",
       "      <td>instagram_new_adverts</td>\n",
       "      <td>2161.441691</td>\n",
       "    </tr>\n",
       "    <tr>\n",
       "      <td>2</td>\n",
       "      <td>yandex_direct</td>\n",
       "      <td>2233.111449</td>\n",
       "    </tr>\n",
       "    <tr>\n",
       "      <td>3</td>\n",
       "      <td>youtube_channel_reklama</td>\n",
       "      <td>1068.119204</td>\n",
       "    </tr>\n",
       "  </tbody>\n",
       "</table>\n",
       "</div>"
      ],
      "text/plain": [
       "                    source         cost\n",
       "0             facebook_ads  2140.904643\n",
       "1    instagram_new_adverts  2161.441691\n",
       "2            yandex_direct  2233.111449\n",
       "3  youtube_channel_reklama  1068.119204"
      ]
     },
     "execution_count": 52,
     "metadata": {},
     "output_type": "execute_result"
    }
   ],
   "source": [
    "source_costs = ad_costs.groupby('source')['cost'].sum().reset_index()\n",
    "source_costs.columns = ['source', 'cost']\n",
    "source_costs"
   ]
  },
  {
   "cell_type": "markdown",
   "metadata": {},
   "source": [
    "Количество игроков, пришедших с каждого источника:"
   ]
  },
  {
   "cell_type": "code",
   "execution_count": 53,
   "metadata": {},
   "outputs": [
    {
     "data": {
      "text/html": [
       "<div>\n",
       "<style scoped>\n",
       "    .dataframe tbody tr th:only-of-type {\n",
       "        vertical-align: middle;\n",
       "    }\n",
       "\n",
       "    .dataframe tbody tr th {\n",
       "        vertical-align: top;\n",
       "    }\n",
       "\n",
       "    .dataframe thead th {\n",
       "        text-align: right;\n",
       "    }\n",
       "</style>\n",
       "<table border=\"1\" class=\"dataframe\">\n",
       "  <thead>\n",
       "    <tr style=\"text-align: right;\">\n",
       "      <th></th>\n",
       "      <th>source</th>\n",
       "      <th>users</th>\n",
       "    </tr>\n",
       "  </thead>\n",
       "  <tbody>\n",
       "    <tr>\n",
       "      <td>0</td>\n",
       "      <td>facebook_ads</td>\n",
       "      <td>2726</td>\n",
       "    </tr>\n",
       "    <tr>\n",
       "      <td>1</td>\n",
       "      <td>instagram_new_adverts</td>\n",
       "      <td>3347</td>\n",
       "    </tr>\n",
       "    <tr>\n",
       "      <td>2</td>\n",
       "      <td>yandex_direct</td>\n",
       "      <td>4817</td>\n",
       "    </tr>\n",
       "    <tr>\n",
       "      <td>3</td>\n",
       "      <td>youtube_channel_reklama</td>\n",
       "      <td>2686</td>\n",
       "    </tr>\n",
       "  </tbody>\n",
       "</table>\n",
       "</div>"
      ],
      "text/plain": [
       "                    source  users\n",
       "0             facebook_ads   2726\n",
       "1    instagram_new_adverts   3347\n",
       "2            yandex_direct   4817\n",
       "3  youtube_channel_reklama   2686"
      ]
     },
     "execution_count": 53,
     "metadata": {},
     "output_type": "execute_result"
    }
   ],
   "source": [
    "source_users = game_actions.groupby('source')['user_id'].nunique().reset_index()\n",
    "source_users.columns = ['source', 'users']\n",
    "source_users"
   ]
  },
  {
   "cell_type": "code",
   "execution_count": 54,
   "metadata": {},
   "outputs": [
    {
     "data": {
      "text/html": [
       "<div>\n",
       "<style scoped>\n",
       "    .dataframe tbody tr th:only-of-type {\n",
       "        vertical-align: middle;\n",
       "    }\n",
       "\n",
       "    .dataframe tbody tr th {\n",
       "        vertical-align: top;\n",
       "    }\n",
       "\n",
       "    .dataframe thead th {\n",
       "        text-align: right;\n",
       "    }\n",
       "</style>\n",
       "<table border=\"1\" class=\"dataframe\">\n",
       "  <thead>\n",
       "    <tr style=\"text-align: right;\">\n",
       "      <th></th>\n",
       "      <th>source</th>\n",
       "      <th>cost</th>\n",
       "      <th>users</th>\n",
       "    </tr>\n",
       "  </thead>\n",
       "  <tbody>\n",
       "    <tr>\n",
       "      <td>0</td>\n",
       "      <td>facebook_ads</td>\n",
       "      <td>2140.904643</td>\n",
       "      <td>2726</td>\n",
       "    </tr>\n",
       "    <tr>\n",
       "      <td>1</td>\n",
       "      <td>instagram_new_adverts</td>\n",
       "      <td>2161.441691</td>\n",
       "      <td>3347</td>\n",
       "    </tr>\n",
       "    <tr>\n",
       "      <td>2</td>\n",
       "      <td>yandex_direct</td>\n",
       "      <td>2233.111449</td>\n",
       "      <td>4817</td>\n",
       "    </tr>\n",
       "    <tr>\n",
       "      <td>3</td>\n",
       "      <td>youtube_channel_reklama</td>\n",
       "      <td>1068.119204</td>\n",
       "      <td>2686</td>\n",
       "    </tr>\n",
       "  </tbody>\n",
       "</table>\n",
       "</div>"
      ],
      "text/plain": [
       "                    source         cost  users\n",
       "0             facebook_ads  2140.904643   2726\n",
       "1    instagram_new_adverts  2161.441691   3347\n",
       "2            yandex_direct  2233.111449   4817\n",
       "3  youtube_channel_reklama  1068.119204   2686"
      ]
     },
     "execution_count": 54,
     "metadata": {},
     "output_type": "execute_result"
    }
   ],
   "source": [
    "source_pivot = pd.merge(source_costs, source_users)\n",
    "source_pivot"
   ]
  },
  {
   "cell_type": "code",
   "execution_count": 55,
   "metadata": {},
   "outputs": [
    {
     "data": {
      "text/html": [
       "<div>\n",
       "<style scoped>\n",
       "    .dataframe tbody tr th:only-of-type {\n",
       "        vertical-align: middle;\n",
       "    }\n",
       "\n",
       "    .dataframe tbody tr th {\n",
       "        vertical-align: top;\n",
       "    }\n",
       "\n",
       "    .dataframe thead th {\n",
       "        text-align: right;\n",
       "    }\n",
       "</style>\n",
       "<table border=\"1\" class=\"dataframe\">\n",
       "  <thead>\n",
       "    <tr style=\"text-align: right;\">\n",
       "      <th></th>\n",
       "      <th>source</th>\n",
       "      <th>cost</th>\n",
       "      <th>users</th>\n",
       "      <th>cac</th>\n",
       "    </tr>\n",
       "  </thead>\n",
       "  <tbody>\n",
       "    <tr>\n",
       "      <td>3</td>\n",
       "      <td>youtube_channel_reklama</td>\n",
       "      <td>1068.119204</td>\n",
       "      <td>2686</td>\n",
       "      <td>0.397662</td>\n",
       "    </tr>\n",
       "    <tr>\n",
       "      <td>2</td>\n",
       "      <td>yandex_direct</td>\n",
       "      <td>2233.111449</td>\n",
       "      <td>4817</td>\n",
       "      <td>0.463590</td>\n",
       "    </tr>\n",
       "    <tr>\n",
       "      <td>1</td>\n",
       "      <td>instagram_new_adverts</td>\n",
       "      <td>2161.441691</td>\n",
       "      <td>3347</td>\n",
       "      <td>0.645785</td>\n",
       "    </tr>\n",
       "    <tr>\n",
       "      <td>0</td>\n",
       "      <td>facebook_ads</td>\n",
       "      <td>2140.904643</td>\n",
       "      <td>2726</td>\n",
       "      <td>0.785365</td>\n",
       "    </tr>\n",
       "  </tbody>\n",
       "</table>\n",
       "</div>"
      ],
      "text/plain": [
       "                    source         cost  users       cac\n",
       "3  youtube_channel_reklama  1068.119204   2686  0.397662\n",
       "2            yandex_direct  2233.111449   4817  0.463590\n",
       "1    instagram_new_adverts  2161.441691   3347  0.645785\n",
       "0             facebook_ads  2140.904643   2726  0.785365"
      ]
     },
     "execution_count": 55,
     "metadata": {},
     "output_type": "execute_result"
    }
   ],
   "source": [
    "source_pivot['cac'] = source_pivot['cost'] / source_pivot['users']\n",
    "source_pivot.sort_values(by='cac')"
   ]
  },
  {
   "cell_type": "markdown",
   "metadata": {},
   "source": [
    "Средний САС на одного пользователя различается для разных источников: от 0,40 для `youtube_channel_reklama` до 0,78 для `facebook_ads`."
   ]
  },
  {
   "cell_type": "code",
   "execution_count": 56,
   "metadata": {},
   "outputs": [
    {
     "data": {
      "image/png": "[encoded data removed]",
      "text/plain": [
       "<Figure size 1008x432 with 1 Axes>"
      ]
     },
     "metadata": {
      "needs_background": "light"
     },
     "output_type": "display_data"
    }
   ],
   "source": [
    "source_pivot.plot(kind='barh', y='cac', x='source', legend=False,\n",
    "    figsize=(14, 6), grid=True,title='Cредний CAC на одного игрока для разных источников')\n",
    "plt.xlabel('САС, USD')\n",
    "plt.ylabel('')\n",
    "plt.show()"
   ]
  },
  {
   "cell_type": "markdown",
   "metadata": {},
   "source": [
    "\n",
    "Самая большая стоимость привлечения - в `facebook_ads`, почти в 2 раза больше, чем у самого дешёвого источника - `youtube_channel_reklama`: стоит обратить внимание на окупаемость."
   ]
  },
  {
   "cell_type": "markdown",
   "metadata": {},
   "source": [
    "### ROMI в разрезе источников\n",
    "\n",
    "Рассчитаем ROMI(показатель окупаемости инвестиций в маркетинг): поделим LTV на CAC."
   ]
  },
  {
   "cell_type": "code",
   "execution_count": 57,
   "metadata": {},
   "outputs": [
    {
     "data": {
      "text/html": [
       "<div>\n",
       "<style scoped>\n",
       "    .dataframe tbody tr th:only-of-type {\n",
       "        vertical-align: middle;\n",
       "    }\n",
       "\n",
       "    .dataframe tbody tr th {\n",
       "        vertical-align: top;\n",
       "    }\n",
       "\n",
       "    .dataframe thead th {\n",
       "        text-align: right;\n",
       "    }\n",
       "</style>\n",
       "<table border=\"1\" class=\"dataframe\">\n",
       "  <thead>\n",
       "    <tr style=\"text-align: right;\">\n",
       "      <th></th>\n",
       "      <th>source</th>\n",
       "      <th>revenue</th>\n",
       "    </tr>\n",
       "  </thead>\n",
       "  <tbody>\n",
       "    <tr>\n",
       "      <td>0</td>\n",
       "      <td>facebook_ads</td>\n",
       "      <td>1829.17</td>\n",
       "    </tr>\n",
       "    <tr>\n",
       "      <td>1</td>\n",
       "      <td>instagram_new_adverts</td>\n",
       "      <td>2227.05</td>\n",
       "    </tr>\n",
       "    <tr>\n",
       "      <td>2</td>\n",
       "      <td>yandex_direct</td>\n",
       "      <td>3152.24</td>\n",
       "    </tr>\n",
       "    <tr>\n",
       "      <td>3</td>\n",
       "      <td>youtube_channel_reklama</td>\n",
       "      <td>1748.46</td>\n",
       "    </tr>\n",
       "  </tbody>\n",
       "</table>\n",
       "</div>"
      ],
      "text/plain": [
       "                    source  revenue\n",
       "0             facebook_ads  1829.17\n",
       "1    instagram_new_adverts  2227.05\n",
       "2            yandex_direct  3152.24\n",
       "3  youtube_channel_reklama  1748.46"
      ]
     },
     "execution_count": 57,
     "metadata": {},
     "output_type": "execute_result"
    }
   ],
   "source": [
    "source_revenue = game_actions.groupby('source')['revenue'].sum().reset_index()\n",
    "source_revenue"
   ]
  },
  {
   "cell_type": "code",
   "execution_count": 58,
   "metadata": {},
   "outputs": [
    {
     "data": {
      "text/html": [
       "<div>\n",
       "<style scoped>\n",
       "    .dataframe tbody tr th:only-of-type {\n",
       "        vertical-align: middle;\n",
       "    }\n",
       "\n",
       "    .dataframe tbody tr th {\n",
       "        vertical-align: top;\n",
       "    }\n",
       "\n",
       "    .dataframe thead th {\n",
       "        text-align: right;\n",
       "    }\n",
       "</style>\n",
       "<table border=\"1\" class=\"dataframe\">\n",
       "  <thead>\n",
       "    <tr style=\"text-align: right;\">\n",
       "      <th></th>\n",
       "      <th>source</th>\n",
       "      <th>cost</th>\n",
       "      <th>users</th>\n",
       "      <th>cac</th>\n",
       "      <th>revenue</th>\n",
       "    </tr>\n",
       "  </thead>\n",
       "  <tbody>\n",
       "    <tr>\n",
       "      <td>0</td>\n",
       "      <td>facebook_ads</td>\n",
       "      <td>2140.904643</td>\n",
       "      <td>2726</td>\n",
       "      <td>0.785365</td>\n",
       "      <td>1829.17</td>\n",
       "    </tr>\n",
       "    <tr>\n",
       "      <td>1</td>\n",
       "      <td>instagram_new_adverts</td>\n",
       "      <td>2161.441691</td>\n",
       "      <td>3347</td>\n",
       "      <td>0.645785</td>\n",
       "      <td>2227.05</td>\n",
       "    </tr>\n",
       "    <tr>\n",
       "      <td>2</td>\n",
       "      <td>yandex_direct</td>\n",
       "      <td>2233.111449</td>\n",
       "      <td>4817</td>\n",
       "      <td>0.463590</td>\n",
       "      <td>3152.24</td>\n",
       "    </tr>\n",
       "    <tr>\n",
       "      <td>3</td>\n",
       "      <td>youtube_channel_reklama</td>\n",
       "      <td>1068.119204</td>\n",
       "      <td>2686</td>\n",
       "      <td>0.397662</td>\n",
       "      <td>1748.46</td>\n",
       "    </tr>\n",
       "  </tbody>\n",
       "</table>\n",
       "</div>"
      ],
      "text/plain": [
       "                    source         cost  users       cac  revenue\n",
       "0             facebook_ads  2140.904643   2726  0.785365  1829.17\n",
       "1    instagram_new_adverts  2161.441691   3347  0.645785  2227.05\n",
       "2            yandex_direct  2233.111449   4817  0.463590  3152.24\n",
       "3  youtube_channel_reklama  1068.119204   2686  0.397662  1748.46"
      ]
     },
     "execution_count": 58,
     "metadata": {},
     "output_type": "execute_result"
    }
   ],
   "source": [
    "source_pivot = pd.merge(source_pivot, source_revenue)\n",
    "source_pivot"
   ]
  },
  {
   "cell_type": "code",
   "execution_count": 59,
   "metadata": {},
   "outputs": [
    {
     "data": {
      "text/html": [
       "<div>\n",
       "<style scoped>\n",
       "    .dataframe tbody tr th:only-of-type {\n",
       "        vertical-align: middle;\n",
       "    }\n",
       "\n",
       "    .dataframe tbody tr th {\n",
       "        vertical-align: top;\n",
       "    }\n",
       "\n",
       "    .dataframe thead th {\n",
       "        text-align: right;\n",
       "    }\n",
       "</style>\n",
       "<table border=\"1\" class=\"dataframe\">\n",
       "  <thead>\n",
       "    <tr style=\"text-align: right;\">\n",
       "      <th></th>\n",
       "      <th>source</th>\n",
       "      <th>cost</th>\n",
       "      <th>users</th>\n",
       "      <th>cac</th>\n",
       "      <th>revenue</th>\n",
       "      <th>ltv</th>\n",
       "      <th>romi</th>\n",
       "    </tr>\n",
       "  </thead>\n",
       "  <tbody>\n",
       "    <tr>\n",
       "      <td>0</td>\n",
       "      <td>facebook_ads</td>\n",
       "      <td>2140.904643</td>\n",
       "      <td>2726</td>\n",
       "      <td>0.785365</td>\n",
       "      <td>1829.17</td>\n",
       "      <td>0.671009</td>\n",
       "      <td>0.854391</td>\n",
       "    </tr>\n",
       "    <tr>\n",
       "      <td>1</td>\n",
       "      <td>instagram_new_adverts</td>\n",
       "      <td>2161.441691</td>\n",
       "      <td>3347</td>\n",
       "      <td>0.645785</td>\n",
       "      <td>2227.05</td>\n",
       "      <td>0.665387</td>\n",
       "      <td>1.030354</td>\n",
       "    </tr>\n",
       "    <tr>\n",
       "      <td>2</td>\n",
       "      <td>yandex_direct</td>\n",
       "      <td>2233.111449</td>\n",
       "      <td>4817</td>\n",
       "      <td>0.463590</td>\n",
       "      <td>3152.24</td>\n",
       "      <td>0.654399</td>\n",
       "      <td>1.411591</td>\n",
       "    </tr>\n",
       "    <tr>\n",
       "      <td>3</td>\n",
       "      <td>youtube_channel_reklama</td>\n",
       "      <td>1068.119204</td>\n",
       "      <td>2686</td>\n",
       "      <td>0.397662</td>\n",
       "      <td>1748.46</td>\n",
       "      <td>0.650953</td>\n",
       "      <td>1.636952</td>\n",
       "    </tr>\n",
       "  </tbody>\n",
       "</table>\n",
       "</div>"
      ],
      "text/plain": [
       "                    source         cost  users       cac  revenue       ltv  \\\n",
       "0             facebook_ads  2140.904643   2726  0.785365  1829.17  0.671009   \n",
       "1    instagram_new_adverts  2161.441691   3347  0.645785  2227.05  0.665387   \n",
       "2            yandex_direct  2233.111449   4817  0.463590  3152.24  0.654399   \n",
       "3  youtube_channel_reklama  1068.119204   2686  0.397662  1748.46  0.650953   \n",
       "\n",
       "       romi  \n",
       "0  0.854391  \n",
       "1  1.030354  \n",
       "2  1.411591  \n",
       "3  1.636952  "
      ]
     },
     "execution_count": 59,
     "metadata": {},
     "output_type": "execute_result"
    }
   ],
   "source": [
    "source_pivot['ltv'] = source_pivot['revenue'] / source_pivot['users']\n",
    "source_pivot['romi'] = source_pivot['ltv'] / source_pivot['cac']\n",
    "source_pivot"
   ]
  },
  {
   "cell_type": "markdown",
   "metadata": {},
   "source": [
    "Для все источников, кроме `facebook_ads` ROMI > 1."
   ]
  },
  {
   "cell_type": "code",
   "execution_count": 60,
   "metadata": {},
   "outputs": [
    {
     "data": {
      "image/png": "[encoded data removed]",
      "text/plain": [
       "<Figure size 1008x432 with 1 Axes>"
      ]
     },
     "metadata": {
      "needs_background": "light"
     },
     "output_type": "display_data"
    }
   ],
   "source": [
    "source_pivot.plot(kind='barh', y=['cac', 'ltv'], x='source', legend=True,\n",
    "    figsize=(14, 6), grid=True,title='Cредние значения LTV, CAC на одного игрока для разных источников')\n",
    "plt.xlabel('USD')\n",
    "plt.ylabel('')\n",
    "plt.show()"
   ]
  },
  {
   "cell_type": "code",
   "execution_count": 61,
   "metadata": {},
   "outputs": [
    {
     "data": {
      "image/png": "[encoded data removed]",
      "text/plain": [
       "<Figure size 1008x432 with 1 Axes>"
      ]
     },
     "metadata": {
      "needs_background": "light"
     },
     "output_type": "display_data"
    }
   ],
   "source": [
    "source_pivot.plot(kind='barh', y='romi', x='source', legend=False,\n",
    "    figsize=(14, 6), grid=True,title='Cредние значения ROMI на одного игрока для разных источников')\n",
    "plt.xlabel('')\n",
    "plt.ylabel('')\n",
    "plt.show()"
   ]
  },
  {
   "cell_type": "markdown",
   "metadata": {},
   "source": [
    "Cредний показатель ROMI для всего проекта без учёта источника трафика:"
   ]
  },
  {
   "cell_type": "code",
   "execution_count": 62,
   "metadata": {},
   "outputs": [
    {
     "data": {
      "text/plain": [
       "1.1779876781105239"
      ]
     },
     "execution_count": 62,
     "metadata": {},
     "output_type": "execute_result"
    }
   ],
   "source": [
    "source_pivot['revenue'].sum() / source_pivot['cost'].sum()"
   ]
  },
  {
   "cell_type": "markdown",
   "metadata": {},
   "source": [
    "Cредний показатель окупаемости инвестиций в маркетинг 1,18: затраты окупаются и приносят прибыль сверху."
   ]
  },
  {
   "cell_type": "markdown",
   "metadata": {},
   "source": [
    "### Вывод\n",
    "\n",
    "Основная монетизация игры — только планируется. Но предполагается, что в приложении будет происходить показ рекламы на экране с выбором типа объекта для постройки. При стоимости просмотра рекламы 0,07 USD в среднем каждый игрок мог бы принести по 0,66 USD прибыли. Те, кто завершает уровень через реализацию проекта, могут принести больше прибыли (в среднем 0,88 USD), чем те, кто завершает уровень победой над врагом (0,66 USD): нужно повысить привлекательность pve-стратегии для игроков (дополнительными бонусами, например).\n",
    "Общая сумма расходов на маркетинг составила 7603,58 USD. Привлечение одного игрока в среднем обошлось компании в 0,56 USD.\n",
    "Показатель окупаемости в среднем по всему проекту 1,18 : предполагаемая модель монетизации может приносить прибыль.  Стоимость привлечения и ROMI различается для разных источников, при этом окупаются все источники, кроме `facebook_ads` - рекомендую уменьшить расходы на него в пользу других."
   ]
  },
  {
   "cell_type": "markdown",
   "metadata": {},
   "source": [
    "## Влияние событий на совершение целевого события\n",
    "\n",
    "Целевым событием является завершение игроком 1 уровня."
   ]
  },
  {
   "cell_type": "markdown",
   "metadata": {},
   "source": [
    "### Сколько игроков завершили 1 уровень?\n",
    "\n",
    "На этапе предобработки присвоили каждому игроку категорию в зависмости от того, какую стратегию он использовал для завершения первого уровня: 1 - победа над первым врагом;\n",
    "2 - реализация проекта - разработка орбитальной сборки спутников;\n",
    "0 - для игроков, которые пока не завершили 1 уровень.\n",
    "\n",
    "Для дальнейшего анализа нам интересны игроки, завершившие 1 уровень: категории 1 и 2."
   ]
  },
  {
   "cell_type": "code",
   "execution_count": 63,
   "metadata": {},
   "outputs": [],
   "source": [
    "goal_game_actions = game_actions.query('category == 1 or category==2')"
   ]
  },
  {
   "cell_type": "code",
   "execution_count": 64,
   "metadata": {},
   "outputs": [
    {
     "data": {
      "text/plain": [
       "5817"
      ]
     },
     "execution_count": 64,
     "metadata": {},
     "output_type": "execute_result"
    }
   ],
   "source": [
    "goal_game_actions['user_id'].nunique()"
   ]
  },
  {
   "cell_type": "markdown",
   "metadata": {},
   "source": [
    "5817 игроков завершили 1 уровень. Это примерно 43% от общего числа."
   ]
  },
  {
   "cell_type": "code",
   "execution_count": 65,
   "metadata": {},
   "outputs": [
    {
     "data": {
      "text/plain": [
       "0.42847672362993516"
      ]
     },
     "execution_count": 65,
     "metadata": {},
     "output_type": "execute_result"
    }
   ],
   "source": [
    "goal_game_actions['user_id'].nunique()/ game_actions['user_id'].nunique()"
   ]
  },
  {
   "cell_type": "markdown",
   "metadata": {},
   "source": [
    "### Сколько игроков заканчивают уровень через реализацию проекта, и сколько заканчивают уровень победой над другим игроком?"
   ]
  },
  {
   "cell_type": "code",
   "execution_count": 66,
   "metadata": {},
   "outputs": [
    {
     "data": {
      "text/html": [
       "<div>\n",
       "<style scoped>\n",
       "    .dataframe tbody tr th:only-of-type {\n",
       "        vertical-align: middle;\n",
       "    }\n",
       "\n",
       "    .dataframe tbody tr th {\n",
       "        vertical-align: top;\n",
       "    }\n",
       "\n",
       "    .dataframe thead tr th {\n",
       "        text-align: left;\n",
       "    }\n",
       "\n",
       "    .dataframe thead tr:last-of-type th {\n",
       "        text-align: right;\n",
       "    }\n",
       "</style>\n",
       "<table border=\"1\" class=\"dataframe\">\n",
       "  <thead>\n",
       "    <tr>\n",
       "      <th></th>\n",
       "      <th colspan=\"2\" halign=\"left\">user_id</th>\n",
       "    </tr>\n",
       "    <tr>\n",
       "      <th></th>\n",
       "      <th>nunique</th>\n",
       "      <th>&lt;lambda_0&gt;</th>\n",
       "    </tr>\n",
       "    <tr>\n",
       "      <th>category</th>\n",
       "      <th></th>\n",
       "      <th></th>\n",
       "    </tr>\n",
       "  </thead>\n",
       "  <tbody>\n",
       "    <tr>\n",
       "      <td>1</td>\n",
       "      <td>3951</td>\n",
       "      <td>0.679216</td>\n",
       "    </tr>\n",
       "    <tr>\n",
       "      <td>2</td>\n",
       "      <td>1866</td>\n",
       "      <td>0.320784</td>\n",
       "    </tr>\n",
       "  </tbody>\n",
       "</table>\n",
       "</div>"
      ],
      "text/plain": [
       "         user_id           \n",
       "         nunique <lambda_0>\n",
       "category                   \n",
       "1           3951   0.679216\n",
       "2           1866   0.320784"
      ]
     },
     "execution_count": 66,
     "metadata": {},
     "output_type": "execute_result"
    }
   ],
   "source": [
    "goal_game_actions.groupby('category').agg(\n",
    "    {'user_id': ['nunique', lambda x: x.nunique()/(goal_game_actions['user_id'].nunique())]})"
   ]
  },
  {
   "cell_type": "markdown",
   "metadata": {},
   "source": [
    "1866 игроков (32%) заканчивают уровень через реализацию проекта, и 3951 (68%) - победой над другим игроком."
   ]
  },
  {
   "cell_type": "markdown",
   "metadata": {},
   "source": [
    "\n",
    "Ранее мы узнали, что для нас выгодна  стратегия строительства, здесь же мы видим, что она менее популярна чем pvp.\n"
   ]
  },
  {
   "cell_type": "markdown",
   "metadata": {},
   "source": [
    "### Сколько объектов в среднем строит игрок до завершения 1 уровня?"
   ]
  },
  {
   "cell_type": "code",
   "execution_count": 67,
   "metadata": {},
   "outputs": [
    {
     "data": {
      "text/plain": [
       "10.449716348633316"
      ]
     },
     "execution_count": 67,
     "metadata": {},
     "output_type": "execute_result"
    }
   ],
   "source": [
    "goal_game_actions.groupby('user_id')['building_type'].count().mean()"
   ]
  },
  {
   "cell_type": "code",
   "execution_count": 68,
   "metadata": {},
   "outputs": [
    {
     "data": {
      "text/plain": [
       "11.0"
      ]
     },
     "execution_count": 68,
     "metadata": {},
     "output_type": "execute_result"
    }
   ],
   "source": [
    "goal_game_actions.groupby('user_id')['building_type'].count().median()"
   ]
  },
  {
   "cell_type": "markdown",
   "metadata": {},
   "source": [
    "В среднем игрок строит 11 объектов до завершения 1 уровня."
   ]
  },
  {
   "cell_type": "code",
   "execution_count": 69,
   "metadata": {
    "scrolled": false
   },
   "outputs": [
    {
     "data": {
      "image/png": "[encoded data removed]",
      "text/plain": [
       "<Figure size 864x432 with 1 Axes>"
      ]
     },
     "metadata": {
      "needs_background": "light"
     },
     "output_type": "display_data"
    }
   ],
   "source": [
    "plt.figure(figsize=(12, 6))\n",
    "\n",
    "goal_game_actions.groupby('user_id')['building_type'].count().hist()\n",
    "plt.title('гистограмма распределения числа построенных объектов по игрокам')\n",
    "plt.xlabel('количество объектов')\n",
    "plt.ylabel('')\n",
    "\n",
    "plt.show()"
   ]
  },
  {
   "cell_type": "code",
   "execution_count": 70,
   "metadata": {},
   "outputs": [
    {
     "data": {
      "image/png": "[encoded data removed]",
      "text/plain": [
       "<Figure size 864x432 with 1 Axes>"
      ]
     },
     "metadata": {
      "needs_background": "light"
     },
     "output_type": "display_data"
    }
   ],
   "source": [
    "plt.figure(figsize=(12, 6))\n",
    "\n",
    "goal_game_actions.query('category==1').groupby('user_id')['building_type'].count().hist(\n",
    "    label='победа над первым врагом')\n",
    "goal_game_actions.query('category==2').groupby('user_id')['building_type'].count().hist(\n",
    "    label='реализация проекта')\n",
    "\n",
    "plt.title('гистограмма распределения количества объектов по игрокам')\n",
    "plt.xlabel('количество')\n",
    "plt.ylabel('')\n",
    "plt.legend()\n",
    "\n",
    "plt.show()"
   ]
  },
  {
   "cell_type": "code",
   "execution_count": 71,
   "metadata": {},
   "outputs": [
    {
     "data": {
      "text/plain": [
       "10.0"
      ]
     },
     "execution_count": 71,
     "metadata": {},
     "output_type": "execute_result"
    }
   ],
   "source": [
    "goal_game_actions.query('category==1').groupby('user_id')['building_type'].count().median()"
   ]
  },
  {
   "cell_type": "code",
   "execution_count": 72,
   "metadata": {},
   "outputs": [
    {
     "data": {
      "text/plain": [
       "12.0"
      ]
     },
     "execution_count": 72,
     "metadata": {},
     "output_type": "execute_result"
    }
   ],
   "source": [
    "goal_game_actions.query('category==2').groupby('user_id')['building_type'].count().median()"
   ]
  },
  {
   "cell_type": "markdown",
   "metadata": {},
   "source": [
    "\n",
    "   Среднее число построенных объектов больше у тех, кто завершает уровень через проект: 12. У тех, кто побеждает врагов, - 10."
   ]
  },
  {
   "cell_type": "markdown",
   "metadata": {},
   "source": [
    "### Сколько времени проходит от постройки первого объекта до завершения 1 уровня?\n",
    "\n",
    "Чтобы узнать время от постройки первого объекта до завершения 1 уровня, нужно для каждого игрока выделить время постройки первого объекта и время завершения 1 уровня.\n",
    "Время постройки первого объекта:"
   ]
  },
  {
   "cell_type": "code",
   "execution_count": 73,
   "metadata": {},
   "outputs": [
    {
     "data": {
      "text/html": [
       "<div>\n",
       "<style scoped>\n",
       "    .dataframe tbody tr th:only-of-type {\n",
       "        vertical-align: middle;\n",
       "    }\n",
       "\n",
       "    .dataframe tbody tr th {\n",
       "        vertical-align: top;\n",
       "    }\n",
       "\n",
       "    .dataframe thead th {\n",
       "        text-align: right;\n",
       "    }\n",
       "</style>\n",
       "<table border=\"1\" class=\"dataframe\">\n",
       "  <thead>\n",
       "    <tr style=\"text-align: right;\">\n",
       "      <th></th>\n",
       "      <th>user_id</th>\n",
       "      <th>first_building</th>\n",
       "    </tr>\n",
       "  </thead>\n",
       "  <tbody>\n",
       "    <tr>\n",
       "      <td>0</td>\n",
       "      <td>001d39dc-366c-4021-9604-6a3b9ff01e25</td>\n",
       "      <td>2020-05-05 21:02:05</td>\n",
       "    </tr>\n",
       "    <tr>\n",
       "      <td>1</td>\n",
       "      <td>003ee7e8-6356-4286-a715-62f22a18d2a1</td>\n",
       "      <td>2020-05-05 08:31:04</td>\n",
       "    </tr>\n",
       "    <tr>\n",
       "      <td>2</td>\n",
       "      <td>004074f8-251a-4776-922c-8348dca1a2f6</td>\n",
       "      <td>2020-05-04 01:07:35</td>\n",
       "    </tr>\n",
       "    <tr>\n",
       "      <td>3</td>\n",
       "      <td>00464e5e-28ed-4be6-bf44-517ef7b3937b</td>\n",
       "      <td>2020-05-04 08:35:29</td>\n",
       "    </tr>\n",
       "    <tr>\n",
       "      <td>4</td>\n",
       "      <td>0056c007-c082-43cc-bdef-afc49bca4cb9</td>\n",
       "      <td>2020-05-10 11:49:47</td>\n",
       "    </tr>\n",
       "  </tbody>\n",
       "</table>\n",
       "</div>"
      ],
      "text/plain": [
       "                                user_id      first_building\n",
       "0  001d39dc-366c-4021-9604-6a3b9ff01e25 2020-05-05 21:02:05\n",
       "1  003ee7e8-6356-4286-a715-62f22a18d2a1 2020-05-05 08:31:04\n",
       "2  004074f8-251a-4776-922c-8348dca1a2f6 2020-05-04 01:07:35\n",
       "3  00464e5e-28ed-4be6-bf44-517ef7b3937b 2020-05-04 08:35:29\n",
       "4  0056c007-c082-43cc-bdef-afc49bca4cb9 2020-05-10 11:49:47"
      ]
     },
     "execution_count": 73,
     "metadata": {},
     "output_type": "execute_result"
    }
   ],
   "source": [
    "first_buildings = goal_game_actions.query('event==\"building\"').groupby('user_id')['event_datetime'].min(\n",
    "    ).reset_index()\n",
    "first_buildings.columns = ['user_id', 'first_building']\n",
    "first_buildings.head()"
   ]
  },
  {
   "cell_type": "markdown",
   "metadata": {},
   "source": [
    "Время завершения 1 уровня для каждого игрока:"
   ]
  },
  {
   "cell_type": "code",
   "execution_count": 74,
   "metadata": {},
   "outputs": [
    {
     "data": {
      "text/html": [
       "<div>\n",
       "<style scoped>\n",
       "    .dataframe tbody tr th:only-of-type {\n",
       "        vertical-align: middle;\n",
       "    }\n",
       "\n",
       "    .dataframe tbody tr th {\n",
       "        vertical-align: top;\n",
       "    }\n",
       "\n",
       "    .dataframe thead th {\n",
       "        text-align: right;\n",
       "    }\n",
       "</style>\n",
       "<table border=\"1\" class=\"dataframe\">\n",
       "  <thead>\n",
       "    <tr style=\"text-align: right;\">\n",
       "      <th></th>\n",
       "      <th>user_id</th>\n",
       "      <th>finished_stage_1</th>\n",
       "    </tr>\n",
       "  </thead>\n",
       "  <tbody>\n",
       "    <tr>\n",
       "      <td>0</td>\n",
       "      <td>001d39dc-366c-4021-9604-6a3b9ff01e25</td>\n",
       "      <td>2020-05-12 07:40:47</td>\n",
       "    </tr>\n",
       "    <tr>\n",
       "      <td>1</td>\n",
       "      <td>003ee7e8-6356-4286-a715-62f22a18d2a1</td>\n",
       "      <td>2020-05-17 21:47:49</td>\n",
       "    </tr>\n",
       "    <tr>\n",
       "      <td>2</td>\n",
       "      <td>004074f8-251a-4776-922c-8348dca1a2f6</td>\n",
       "      <td>2020-05-16 19:57:40</td>\n",
       "    </tr>\n",
       "    <tr>\n",
       "      <td>3</td>\n",
       "      <td>00464e5e-28ed-4be6-bf44-517ef7b3937b</td>\n",
       "      <td>2020-05-15 16:02:01</td>\n",
       "    </tr>\n",
       "    <tr>\n",
       "      <td>4</td>\n",
       "      <td>0056c007-c082-43cc-bdef-afc49bca4cb9</td>\n",
       "      <td>2020-05-16 13:48:39</td>\n",
       "    </tr>\n",
       "  </tbody>\n",
       "</table>\n",
       "</div>"
      ],
      "text/plain": [
       "                                user_id    finished_stage_1\n",
       "0  001d39dc-366c-4021-9604-6a3b9ff01e25 2020-05-12 07:40:47\n",
       "1  003ee7e8-6356-4286-a715-62f22a18d2a1 2020-05-17 21:47:49\n",
       "2  004074f8-251a-4776-922c-8348dca1a2f6 2020-05-16 19:57:40\n",
       "3  00464e5e-28ed-4be6-bf44-517ef7b3937b 2020-05-15 16:02:01\n",
       "4  0056c007-c082-43cc-bdef-afc49bca4cb9 2020-05-16 13:48:39"
      ]
     },
     "execution_count": 74,
     "metadata": {},
     "output_type": "execute_result"
    }
   ],
   "source": [
    "finished_stage_1 = goal_game_actions.query('event==\"finished_stage_1\"').groupby('user_id')['event_datetime'].min(\n",
    "    ).reset_index()\n",
    "finished_stage_1.columns = ['user_id', 'finished_stage_1']\n",
    "finished_stage_1.head()"
   ]
  },
  {
   "cell_type": "markdown",
   "metadata": {},
   "source": [
    "Для каждого игрока найдём разницу во времени между этими событиями:"
   ]
  },
  {
   "cell_type": "code",
   "execution_count": 75,
   "metadata": {},
   "outputs": [],
   "source": [
    "time_building_stage_1 = pd.merge(first_buildings, finished_stage_1)"
   ]
  },
  {
   "cell_type": "code",
   "execution_count": 76,
   "metadata": {},
   "outputs": [],
   "source": [
    "time_building_stage_1['delta_building_stage_1'] = (\n",
    "    time_building_stage_1['finished_stage_1'] - time_building_stage_1['first_building'])"
   ]
  },
  {
   "cell_type": "code",
   "execution_count": 77,
   "metadata": {},
   "outputs": [
    {
     "data": {
      "text/html": [
       "<div>\n",
       "<style scoped>\n",
       "    .dataframe tbody tr th:only-of-type {\n",
       "        vertical-align: middle;\n",
       "    }\n",
       "\n",
       "    .dataframe tbody tr th {\n",
       "        vertical-align: top;\n",
       "    }\n",
       "\n",
       "    .dataframe thead th {\n",
       "        text-align: right;\n",
       "    }\n",
       "</style>\n",
       "<table border=\"1\" class=\"dataframe\">\n",
       "  <thead>\n",
       "    <tr style=\"text-align: right;\">\n",
       "      <th></th>\n",
       "      <th>user_id</th>\n",
       "      <th>first_building</th>\n",
       "      <th>finished_stage_1</th>\n",
       "      <th>delta_building_stage_1</th>\n",
       "    </tr>\n",
       "  </thead>\n",
       "  <tbody>\n",
       "    <tr>\n",
       "      <td>0</td>\n",
       "      <td>001d39dc-366c-4021-9604-6a3b9ff01e25</td>\n",
       "      <td>2020-05-05 21:02:05</td>\n",
       "      <td>2020-05-12 07:40:47</td>\n",
       "      <td>6 days 10:38:42</td>\n",
       "    </tr>\n",
       "    <tr>\n",
       "      <td>1</td>\n",
       "      <td>003ee7e8-6356-4286-a715-62f22a18d2a1</td>\n",
       "      <td>2020-05-05 08:31:04</td>\n",
       "      <td>2020-05-17 21:47:49</td>\n",
       "      <td>12 days 13:16:45</td>\n",
       "    </tr>\n",
       "    <tr>\n",
       "      <td>2</td>\n",
       "      <td>004074f8-251a-4776-922c-8348dca1a2f6</td>\n",
       "      <td>2020-05-04 01:07:35</td>\n",
       "      <td>2020-05-16 19:57:40</td>\n",
       "      <td>12 days 18:50:05</td>\n",
       "    </tr>\n",
       "    <tr>\n",
       "      <td>3</td>\n",
       "      <td>00464e5e-28ed-4be6-bf44-517ef7b3937b</td>\n",
       "      <td>2020-05-04 08:35:29</td>\n",
       "      <td>2020-05-15 16:02:01</td>\n",
       "      <td>11 days 07:26:32</td>\n",
       "    </tr>\n",
       "    <tr>\n",
       "      <td>4</td>\n",
       "      <td>0056c007-c082-43cc-bdef-afc49bca4cb9</td>\n",
       "      <td>2020-05-10 11:49:47</td>\n",
       "      <td>2020-05-16 13:48:39</td>\n",
       "      <td>6 days 01:58:52</td>\n",
       "    </tr>\n",
       "  </tbody>\n",
       "</table>\n",
       "</div>"
      ],
      "text/plain": [
       "                                user_id      first_building  \\\n",
       "0  001d39dc-366c-4021-9604-6a3b9ff01e25 2020-05-05 21:02:05   \n",
       "1  003ee7e8-6356-4286-a715-62f22a18d2a1 2020-05-05 08:31:04   \n",
       "2  004074f8-251a-4776-922c-8348dca1a2f6 2020-05-04 01:07:35   \n",
       "3  00464e5e-28ed-4be6-bf44-517ef7b3937b 2020-05-04 08:35:29   \n",
       "4  0056c007-c082-43cc-bdef-afc49bca4cb9 2020-05-10 11:49:47   \n",
       "\n",
       "     finished_stage_1 delta_building_stage_1  \n",
       "0 2020-05-12 07:40:47        6 days 10:38:42  \n",
       "1 2020-05-17 21:47:49       12 days 13:16:45  \n",
       "2 2020-05-16 19:57:40       12 days 18:50:05  \n",
       "3 2020-05-15 16:02:01       11 days 07:26:32  \n",
       "4 2020-05-16 13:48:39        6 days 01:58:52  "
      ]
     },
     "execution_count": 77,
     "metadata": {},
     "output_type": "execute_result"
    }
   ],
   "source": [
    "time_building_stage_1.head()"
   ]
  },
  {
   "cell_type": "code",
   "execution_count": 78,
   "metadata": {},
   "outputs": [
    {
     "data": {
      "text/plain": [
       "Timedelta('11 days 20:37:59.561801')"
      ]
     },
     "execution_count": 78,
     "metadata": {},
     "output_type": "execute_result"
    }
   ],
   "source": [
    "time_building_stage_1['delta_building_stage_1'].mean()"
   ]
  },
  {
   "cell_type": "markdown",
   "metadata": {},
   "source": [
    "В среднем от постройки первого здания до завершения 1 уровня проходит 12 дней.\n",
    "\n",
    "Как эта величина меняется в зависимости от типа объекта? Добавим в таблицу `time_building_stage_1` с данными о времени постройки первого объекта и завершения 1 уровня тип первого построенного здания для каждого игрока."
   ]
  },
  {
   "cell_type": "code",
   "execution_count": 79,
   "metadata": {},
   "outputs": [],
   "source": [
    "time_building_stage_1 = time_building_stage_1.merge(\n",
    "    goal_game_actions[['event_datetime', 'building_type', 'user_id']], left_on=['user_id', 'first_building'],\n",
    "    right_on=['user_id', 'event_datetime'], how='left')"
   ]
  },
  {
   "cell_type": "code",
   "execution_count": 80,
   "metadata": {},
   "outputs": [
    {
     "data": {
      "text/html": [
       "<div>\n",
       "<style scoped>\n",
       "    .dataframe tbody tr th:only-of-type {\n",
       "        vertical-align: middle;\n",
       "    }\n",
       "\n",
       "    .dataframe tbody tr th {\n",
       "        vertical-align: top;\n",
       "    }\n",
       "\n",
       "    .dataframe thead th {\n",
       "        text-align: right;\n",
       "    }\n",
       "</style>\n",
       "<table border=\"1\" class=\"dataframe\">\n",
       "  <thead>\n",
       "    <tr style=\"text-align: right;\">\n",
       "      <th></th>\n",
       "      <th>user_id</th>\n",
       "      <th>first_building</th>\n",
       "      <th>finished_stage_1</th>\n",
       "      <th>delta_building_stage_1</th>\n",
       "      <th>event_datetime</th>\n",
       "      <th>building_type</th>\n",
       "    </tr>\n",
       "  </thead>\n",
       "  <tbody>\n",
       "    <tr>\n",
       "      <td>917</td>\n",
       "      <td>25bdf05d-c442-4791-8f8a-efe34747c83b</td>\n",
       "      <td>2020-05-06 14:14:48</td>\n",
       "      <td>2020-05-21 01:59:10</td>\n",
       "      <td>14 days 11:44:22</td>\n",
       "      <td>2020-05-06 14:14:48</td>\n",
       "      <td>assembly_shop</td>\n",
       "    </tr>\n",
       "    <tr>\n",
       "      <td>1459</td>\n",
       "      <td>3dc5266d-263d-4ec5-b218-672b09bff736</td>\n",
       "      <td>2020-05-04 20:02:46</td>\n",
       "      <td>2020-05-18 08:51:41</td>\n",
       "      <td>13 days 12:48:55</td>\n",
       "      <td>2020-05-04 20:02:46</td>\n",
       "      <td>assembly_shop</td>\n",
       "    </tr>\n",
       "    <tr>\n",
       "      <td>4053</td>\n",
       "      <td>b1eddf04-4402-4428-9ccd-b18a9475950b</td>\n",
       "      <td>2020-05-06 10:10:52</td>\n",
       "      <td>2020-05-15 08:07:20</td>\n",
       "      <td>8 days 21:56:28</td>\n",
       "      <td>2020-05-06 10:10:52</td>\n",
       "      <td>assembly_shop</td>\n",
       "    </tr>\n",
       "    <tr>\n",
       "      <td>1867</td>\n",
       "      <td>50740ae3-304d-465a-9932-e16cf9df56d5</td>\n",
       "      <td>2020-05-05 22:12:52</td>\n",
       "      <td>2020-05-10 17:43:35</td>\n",
       "      <td>4 days 19:30:43</td>\n",
       "      <td>2020-05-05 22:12:52</td>\n",
       "      <td>assembly_shop</td>\n",
       "    </tr>\n",
       "  </tbody>\n",
       "</table>\n",
       "</div>"
      ],
      "text/plain": [
       "                                   user_id      first_building  \\\n",
       "917   25bdf05d-c442-4791-8f8a-efe34747c83b 2020-05-06 14:14:48   \n",
       "1459  3dc5266d-263d-4ec5-b218-672b09bff736 2020-05-04 20:02:46   \n",
       "4053  b1eddf04-4402-4428-9ccd-b18a9475950b 2020-05-06 10:10:52   \n",
       "1867  50740ae3-304d-465a-9932-e16cf9df56d5 2020-05-05 22:12:52   \n",
       "\n",
       "        finished_stage_1 delta_building_stage_1      event_datetime  \\\n",
       "917  2020-05-21 01:59:10       14 days 11:44:22 2020-05-06 14:14:48   \n",
       "1459 2020-05-18 08:51:41       13 days 12:48:55 2020-05-04 20:02:46   \n",
       "4053 2020-05-15 08:07:20        8 days 21:56:28 2020-05-06 10:10:52   \n",
       "1867 2020-05-10 17:43:35        4 days 19:30:43 2020-05-05 22:12:52   \n",
       "\n",
       "      building_type  \n",
       "917   assembly_shop  \n",
       "1459  assembly_shop  \n",
       "4053  assembly_shop  \n",
       "1867  assembly_shop  "
      ]
     },
     "execution_count": 80,
     "metadata": {},
     "output_type": "execute_result"
    }
   ],
   "source": [
    "time_building_stage_1.sample(4)"
   ]
  },
  {
   "cell_type": "code",
   "execution_count": 81,
   "metadata": {},
   "outputs": [
    {
     "data": {
      "text/plain": [
       "array(['assembly_shop'], dtype=object)"
      ]
     },
     "execution_count": 81,
     "metadata": {},
     "output_type": "execute_result"
    }
   ],
   "source": [
    "time_building_stage_1['building_type'].unique()"
   ]
  },
  {
   "cell_type": "markdown",
   "metadata": {},
   "source": [
    "Для всех игроков, завершивших 1 уровень, первым построенным зданием является `assembly_shop` — сборочный цех. Соответственно нельзя говорить о зависимости  времени, которое проходит от постройки первого объекта до завершения 1 уровня, от типа объекта.\n"
   ]
  },
  {
   "cell_type": "code",
   "execution_count": 82,
   "metadata": {},
   "outputs": [],
   "source": [
    "general_first_buildings = game_actions.query('event==\"building\"').groupby('user_id')['event_datetime'].min(\n",
    "    ).reset_index()\n",
    "general_first_buildings.columns = ['user_id', 'first_building']\n",
    "general_first_buildings = general_first_buildings.merge(\n",
    "    game_actions[['event_datetime', 'building_type', 'user_id']], left_on=['user_id', 'first_building'],\n",
    "    right_on=['user_id', 'event_datetime'], how='left')"
   ]
  },
  {
   "cell_type": "code",
   "execution_count": 83,
   "metadata": {},
   "outputs": [
    {
     "data": {
      "text/plain": [
       "array(['assembly_shop'], dtype=object)"
      ]
     },
     "execution_count": 83,
     "metadata": {},
     "output_type": "execute_result"
    }
   ],
   "source": [
    "general_first_buildings['building_type'].unique()"
   ]
  },
  {
   "cell_type": "markdown",
   "metadata": {},
   "source": [
    "Игроки, не завершившие 1 уровень, так же начинают с постройки сборочного цеха."
   ]
  },
  {
   "cell_type": "markdown",
   "metadata": {},
   "source": [
    "\n",
    "Вероятно это обязательное к постройке в рамках туториала здание.\n",
    "    \n",
    "Здесь можно посмотреть число построек разного типа на 1 пользователя для каждой стратегии - это поможет выявить различия."
   ]
  },
  {
   "cell_type": "code",
   "execution_count": 84,
   "metadata": {},
   "outputs": [
    {
     "data": {
      "text/html": [
       "<div>\n",
       "<style scoped>\n",
       "    .dataframe tbody tr th:only-of-type {\n",
       "        vertical-align: middle;\n",
       "    }\n",
       "\n",
       "    .dataframe tbody tr th {\n",
       "        vertical-align: top;\n",
       "    }\n",
       "\n",
       "    .dataframe thead th {\n",
       "        text-align: right;\n",
       "    }\n",
       "</style>\n",
       "<table border=\"1\" class=\"dataframe\">\n",
       "  <thead>\n",
       "    <tr style=\"text-align: right;\">\n",
       "      <th></th>\n",
       "      <th>user_id</th>\n",
       "      <th>assembly_shop</th>\n",
       "    </tr>\n",
       "  </thead>\n",
       "  <tbody>\n",
       "    <tr>\n",
       "      <td>0</td>\n",
       "      <td>001d39dc-366c-4021-9604-6a3b9ff01e25</td>\n",
       "      <td>4</td>\n",
       "    </tr>\n",
       "    <tr>\n",
       "      <td>1</td>\n",
       "      <td>003ee7e8-6356-4286-a715-62f22a18d2a1</td>\n",
       "      <td>4</td>\n",
       "    </tr>\n",
       "    <tr>\n",
       "      <td>2</td>\n",
       "      <td>004074f8-251a-4776-922c-8348dca1a2f6</td>\n",
       "      <td>6</td>\n",
       "    </tr>\n",
       "    <tr>\n",
       "      <td>3</td>\n",
       "      <td>00464e5e-28ed-4be6-bf44-517ef7b3937b</td>\n",
       "      <td>4</td>\n",
       "    </tr>\n",
       "    <tr>\n",
       "      <td>4</td>\n",
       "      <td>0056c007-c082-43cc-bdef-afc49bca4cb9</td>\n",
       "      <td>1</td>\n",
       "    </tr>\n",
       "  </tbody>\n",
       "</table>\n",
       "</div>"
      ],
      "text/plain": [
       "                                user_id  assembly_shop\n",
       "0  001d39dc-366c-4021-9604-6a3b9ff01e25              4\n",
       "1  003ee7e8-6356-4286-a715-62f22a18d2a1              4\n",
       "2  004074f8-251a-4776-922c-8348dca1a2f6              6\n",
       "3  00464e5e-28ed-4be6-bf44-517ef7b3937b              4\n",
       "4  0056c007-c082-43cc-bdef-afc49bca4cb9              1"
      ]
     },
     "execution_count": 84,
     "metadata": {},
     "output_type": "execute_result"
    }
   ],
   "source": [
    "assembly_shop = goal_game_actions.query('building_type==\"assembly_shop\"').groupby(\n",
    "    'user_id')['building_type'].count().reset_index()\n",
    "assembly_shop.columns = ['user_id', 'assembly_shop']\n",
    "assembly_shop.head()"
   ]
  },
  {
   "cell_type": "code",
   "execution_count": 85,
   "metadata": {},
   "outputs": [
    {
     "data": {
      "text/html": [
       "<div>\n",
       "<style scoped>\n",
       "    .dataframe tbody tr th:only-of-type {\n",
       "        vertical-align: middle;\n",
       "    }\n",
       "\n",
       "    .dataframe tbody tr th {\n",
       "        vertical-align: top;\n",
       "    }\n",
       "\n",
       "    .dataframe thead th {\n",
       "        text-align: right;\n",
       "    }\n",
       "</style>\n",
       "<table border=\"1\" class=\"dataframe\">\n",
       "  <thead>\n",
       "    <tr style=\"text-align: right;\">\n",
       "      <th></th>\n",
       "      <th>user_id</th>\n",
       "      <th>spaceport</th>\n",
       "    </tr>\n",
       "  </thead>\n",
       "  <tbody>\n",
       "    <tr>\n",
       "      <td>0</td>\n",
       "      <td>001d39dc-366c-4021-9604-6a3b9ff01e25</td>\n",
       "      <td>4</td>\n",
       "    </tr>\n",
       "    <tr>\n",
       "      <td>1</td>\n",
       "      <td>003ee7e8-6356-4286-a715-62f22a18d2a1</td>\n",
       "      <td>3</td>\n",
       "    </tr>\n",
       "    <tr>\n",
       "      <td>2</td>\n",
       "      <td>004074f8-251a-4776-922c-8348dca1a2f6</td>\n",
       "      <td>4</td>\n",
       "    </tr>\n",
       "    <tr>\n",
       "      <td>3</td>\n",
       "      <td>00464e5e-28ed-4be6-bf44-517ef7b3937b</td>\n",
       "      <td>4</td>\n",
       "    </tr>\n",
       "    <tr>\n",
       "      <td>4</td>\n",
       "      <td>0056c007-c082-43cc-bdef-afc49bca4cb9</td>\n",
       "      <td>2</td>\n",
       "    </tr>\n",
       "  </tbody>\n",
       "</table>\n",
       "</div>"
      ],
      "text/plain": [
       "                                user_id  spaceport\n",
       "0  001d39dc-366c-4021-9604-6a3b9ff01e25          4\n",
       "1  003ee7e8-6356-4286-a715-62f22a18d2a1          3\n",
       "2  004074f8-251a-4776-922c-8348dca1a2f6          4\n",
       "3  00464e5e-28ed-4be6-bf44-517ef7b3937b          4\n",
       "4  0056c007-c082-43cc-bdef-afc49bca4cb9          2"
      ]
     },
     "execution_count": 85,
     "metadata": {},
     "output_type": "execute_result"
    }
   ],
   "source": [
    "spaceport = goal_game_actions.query('building_type==\"spaceport\"').groupby(\n",
    "    'user_id')['building_type'].count().reset_index()\n",
    "spaceport.columns = ['user_id', 'spaceport']\n",
    "spaceport.head()"
   ]
  },
  {
   "cell_type": "code",
   "execution_count": 86,
   "metadata": {},
   "outputs": [
    {
     "data": {
      "text/html": [
       "<div>\n",
       "<style scoped>\n",
       "    .dataframe tbody tr th:only-of-type {\n",
       "        vertical-align: middle;\n",
       "    }\n",
       "\n",
       "    .dataframe tbody tr th {\n",
       "        vertical-align: top;\n",
       "    }\n",
       "\n",
       "    .dataframe thead th {\n",
       "        text-align: right;\n",
       "    }\n",
       "</style>\n",
       "<table border=\"1\" class=\"dataframe\">\n",
       "  <thead>\n",
       "    <tr style=\"text-align: right;\">\n",
       "      <th></th>\n",
       "      <th>user_id</th>\n",
       "      <th>research_center</th>\n",
       "    </tr>\n",
       "  </thead>\n",
       "  <tbody>\n",
       "    <tr>\n",
       "      <td>0</td>\n",
       "      <td>003ee7e8-6356-4286-a715-62f22a18d2a1</td>\n",
       "      <td>1</td>\n",
       "    </tr>\n",
       "    <tr>\n",
       "      <td>1</td>\n",
       "      <td>004074f8-251a-4776-922c-8348dca1a2f6</td>\n",
       "      <td>2</td>\n",
       "    </tr>\n",
       "    <tr>\n",
       "      <td>2</td>\n",
       "      <td>00606a1c-51e1-48d1-b053-77be528527c0</td>\n",
       "      <td>1</td>\n",
       "    </tr>\n",
       "    <tr>\n",
       "      <td>3</td>\n",
       "      <td>006380d6-67a6-45de-ab1e-6eb54ad8dbe8</td>\n",
       "      <td>2</td>\n",
       "    </tr>\n",
       "    <tr>\n",
       "      <td>4</td>\n",
       "      <td>007ad796-add4-41a5-bc2a-e11561f16cd6</td>\n",
       "      <td>2</td>\n",
       "    </tr>\n",
       "  </tbody>\n",
       "</table>\n",
       "</div>"
      ],
      "text/plain": [
       "                                user_id  research_center\n",
       "0  003ee7e8-6356-4286-a715-62f22a18d2a1                1\n",
       "1  004074f8-251a-4776-922c-8348dca1a2f6                2\n",
       "2  00606a1c-51e1-48d1-b053-77be528527c0                1\n",
       "3  006380d6-67a6-45de-ab1e-6eb54ad8dbe8                2\n",
       "4  007ad796-add4-41a5-bc2a-e11561f16cd6                2"
      ]
     },
     "execution_count": 86,
     "metadata": {},
     "output_type": "execute_result"
    }
   ],
   "source": [
    "research_center = goal_game_actions.query('building_type==\"research_center\"').groupby(\n",
    "    'user_id')['building_type'].count().reset_index()\n",
    "research_center.columns = ['user_id', 'research_center']\n",
    "research_center.head()"
   ]
  },
  {
   "cell_type": "code",
   "execution_count": 87,
   "metadata": {},
   "outputs": [],
   "source": [
    "building_type = assembly_shop.merge(spaceport).merge(research_center)"
   ]
  },
  {
   "cell_type": "code",
   "execution_count": 88,
   "metadata": {},
   "outputs": [
    {
     "data": {
      "text/html": [
       "<div>\n",
       "<style scoped>\n",
       "    .dataframe tbody tr th:only-of-type {\n",
       "        vertical-align: middle;\n",
       "    }\n",
       "\n",
       "    .dataframe tbody tr th {\n",
       "        vertical-align: top;\n",
       "    }\n",
       "\n",
       "    .dataframe thead th {\n",
       "        text-align: right;\n",
       "    }\n",
       "</style>\n",
       "<table border=\"1\" class=\"dataframe\">\n",
       "  <thead>\n",
       "    <tr style=\"text-align: right;\">\n",
       "      <th></th>\n",
       "      <th>user_id</th>\n",
       "      <th>assembly_shop</th>\n",
       "      <th>spaceport</th>\n",
       "      <th>research_center</th>\n",
       "      <th>category</th>\n",
       "    </tr>\n",
       "  </thead>\n",
       "  <tbody>\n",
       "    <tr>\n",
       "      <td>0</td>\n",
       "      <td>003ee7e8-6356-4286-a715-62f22a18d2a1</td>\n",
       "      <td>4</td>\n",
       "      <td>3</td>\n",
       "      <td>1</td>\n",
       "      <td>1</td>\n",
       "    </tr>\n",
       "    <tr>\n",
       "      <td>1</td>\n",
       "      <td>004074f8-251a-4776-922c-8348dca1a2f6</td>\n",
       "      <td>6</td>\n",
       "      <td>4</td>\n",
       "      <td>2</td>\n",
       "      <td>1</td>\n",
       "    </tr>\n",
       "    <tr>\n",
       "      <td>2</td>\n",
       "      <td>00606a1c-51e1-48d1-b053-77be528527c0</td>\n",
       "      <td>3</td>\n",
       "      <td>7</td>\n",
       "      <td>1</td>\n",
       "      <td>1</td>\n",
       "    </tr>\n",
       "    <tr>\n",
       "      <td>3</td>\n",
       "      <td>006380d6-67a6-45de-ab1e-6eb54ad8dbe8</td>\n",
       "      <td>7</td>\n",
       "      <td>2</td>\n",
       "      <td>2</td>\n",
       "      <td>2</td>\n",
       "    </tr>\n",
       "    <tr>\n",
       "      <td>4</td>\n",
       "      <td>007ad796-add4-41a5-bc2a-e11561f16cd6</td>\n",
       "      <td>6</td>\n",
       "      <td>4</td>\n",
       "      <td>2</td>\n",
       "      <td>1</td>\n",
       "    </tr>\n",
       "  </tbody>\n",
       "</table>\n",
       "</div>"
      ],
      "text/plain": [
       "                                user_id  assembly_shop  spaceport  \\\n",
       "0  003ee7e8-6356-4286-a715-62f22a18d2a1              4          3   \n",
       "1  004074f8-251a-4776-922c-8348dca1a2f6              6          4   \n",
       "2  00606a1c-51e1-48d1-b053-77be528527c0              3          7   \n",
       "3  006380d6-67a6-45de-ab1e-6eb54ad8dbe8              7          2   \n",
       "4  007ad796-add4-41a5-bc2a-e11561f16cd6              6          4   \n",
       "\n",
       "   research_center  category  \n",
       "0                1         1  \n",
       "1                2         1  \n",
       "2                1         1  \n",
       "3                2         2  \n",
       "4                2         1  "
      ]
     },
     "execution_count": 88,
     "metadata": {},
     "output_type": "execute_result"
    }
   ],
   "source": [
    "building_type['category'] = building_type['user_id'].apply(strategy)\n",
    "building_type.head()"
   ]
  },
  {
   "cell_type": "markdown",
   "metadata": {},
   "source": [
    "Cреднее число построек разного типа на 1 пользователя для каждой стратегии:"
   ]
  },
  {
   "cell_type": "code",
   "execution_count": 89,
   "metadata": {},
   "outputs": [
    {
     "data": {
      "text/html": [
       "<div>\n",
       "<style scoped>\n",
       "    .dataframe tbody tr th:only-of-type {\n",
       "        vertical-align: middle;\n",
       "    }\n",
       "\n",
       "    .dataframe tbody tr th {\n",
       "        vertical-align: top;\n",
       "    }\n",
       "\n",
       "    .dataframe thead th {\n",
       "        text-align: right;\n",
       "    }\n",
       "</style>\n",
       "<table border=\"1\" class=\"dataframe\">\n",
       "  <thead>\n",
       "    <tr style=\"text-align: right;\">\n",
       "      <th></th>\n",
       "      <th>assembly_shop</th>\n",
       "      <th>spaceport</th>\n",
       "      <th>research_center</th>\n",
       "    </tr>\n",
       "    <tr>\n",
       "      <th>category</th>\n",
       "      <th></th>\n",
       "      <th></th>\n",
       "      <th></th>\n",
       "    </tr>\n",
       "  </thead>\n",
       "  <tbody>\n",
       "    <tr>\n",
       "      <td>1</td>\n",
       "      <td>5</td>\n",
       "      <td>5</td>\n",
       "      <td>1</td>\n",
       "    </tr>\n",
       "    <tr>\n",
       "      <td>2</td>\n",
       "      <td>5</td>\n",
       "      <td>6</td>\n",
       "      <td>2</td>\n",
       "    </tr>\n",
       "  </tbody>\n",
       "</table>\n",
       "</div>"
      ],
      "text/plain": [
       "          assembly_shop  spaceport  research_center\n",
       "category                                           \n",
       "1                     5          5                1\n",
       "2                     5          6                2"
      ]
     },
     "execution_count": 89,
     "metadata": {},
     "output_type": "execute_result"
    }
   ],
   "source": [
    "building_type.groupby('category')['assembly_shop', 'spaceport', 'research_center'].median()"
   ]
  },
  {
   "cell_type": "markdown",
   "metadata": {},
   "source": [
    "   Число `assembly_shop` для обоих стратегий одинаково, те, кто реализует проект, строят дополнительно `spaceport` и `research_center`."
   ]
  },
  {
   "cell_type": "markdown",
   "metadata": {},
   "source": [
    "### Как тип проекта влияет на завершение 1 уровня?"
   ]
  },
  {
   "cell_type": "code",
   "execution_count": 90,
   "metadata": {},
   "outputs": [
    {
     "data": {
      "text/plain": [
       "array([nan, 'satellite_orbital_assembly'], dtype=object)"
      ]
     },
     "execution_count": 90,
     "metadata": {},
     "output_type": "execute_result"
    }
   ],
   "source": [
    "goal_game_actions['project_type'].unique()"
   ]
  },
  {
   "cell_type": "code",
   "execution_count": 91,
   "metadata": {},
   "outputs": [
    {
     "data": {
      "text/plain": [
       "array([nan, 'satellite_orbital_assembly'], dtype=object)"
      ]
     },
     "execution_count": 91,
     "metadata": {},
     "output_type": "execute_result"
    }
   ],
   "source": [
    "game_actions['project_type'].unique()"
   ]
  },
  {
   "cell_type": "markdown",
   "metadata": {},
   "source": [
    "Все проекты, завершённые на 1 уровне, относятся к единственному типу `satellite_orbital_assembly` - целевому для завершения 1 уровня."
   ]
  },
  {
   "cell_type": "markdown",
   "metadata": {},
   "source": [
    "### Вывод\n",
    "\n",
    "5817 игроков завершили 1 уровень. Это примерно 43% от общего числа.\n",
    "\n",
    "1866 игроков (32%) заканчивают уровень через реализацию проекта, и 3951 (68%) - победой над другим игроком.\n",
    "\n",
    "В среднем игрок строит 11 объектов до завершения 1 уровня, от постройки первого объекта до завершения 1 уровня проходит 12 дней. Для всех игроков первым построенным зданием является `assembly_shop` — сборочный цех.\n",
    "\n",
    "Все проекты, завершённые на 1 уровне, относятся к единственному типу `satellite_orbital_assembly` - целевому для завершения 1 уровня."
   ]
  },
  {
   "cell_type": "markdown",
   "metadata": {},
   "source": [
    "## Проверка статистических гипотез"
   ]
  },
  {
   "cell_type": "markdown",
   "metadata": {},
   "source": [
    "### Гипотеза различия времени\n",
    "\n",
    "Проверим гипотезу различия времени прохождения уровня между пользователями, которые заканчивают уровень через реализацию проекта, и пользователями, которые заканчивают уровень победой над другим игроком.\n",
    "\n",
    "Посчитаем среднее время для каждой cтратегии. Время прохождения уровня для каждого пользователя содержится в столбце `delta_building_stage_1` таблицы `time_building_stage_1`. Сначала нужно добавить категорию пользователя к данным о времени прохождения им уровня."
   ]
  },
  {
   "cell_type": "code",
   "execution_count": 92,
   "metadata": {},
   "outputs": [],
   "source": [
    "time_building_stage_1['category'] = time_building_stage_1['user_id'].apply(strategy)"
   ]
  },
  {
   "cell_type": "markdown",
   "metadata": {},
   "source": [
    "Затем рассчитаем среднее время для каждой категории (1 - победа над первым врагом;\n",
    "2 - реализация проекта - разработка орбитальной сборки спутников)"
   ]
  },
  {
   "cell_type": "code",
   "execution_count": 93,
   "metadata": {},
   "outputs": [],
   "source": [
    "time_building_stage_1['delta_building_stage_1'] = time_building_stage_1['delta_building_stage_1'].astype(\n",
    "    'timedelta64[D]')"
   ]
  },
  {
   "cell_type": "code",
   "execution_count": 94,
   "metadata": {},
   "outputs": [
    {
     "data": {
      "text/plain": [
       "category\n",
       "1    10.606176\n",
       "2    12.963023\n",
       "Name: delta_building_stage_1, dtype: float64"
      ]
     },
     "execution_count": 94,
     "metadata": {},
     "output_type": "execute_result"
    }
   ],
   "source": [
    "time_building_stage_1.groupby('category')['delta_building_stage_1'].mean()"
   ]
  },
  {
   "cell_type": "markdown",
   "metadata": {},
   "source": [
    "\n",
    "Получили 10.6 дней для пользователей, которые заканчивают уровень победой над другим игроком, и 13,0 дней для пользователей, которые заканчивают уровень через реализацию проекта."
   ]
  },
  {
   "cell_type": "markdown",
   "metadata": {},
   "source": [
    "Значима ли разница между этими числами? Зависит от дисперсии выборок, по которым рассчитаны значения. Вместо расчёта и сравнения самих средних, используем эти датасеты для проведения статистического теста.\n",
    "\n",
    "Н_0 : Время прохождения уровня у пользователей, которые заканчивают уровень через реализацию проекта, и пользователей, которые заканчивают уровень победой над другим игроком, не различается.\n",
    "\n",
    "Н_1 : Время прохождения уровня у пользователей, которые заканчивают уровень через реализацию проекта, и пользователей, которые заканчивают уровень победой над другим игроком, различается."
   ]
  },
  {
   "cell_type": "code",
   "execution_count": 95,
   "metadata": {},
   "outputs": [
    {
     "data": {
      "image/png": "[encoded data removed]",
      "text/plain": [
       "<Figure size 864x432 with 1 Axes>"
      ]
     },
     "metadata": {
      "needs_background": "light"
     },
     "output_type": "display_data"
    }
   ],
   "source": [
    "plt.figure(figsize=(12, 6))\n",
    "\n",
    "time_building_stage_1.query('category==1')['delta_building_stage_1'].hist(label='победа над первым врагом')\n",
    "time_building_stage_1.query('category==2')['delta_building_stage_1'].hist(label='реализация проекта')\n",
    "\n",
    "plt.title('гистограмма распределения времени прохождения уровня по игрокам')\n",
    "plt.xlabel('время, дней')\n",
    "plt.ylabel('')\n",
    "plt.legend()\n",
    "\n",
    "plt.show()"
   ]
  },
  {
   "cell_type": "code",
   "execution_count": 96,
   "metadata": {},
   "outputs": [
    {
     "data": {
      "text/plain": [
       "1.8882835392369192e-97"
      ]
     },
     "execution_count": 96,
     "metadata": {},
     "output_type": "execute_result"
    }
   ],
   "source": [
    "alpha = 0.05  # критический уровень статистической значимости\n",
    "# если p-value окажется меньше него - отвергнем гипотезу\n",
    "\n",
    "results = st.ttest_ind(\n",
    "    time_building_stage_1.query('category==1')['delta_building_stage_1'],\n",
    "    time_building_stage_1.query('category==2')['delta_building_stage_1'])\n",
    "\n",
    "results.pvalue"
   ]
  },
  {
   "cell_type": "code",
   "execution_count": 97,
   "metadata": {},
   "outputs": [
    {
     "name": "stdout",
     "output_type": "stream",
     "text": [
      "Отвергаем нулевую гипотезу\n"
     ]
    }
   ],
   "source": [
    "if results.pvalue < alpha:\n",
    "    print('Отвергаем нулевую гипотезу')\n",
    "else:\n",
    "    print('Не получилось отвергнуть нулевую гипотезу') "
   ]
  },
  {
   "cell_type": "markdown",
   "metadata": {},
   "source": [
    "Время действительно имеет статистически значимые различия: те, кто не занимается проектом, завершают 1 уровень быстрее (в среднем за 11 дней). Реализация проекта занимает в среднем 13 дней."
   ]
  },
  {
   "cell_type": "markdown",
   "metadata": {},
   "source": [
    "### Гипотеза различия количества объектов\n",
    "\n",
    "Проверим гипотезу различия количества построенных объектов между пользователями, которые заканчивают уровень через реализацию проекта, и пользователями, которые заканчивают уровень победой над другим игроком.\n",
    "\n",
    "Рассчитаем среднее количество объектов, построенных игроком каждой категории (1 - победа над первым врагом; 2 - реализация проекта - разработка орбитальной сборки спутников)"
   ]
  },
  {
   "cell_type": "code",
   "execution_count": 98,
   "metadata": {},
   "outputs": [
    {
     "data": {
      "text/plain": [
       "category\n",
       "1     9.411541\n",
       "2    12.647910\n",
       "Name: n_buildings, dtype: float64"
      ]
     },
     "execution_count": 98,
     "metadata": {},
     "output_type": "execute_result"
    }
   ],
   "source": [
    "n_buildings = goal_game_actions.groupby('user_id')['building_type'].count().reset_index()\n",
    "n_buildings.columns = ['user_id', 'n_buildings']\n",
    "n_buildings['category'] = n_buildings['user_id'].apply(strategy)\n",
    "n_buildings.groupby('category')['n_buildings'].mean()"
   ]
  },
  {
   "cell_type": "markdown",
   "metadata": {},
   "source": [
    "Получили 9,4 для пользователей, которые заканчивают уровень победой над другим игроком, и 12,6 для пользователей, которые заканчивают уровень через реализацию проекта. Значима ли разница между этими числами? Зависит от дисперсии выборок, по которым рассчитаны значения. Вместо расчёта и сравнения самих средних, используем эти датасеты для проведения статистического теста.\n",
    "\n",
    "Н_0 : Количество построенных объектов у пользователей, которые заканчивают уровень через реализацию проекта, и пользователей, которые заканчивают уровень победой над другим игроком, не различается. \n",
    "\n",
    "Н_1 : Количество построенных объектов у пользователей, которые заканчивают уровень через реализацию проекта, и пользователей, которые заканчивают уровень победой над другим игроком, различается."
   ]
  },
  {
   "cell_type": "code",
   "execution_count": 99,
   "metadata": {},
   "outputs": [
    {
     "data": {
      "image/png": "[encoded data removed]",
      "text/plain": [
       "<Figure size 864x432 with 1 Axes>"
      ]
     },
     "metadata": {
      "needs_background": "light"
     },
     "output_type": "display_data"
    }
   ],
   "source": [
    "plt.figure(figsize=(12, 6))\n",
    "\n",
    "n_buildings.query('category==1')['n_buildings'].hist(label='победа над первым врагом')\n",
    "n_buildings.query('category==2')['n_buildings'].hist(label='реализация проекта')\n",
    "\n",
    "plt.title('гистограмма распределения количества объектов по игрокам')\n",
    "plt.xlabel('количество')\n",
    "plt.ylabel('')\n",
    "plt.legend()\n",
    "\n",
    "plt.show()"
   ]
  },
  {
   "cell_type": "code",
   "execution_count": 100,
   "metadata": {},
   "outputs": [
    {
     "data": {
      "text/plain": [
       "0.0"
      ]
     },
     "execution_count": 100,
     "metadata": {},
     "output_type": "execute_result"
    }
   ],
   "source": [
    "alpha = 0.05  # критический уровень статистической значимости\n",
    "# если p-value окажется меньше него - отвергнем гипотезу\n",
    "\n",
    "results = st.ttest_ind(\n",
    "    n_buildings.query('category==1')['n_buildings'],\n",
    "    n_buildings.query('category==2')['n_buildings'])\n",
    "\n",
    "results.pvalue"
   ]
  },
  {
   "cell_type": "markdown",
   "metadata": {},
   "source": [
    "Здесь у нас есть единичные выбросы, но при этом на гистограмме хорошо видно различие между выборками, т.е. ожидаемо малое значение p-value, t-test считает значимым сдвиг среднего."
   ]
  },
  {
   "cell_type": "code",
   "execution_count": 101,
   "metadata": {},
   "outputs": [
    {
     "data": {
      "text/plain": [
       "<matplotlib.axes._subplots.AxesSubplot at 0x7f61621f5e10>"
      ]
     },
     "execution_count": 101,
     "metadata": {},
     "output_type": "execute_result"
    },
    {
     "data": {
      "image/png": "[encoded data removed]",
      "text/plain": [
       "<Figure size 432x288 with 1 Axes>"
      ]
     },
     "metadata": {
      "needs_background": "light"
     },
     "output_type": "display_data"
    }
   ],
   "source": [
    "n_buildings.query('category==1').boxplot()"
   ]
  },
  {
   "cell_type": "code",
   "execution_count": 102,
   "metadata": {},
   "outputs": [
    {
     "data": {
      "text/plain": [
       "<matplotlib.axes._subplots.AxesSubplot at 0x7f61624f2c10>"
      ]
     },
     "execution_count": 102,
     "metadata": {},
     "output_type": "execute_result"
    },
    {
     "data": {
      "image/png": "[encoded data removed]",
      "text/plain": [
       "<Figure size 432x288 with 1 Axes>"
      ]
     },
     "metadata": {
      "needs_background": "light"
     },
     "output_type": "display_data"
    }
   ],
   "source": [
    "n_buildings.query('category==2').boxplot()"
   ]
  },
  {
   "cell_type": "code",
   "execution_count": 103,
   "metadata": {},
   "outputs": [
    {
     "name": "stdout",
     "output_type": "stream",
     "text": [
      "Отвергаем нулевую гипотезу\n"
     ]
    }
   ],
   "source": [
    "if results.pvalue < alpha:\n",
    "    print('Отвергаем нулевую гипотезу')\n",
    "else:\n",
    "    print('Не получилось отвергнуть нулевую гипотезу') "
   ]
  },
  {
   "cell_type": "markdown",
   "metadata": {},
   "source": [
    "Различие среднего числа построенных объектов для пользователей,  которые заканчивают уровень победой над другим игроком, и пользователей, которые заканчивают уровень через реализацию проекта, статистически значимо."
   ]
  },
  {
   "cell_type": "markdown",
   "metadata": {},
   "source": [
    "### Вывод\n",
    " Отвергли обе нулевые гипотезы: различия между пользователями, которые заканчивают уровень через реализацию проекта, и пользователями, которые заканчивают уровень победой над другим игроком, статистически значимы. Те, кто реализует проект, проходят уровень дольше и строят больше."
   ]
  },
  {
   "cell_type": "markdown",
   "metadata": {},
   "source": [
    "## Выводы и рекомендации"
   ]
  },
  {
   "cell_type": "markdown",
   "metadata": {},
   "source": [
    "Предполагаемая модель монетизации (что в приложении будет происходить показ рекламы на экране с выбором типа объекта для постройки) жизнеспособна. При стоимости просмотра рекламы 0,07 USD в среднем каждый игрок мог бы принести по 0,66 USD прибыли (на первом уровне).\n",
    "Общая сумма расходов на маркетинг составила 7603,58 USD. Привлечение одного игрока в среднем обошлось компании в 0,56 USD. Стоимость привлечения пользователя различается для разных источников: от 0,40 USD для `youtube_channel_reklama` до 0,78 USD для `facebook_ads`.\n",
    "Показатель окупаемости инвестиций в маркетинг в разрезе исчтоников ROMI > 1 для всеx источников, кроме `facebook_ads`, в среднем по всему проекту 1,18 : предполагаемая модель монетизации может приносить прибыль.\n",
    "\n",
    "1866 игроков (32%) заканчивают уровень через реализацию проекта, и 3951 (68%) - победой над другим игроком.\n",
    "\n",
    "В среднем игрок строит 11 объектов до завершения 1 уровня, от постройки первого объекта до завершения 1 уровня проходит 12 дней. Для всех игроков первым построенным зданием является `assembly_shop` — сборочный цех.\n",
    "\n",
    " Для пользователей, которые заканчивают уровень через реализацию проекта, и пользователей, которые заканчивают уровень победой над другим игроком, различаются время прождения уровня и количество построенных объектов: первые строят больше, следовательно могут принести больше прибыли от просмотра рекламы.\n",
    " \n",
    "Рекомендации:\n",
    "- показ рекламы на экране с выбором типа объекта для постройки;\n",
    "- в маркетинге делать упор на `youtube_channel_reklama`, снизить расходы на `facebook_ads`;\n",
    "- изменить сценарий завершения уровня."
   ]
  }
 ],
 "metadata": {
  "ExecuteTimeLog": [
   {
    "duration": 229,
    "start_time": "2021-10-05T19:31:01.618Z"
   },
   {
    "duration": 1776,
    "start_time": "2021-10-05T19:31:26.470Z"
   },
   {
    "duration": 1525,
    "start_time": "2021-10-05T19:31:31.845Z"
   },
   {
    "duration": 192,
    "start_time": "2021-10-05T19:42:15.028Z"
   },
   {
    "duration": 17,
    "start_time": "2021-10-05T19:42:38.967Z"
   },
   {
    "duration": 28,
    "start_time": "2021-10-05T19:43:22.986Z"
   },
   {
    "duration": 1448,
    "start_time": "2021-10-05T19:45:36.149Z"
   },
   {
    "duration": 18,
    "start_time": "2021-10-05T19:46:02.234Z"
   },
   {
    "duration": 8,
    "start_time": "2021-10-05T19:55:45.478Z"
   },
   {
    "duration": 9,
    "start_time": "2021-10-05T19:55:52.937Z"
   },
   {
    "duration": 8,
    "start_time": "2021-10-05T19:56:09.097Z"
   },
   {
    "duration": 6,
    "start_time": "2021-10-05T19:56:27.635Z"
   },
   {
    "duration": 30,
    "start_time": "2021-10-05T19:57:42.512Z"
   },
   {
    "duration": 8,
    "start_time": "2021-10-05T19:57:58.176Z"
   },
   {
    "duration": 7,
    "start_time": "2021-10-05T19:58:47.319Z"
   },
   {
    "duration": 26,
    "start_time": "2021-10-05T20:16:59.191Z"
   },
   {
    "duration": 250,
    "start_time": "2021-10-05T20:19:57.326Z"
   },
   {
    "duration": 42,
    "start_time": "2021-10-05T20:20:08.084Z"
   },
   {
    "duration": 10,
    "start_time": "2021-10-05T20:22:43.364Z"
   },
   {
    "duration": 203,
    "start_time": "2021-10-06T10:25:09.163Z"
   },
   {
    "duration": 539,
    "start_time": "2021-10-06T10:25:19.314Z"
   },
   {
    "duration": 190,
    "start_time": "2021-10-06T10:25:19.855Z"
   },
   {
    "duration": 21,
    "start_time": "2021-10-06T10:25:20.047Z"
   },
   {
    "duration": 41,
    "start_time": "2021-10-06T10:25:20.070Z"
   },
   {
    "duration": 16,
    "start_time": "2021-10-06T10:25:20.114Z"
   },
   {
    "duration": 10,
    "start_time": "2021-10-06T10:25:20.132Z"
   },
   {
    "duration": 6,
    "start_time": "2021-10-06T10:25:20.143Z"
   },
   {
    "duration": 27,
    "start_time": "2021-10-06T10:25:20.152Z"
   },
   {
    "duration": 18,
    "start_time": "2021-10-06T10:25:20.181Z"
   },
   {
    "duration": 7,
    "start_time": "2021-10-06T10:25:20.201Z"
   },
   {
    "duration": 31,
    "start_time": "2021-10-06T10:25:20.209Z"
   },
   {
    "duration": 59,
    "start_time": "2021-10-06T10:25:20.242Z"
   },
   {
    "duration": 11,
    "start_time": "2021-10-06T10:25:20.302Z"
   },
   {
    "duration": 33,
    "start_time": "2021-10-06T10:25:20.315Z"
   },
   {
    "duration": 9,
    "start_time": "2021-10-06T10:25:37.809Z"
   },
   {
    "duration": 23,
    "start_time": "2021-10-06T10:25:59.279Z"
   },
   {
    "duration": 4,
    "start_time": "2021-10-06T10:27:03.496Z"
   },
   {
    "duration": 8,
    "start_time": "2021-10-06T10:27:13.576Z"
   },
   {
    "duration": 6,
    "start_time": "2021-10-06T10:27:25.907Z"
   },
   {
    "duration": 49,
    "start_time": "2021-10-06T10:30:07.970Z"
   },
   {
    "duration": 61,
    "start_time": "2021-10-06T10:31:03.955Z"
   },
   {
    "duration": 46,
    "start_time": "2021-10-06T10:31:14.098Z"
   },
   {
    "duration": 5,
    "start_time": "2021-10-06T10:31:29.615Z"
   },
   {
    "duration": 9,
    "start_time": "2021-10-06T10:31:55.179Z"
   },
   {
    "duration": 11,
    "start_time": "2021-10-06T10:49:28.514Z"
   },
   {
    "duration": 12,
    "start_time": "2021-10-06T10:50:09.378Z"
   },
   {
    "duration": 10,
    "start_time": "2021-10-06T10:50:48.446Z"
   },
   {
    "duration": 10,
    "start_time": "2021-10-06T10:51:37.527Z"
   },
   {
    "duration": 209,
    "start_time": "2021-10-06T10:52:22.994Z"
   },
   {
    "duration": 19,
    "start_time": "2021-10-06T10:52:30.545Z"
   },
   {
    "duration": 15,
    "start_time": "2021-10-06T10:53:02.392Z"
   },
   {
    "duration": 17,
    "start_time": "2021-10-06T10:53:16.786Z"
   },
   {
    "duration": 23,
    "start_time": "2021-10-06T10:53:25.478Z"
   },
   {
    "duration": 147,
    "start_time": "2021-10-06T10:54:45.444Z"
   },
   {
    "duration": 143,
    "start_time": "2021-10-06T10:54:51.996Z"
   },
   {
    "duration": 10,
    "start_time": "2021-10-06T10:55:44.519Z"
   },
   {
    "duration": 12,
    "start_time": "2021-10-06T10:58:01.415Z"
   },
   {
    "duration": 19,
    "start_time": "2021-10-06T11:00:42.869Z"
   },
   {
    "duration": 59,
    "start_time": "2021-10-06T16:03:06.304Z"
   },
   {
    "duration": 3,
    "start_time": "2021-10-06T16:03:42.033Z"
   },
   {
    "duration": 4,
    "start_time": "2021-10-06T16:04:19.893Z"
   },
   {
    "duration": 5,
    "start_time": "2021-10-06T16:04:43.494Z"
   },
   {
    "duration": 3,
    "start_time": "2021-10-06T16:05:08.811Z"
   },
   {
    "duration": 4,
    "start_time": "2021-10-06T16:05:27.166Z"
   },
   {
    "duration": 1591,
    "start_time": "2021-10-06T16:05:37.567Z"
   },
   {
    "duration": 6,
    "start_time": "2021-10-06T16:05:44.708Z"
   },
   {
    "duration": 4,
    "start_time": "2021-10-06T16:06:01.262Z"
   },
   {
    "duration": 4,
    "start_time": "2021-10-06T16:06:40.061Z"
   },
   {
    "duration": 50,
    "start_time": "2021-10-06T16:06:59.959Z"
   },
   {
    "duration": 2017,
    "start_time": "2021-10-06T16:07:27.956Z"
   },
   {
    "duration": 137,
    "start_time": "2021-10-06T16:07:45.238Z"
   },
   {
    "duration": 3,
    "start_time": "2021-10-06T16:07:52.072Z"
   },
   {
    "duration": 9,
    "start_time": "2021-10-06T16:11:27.295Z"
   },
   {
    "duration": 155,
    "start_time": "2021-10-06T16:14:29.733Z"
   },
   {
    "duration": 269,
    "start_time": "2021-10-06T16:14:39.891Z"
   },
   {
    "duration": 10,
    "start_time": "2021-10-06T16:14:52.900Z"
   },
   {
    "duration": 10,
    "start_time": "2021-10-06T16:15:21.997Z"
   },
   {
    "duration": 18,
    "start_time": "2021-10-06T16:15:40.690Z"
   },
   {
    "duration": 4,
    "start_time": "2021-10-06T16:16:00.031Z"
   },
   {
    "duration": 14,
    "start_time": "2021-10-06T16:16:02.774Z"
   },
   {
    "duration": 14,
    "start_time": "2021-10-06T16:16:24.318Z"
   },
   {
    "duration": 3,
    "start_time": "2021-10-06T16:16:37.601Z"
   },
   {
    "duration": 3,
    "start_time": "2021-10-06T16:17:03.745Z"
   },
   {
    "duration": 10711,
    "start_time": "2021-10-06T16:20:56.633Z"
   },
   {
    "duration": 9,
    "start_time": "2021-10-06T16:21:26.386Z"
   },
   {
    "duration": 11,
    "start_time": "2021-10-06T16:23:06.005Z"
   },
   {
    "duration": 33,
    "start_time": "2021-10-06T16:23:33.280Z"
   },
   {
    "duration": 164,
    "start_time": "2021-10-06T16:23:59.314Z"
   },
   {
    "duration": 29,
    "start_time": "2021-10-06T16:24:32.415Z"
   },
   {
    "duration": 15,
    "start_time": "2021-10-06T16:41:39.426Z"
   },
   {
    "duration": 5,
    "start_time": "2021-10-06T16:42:18.028Z"
   },
   {
    "duration": 4,
    "start_time": "2021-10-06T16:42:32.589Z"
   },
   {
    "duration": 279,
    "start_time": "2021-10-06T16:45:19.243Z"
   },
   {
    "duration": 3,
    "start_time": "2021-10-06T16:46:08.565Z"
   },
   {
    "duration": 212,
    "start_time": "2021-10-06T16:46:14.508Z"
   },
   {
    "duration": 145,
    "start_time": "2021-10-06T16:53:27.952Z"
   },
   {
    "duration": 337,
    "start_time": "2021-10-06T16:53:46.799Z"
   },
   {
    "duration": 3,
    "start_time": "2021-10-06T16:56:08.176Z"
   },
   {
    "duration": 246,
    "start_time": "2021-10-06T16:56:13.797Z"
   },
   {
    "duration": 238,
    "start_time": "2021-10-06T16:56:48.351Z"
   },
   {
    "duration": 263,
    "start_time": "2021-10-06T16:58:38.150Z"
   },
   {
    "duration": 271,
    "start_time": "2021-10-06T17:03:26.101Z"
   },
   {
    "duration": 274,
    "start_time": "2021-10-06T17:03:58.265Z"
   },
   {
    "duration": 290,
    "start_time": "2021-10-06T17:04:28.964Z"
   },
   {
    "duration": 309,
    "start_time": "2021-10-06T17:05:42.955Z"
   },
   {
    "duration": 289,
    "start_time": "2021-10-06T17:05:54.435Z"
   },
   {
    "duration": 295,
    "start_time": "2021-10-06T17:06:08.227Z"
   },
   {
    "duration": 324,
    "start_time": "2021-10-06T17:06:23.115Z"
   },
   {
    "duration": 473,
    "start_time": "2021-10-06T17:06:43.244Z"
   },
   {
    "duration": 291,
    "start_time": "2021-10-06T17:07:01.875Z"
   },
   {
    "duration": 294,
    "start_time": "2021-10-06T17:08:28.788Z"
   },
   {
    "duration": 287,
    "start_time": "2021-10-06T17:08:57.607Z"
   },
   {
    "duration": 12,
    "start_time": "2021-10-06T17:15:25.089Z"
   },
   {
    "duration": 565,
    "start_time": "2021-10-06T17:16:31.242Z"
   },
   {
    "duration": 129,
    "start_time": "2021-10-06T17:19:24.237Z"
   },
   {
    "duration": 123,
    "start_time": "2021-10-06T17:21:59.411Z"
   },
   {
    "duration": 126,
    "start_time": "2021-10-06T17:22:06.576Z"
   },
   {
    "duration": 128,
    "start_time": "2021-10-06T17:22:16.971Z"
   },
   {
    "duration": 134,
    "start_time": "2021-10-06T17:22:26.472Z"
   },
   {
    "duration": 10,
    "start_time": "2021-10-06T17:24:27.054Z"
   },
   {
    "duration": 9,
    "start_time": "2021-10-06T17:24:33.936Z"
   },
   {
    "duration": 9,
    "start_time": "2021-10-06T17:30:56.173Z"
   },
   {
    "duration": 9,
    "start_time": "2021-10-06T17:31:28.115Z"
   },
   {
    "duration": 10,
    "start_time": "2021-10-06T17:31:59.430Z"
   },
   {
    "duration": 3,
    "start_time": "2021-10-06T18:03:03.421Z"
   },
   {
    "duration": 4,
    "start_time": "2021-10-06T18:03:13.429Z"
   },
   {
    "duration": 4,
    "start_time": "2021-10-06T18:03:25.132Z"
   },
   {
    "duration": 145,
    "start_time": "2021-10-06T18:04:16.165Z"
   },
   {
    "duration": 137,
    "start_time": "2021-10-06T18:04:23.167Z"
   },
   {
    "duration": 25,
    "start_time": "2021-10-06T18:04:30.542Z"
   },
   {
    "duration": 10,
    "start_time": "2021-10-06T18:04:42.785Z"
   },
   {
    "duration": 10,
    "start_time": "2021-10-06T18:04:54.475Z"
   },
   {
    "duration": 19,
    "start_time": "2021-10-06T18:08:52.620Z"
   },
   {
    "duration": 4,
    "start_time": "2021-10-06T18:11:06.524Z"
   },
   {
    "duration": 177,
    "start_time": "2021-10-06T18:12:20.934Z"
   },
   {
    "duration": 5,
    "start_time": "2021-10-06T18:12:28.512Z"
   },
   {
    "duration": 18,
    "start_time": "2021-10-06T18:15:40.061Z"
   },
   {
    "duration": 152,
    "start_time": "2021-10-06T18:36:06.267Z"
   },
   {
    "duration": 54,
    "start_time": "2021-10-06T18:38:30.596Z"
   },
   {
    "duration": 40,
    "start_time": "2021-10-06T18:38:53.630Z"
   },
   {
    "duration": 11,
    "start_time": "2021-10-06T18:39:03.959Z"
   },
   {
    "duration": 11,
    "start_time": "2021-10-06T18:40:36.653Z"
   },
   {
    "duration": 48,
    "start_time": "2021-10-06T18:41:42.986Z"
   },
   {
    "duration": 45,
    "start_time": "2021-10-06T18:44:57.548Z"
   },
   {
    "duration": 55,
    "start_time": "2021-10-06T18:44:58.270Z"
   },
   {
    "duration": 11,
    "start_time": "2021-10-06T18:45:13.593Z"
   },
   {
    "duration": 599,
    "start_time": "2021-10-06T18:45:25.518Z"
   },
   {
    "duration": 201,
    "start_time": "2021-10-06T18:45:26.118Z"
   },
   {
    "duration": 11,
    "start_time": "2021-10-06T18:45:26.322Z"
   },
   {
    "duration": 29,
    "start_time": "2021-10-06T18:45:26.335Z"
   },
   {
    "duration": 16,
    "start_time": "2021-10-06T18:45:26.366Z"
   },
   {
    "duration": 18,
    "start_time": "2021-10-06T18:45:26.384Z"
   },
   {
    "duration": 8,
    "start_time": "2021-10-06T18:45:26.404Z"
   },
   {
    "duration": 30,
    "start_time": "2021-10-06T18:45:26.415Z"
   },
   {
    "duration": 7,
    "start_time": "2021-10-06T18:45:26.447Z"
   },
   {
    "duration": 9,
    "start_time": "2021-10-06T18:45:26.455Z"
   },
   {
    "duration": 40,
    "start_time": "2021-10-06T18:45:26.466Z"
   },
   {
    "duration": 46,
    "start_time": "2021-10-06T18:45:26.508Z"
   },
   {
    "duration": 11,
    "start_time": "2021-10-06T18:45:26.556Z"
   },
   {
    "duration": 59,
    "start_time": "2021-10-06T18:45:26.569Z"
   },
   {
    "duration": 25,
    "start_time": "2021-10-06T18:45:26.630Z"
   },
   {
    "duration": 4,
    "start_time": "2021-10-06T18:45:26.657Z"
   },
   {
    "duration": 7,
    "start_time": "2021-10-06T18:45:26.662Z"
   },
   {
    "duration": 77,
    "start_time": "2021-10-06T18:45:26.671Z"
   },
   {
    "duration": 81,
    "start_time": "2021-10-06T18:45:26.750Z"
   },
   {
    "duration": 45,
    "start_time": "2021-10-06T18:45:26.833Z"
   },
   {
    "duration": 5,
    "start_time": "2021-10-06T18:45:26.880Z"
   },
   {
    "duration": 9,
    "start_time": "2021-10-06T18:45:26.899Z"
   },
   {
    "duration": 9,
    "start_time": "2021-10-06T18:45:26.912Z"
   },
   {
    "duration": 10,
    "start_time": "2021-10-06T18:45:26.923Z"
   },
   {
    "duration": 17,
    "start_time": "2021-10-06T18:45:26.935Z"
   },
   {
    "duration": 54,
    "start_time": "2021-10-06T18:45:26.954Z"
   },
   {
    "duration": 3,
    "start_time": "2021-10-06T18:45:27.010Z"
   },
   {
    "duration": 11275,
    "start_time": "2021-10-06T18:45:27.015Z"
   },
   {
    "duration": 12,
    "start_time": "2021-10-06T18:45:38.292Z"
   },
   {
    "duration": 28,
    "start_time": "2021-10-06T18:45:38.305Z"
   },
   {
    "duration": 4,
    "start_time": "2021-10-06T18:45:38.335Z"
   },
   {
    "duration": 16,
    "start_time": "2021-10-06T18:45:38.340Z"
   },
   {
    "duration": 332,
    "start_time": "2021-10-06T18:45:38.358Z"
   },
   {
    "duration": 9,
    "start_time": "2021-10-06T18:45:38.699Z"
   },
   {
    "duration": 32,
    "start_time": "2021-10-06T18:45:38.709Z"
   },
   {
    "duration": 12,
    "start_time": "2021-10-06T18:45:38.743Z"
   },
   {
    "duration": 15,
    "start_time": "2021-10-06T18:45:38.756Z"
   },
   {
    "duration": 129,
    "start_time": "2021-10-06T18:45:38.772Z"
   },
   {
    "duration": 9,
    "start_time": "2021-10-06T18:45:38.903Z"
   },
   {
    "duration": 5,
    "start_time": "2021-10-06T18:45:38.913Z"
   },
   {
    "duration": 26,
    "start_time": "2021-10-06T18:45:38.919Z"
   },
   {
    "duration": 9,
    "start_time": "2021-10-06T18:45:38.947Z"
   },
   {
    "duration": 5,
    "start_time": "2021-10-06T18:45:38.958Z"
   },
   {
    "duration": 50,
    "start_time": "2021-10-06T18:45:38.965Z"
   },
   {
    "duration": 4,
    "start_time": "2021-10-06T18:45:39.017Z"
   },
   {
    "duration": 20,
    "start_time": "2021-10-06T18:45:39.023Z"
   },
   {
    "duration": 36,
    "start_time": "2021-10-06T18:45:39.045Z"
   },
   {
    "duration": 26,
    "start_time": "2021-10-06T18:45:39.082Z"
   },
   {
    "duration": 206,
    "start_time": "2021-10-06T19:04:12.124Z"
   },
   {
    "duration": 10,
    "start_time": "2021-10-06T19:04:22.799Z"
   },
   {
    "duration": 137,
    "start_time": "2021-10-06T19:06:46.667Z"
   },
   {
    "duration": 9,
    "start_time": "2021-10-06T19:09:52.320Z"
   },
   {
    "duration": 112,
    "start_time": "2021-10-06T19:09:58.403Z"
   },
   {
    "duration": 11,
    "start_time": "2021-10-06T19:10:03.698Z"
   },
   {
    "duration": 7,
    "start_time": "2021-10-06T19:11:16.469Z"
   },
   {
    "duration": 9,
    "start_time": "2021-10-06T19:11:46.153Z"
   },
   {
    "duration": 10,
    "start_time": "2021-10-06T19:12:29.472Z"
   },
   {
    "duration": 238,
    "start_time": "2021-10-06T19:15:09.143Z"
   },
   {
    "duration": 151,
    "start_time": "2021-10-06T19:15:52.553Z"
   },
   {
    "duration": 305,
    "start_time": "2021-10-06T19:16:21.536Z"
   },
   {
    "duration": 157,
    "start_time": "2021-10-06T19:16:30.767Z"
   },
   {
    "duration": 245,
    "start_time": "2021-10-06T19:16:38.523Z"
   },
   {
    "duration": 232,
    "start_time": "2021-10-06T19:17:07.284Z"
   },
   {
    "duration": 230,
    "start_time": "2021-10-06T19:17:21.280Z"
   },
   {
    "duration": 725,
    "start_time": "2021-10-06T19:17:56.668Z"
   },
   {
    "duration": 224,
    "start_time": "2021-10-06T19:18:11.175Z"
   },
   {
    "duration": 14,
    "start_time": "2021-10-06T19:21:09.224Z"
   },
   {
    "duration": 913,
    "start_time": "2021-10-07T09:37:39.939Z"
   },
   {
    "duration": 245,
    "start_time": "2021-10-07T09:37:40.855Z"
   },
   {
    "duration": 18,
    "start_time": "2021-10-07T09:37:41.103Z"
   },
   {
    "duration": 59,
    "start_time": "2021-10-07T09:37:41.123Z"
   },
   {
    "duration": 34,
    "start_time": "2021-10-07T09:37:41.185Z"
   },
   {
    "duration": 11,
    "start_time": "2021-10-07T09:37:41.221Z"
   },
   {
    "duration": 16,
    "start_time": "2021-10-07T09:37:41.234Z"
   },
   {
    "duration": 106,
    "start_time": "2021-10-07T09:37:41.254Z"
   },
   {
    "duration": 10,
    "start_time": "2021-10-07T09:37:41.363Z"
   },
   {
    "duration": 15,
    "start_time": "2021-10-07T09:37:41.376Z"
   },
   {
    "duration": 46,
    "start_time": "2021-10-07T09:37:41.393Z"
   },
   {
    "duration": 83,
    "start_time": "2021-10-07T09:37:41.441Z"
   },
   {
    "duration": 13,
    "start_time": "2021-10-07T09:37:41.526Z"
   },
   {
    "duration": 70,
    "start_time": "2021-10-07T09:37:41.542Z"
   },
   {
    "duration": 40,
    "start_time": "2021-10-07T09:37:41.615Z"
   },
   {
    "duration": 5,
    "start_time": "2021-10-07T09:37:41.657Z"
   },
   {
    "duration": 8,
    "start_time": "2021-10-07T09:37:41.682Z"
   },
   {
    "duration": 102,
    "start_time": "2021-10-07T09:37:41.692Z"
   },
   {
    "duration": 111,
    "start_time": "2021-10-07T09:37:41.796Z"
   },
   {
    "duration": 91,
    "start_time": "2021-10-07T09:37:41.909Z"
   },
   {
    "duration": 8,
    "start_time": "2021-10-07T09:37:42.002Z"
   },
   {
    "duration": 24,
    "start_time": "2021-10-07T09:37:42.012Z"
   },
   {
    "duration": 13,
    "start_time": "2021-10-07T09:37:42.042Z"
   },
   {
    "duration": 34,
    "start_time": "2021-10-07T09:37:42.058Z"
   },
   {
    "duration": 36,
    "start_time": "2021-10-07T09:37:42.095Z"
   },
   {
    "duration": 24,
    "start_time": "2021-10-07T09:37:42.134Z"
   },
   {
    "duration": 4,
    "start_time": "2021-10-07T09:37:42.183Z"
   },
   {
    "duration": 24843,
    "start_time": "2021-10-07T09:37:42.188Z"
   },
   {
    "duration": 18,
    "start_time": "2021-10-07T09:38:07.034Z"
   },
   {
    "duration": 77,
    "start_time": "2021-10-07T09:38:07.055Z"
   },
   {
    "duration": 6,
    "start_time": "2021-10-07T09:38:07.135Z"
   },
   {
    "duration": 13,
    "start_time": "2021-10-07T09:38:07.144Z"
   },
   {
    "duration": 728,
    "start_time": "2021-10-07T09:38:07.159Z"
   },
   {
    "duration": 16,
    "start_time": "2021-10-07T09:38:07.890Z"
   },
   {
    "duration": 18,
    "start_time": "2021-10-07T09:38:07.909Z"
   },
   {
    "duration": 35,
    "start_time": "2021-10-07T09:38:07.930Z"
   },
   {
    "duration": 23,
    "start_time": "2021-10-07T09:38:07.983Z"
   },
   {
    "duration": 304,
    "start_time": "2021-10-07T09:38:08.009Z"
   },
   {
    "duration": 13,
    "start_time": "2021-10-07T09:38:08.315Z"
   },
   {
    "duration": 19,
    "start_time": "2021-10-07T09:38:08.330Z"
   },
   {
    "duration": 74,
    "start_time": "2021-10-07T09:38:08.351Z"
   },
   {
    "duration": 20,
    "start_time": "2021-10-07T09:38:08.428Z"
   },
   {
    "duration": 24,
    "start_time": "2021-10-07T09:38:08.451Z"
   },
   {
    "duration": 38,
    "start_time": "2021-10-07T09:38:08.483Z"
   },
   {
    "duration": 6,
    "start_time": "2021-10-07T09:38:08.523Z"
   },
   {
    "duration": 53,
    "start_time": "2021-10-07T09:38:08.531Z"
   },
   {
    "duration": 55,
    "start_time": "2021-10-07T09:38:08.586Z"
   },
   {
    "duration": 40,
    "start_time": "2021-10-07T09:38:08.643Z"
   },
   {
    "duration": 13,
    "start_time": "2021-10-07T09:38:08.686Z"
   },
   {
    "duration": 221,
    "start_time": "2021-10-07T09:38:08.702Z"
   },
   {
    "duration": 14,
    "start_time": "2021-10-07T09:38:08.926Z"
   },
   {
    "duration": 33,
    "start_time": "2021-10-07T09:38:08.942Z"
   },
   {
    "duration": 368,
    "start_time": "2021-10-07T09:38:08.977Z"
   },
   {
    "duration": 19,
    "start_time": "2021-10-07T09:38:09.348Z"
   },
   {
    "duration": 24,
    "start_time": "2021-10-07T09:41:13.509Z"
   },
   {
    "duration": 18,
    "start_time": "2021-10-07T09:46:36.901Z"
   },
   {
    "duration": 18,
    "start_time": "2021-10-07T09:53:53.701Z"
   },
   {
    "duration": 469,
    "start_time": "2021-10-07T09:59:57.279Z"
   },
   {
    "duration": 433,
    "start_time": "2021-10-07T10:00:15.615Z"
   },
   {
    "duration": 394,
    "start_time": "2021-10-07T10:00:46.353Z"
   },
   {
    "duration": 400,
    "start_time": "2021-10-07T10:01:31.262Z"
   },
   {
    "duration": 371,
    "start_time": "2021-10-07T10:01:41.101Z"
   },
   {
    "duration": 6,
    "start_time": "2021-10-07T10:05:33.814Z"
   },
   {
    "duration": 4,
    "start_time": "2021-10-07T10:18:03.549Z"
   },
   {
    "duration": 1200,
    "start_time": "2021-10-07T15:36:11.723Z"
   },
   {
    "duration": 402,
    "start_time": "2021-10-07T15:36:12.927Z"
   },
   {
    "duration": 19,
    "start_time": "2021-10-07T15:36:13.332Z"
   },
   {
    "duration": 40,
    "start_time": "2021-10-07T15:36:13.362Z"
   },
   {
    "duration": 29,
    "start_time": "2021-10-07T15:36:13.405Z"
   },
   {
    "duration": 11,
    "start_time": "2021-10-07T15:36:13.437Z"
   },
   {
    "duration": 19,
    "start_time": "2021-10-07T15:36:13.450Z"
   },
   {
    "duration": 105,
    "start_time": "2021-10-07T15:36:13.474Z"
   },
   {
    "duration": 10,
    "start_time": "2021-10-07T15:36:13.583Z"
   },
   {
    "duration": 9,
    "start_time": "2021-10-07T15:36:13.595Z"
   },
   {
    "duration": 56,
    "start_time": "2021-10-07T15:36:13.607Z"
   },
   {
    "duration": 66,
    "start_time": "2021-10-07T15:36:13.666Z"
   },
   {
    "duration": 39,
    "start_time": "2021-10-07T15:36:13.735Z"
   },
   {
    "duration": 49,
    "start_time": "2021-10-07T15:36:13.777Z"
   },
   {
    "duration": 64,
    "start_time": "2021-10-07T15:36:13.829Z"
   },
   {
    "duration": 6,
    "start_time": "2021-10-07T15:36:13.896Z"
   },
   {
    "duration": 11,
    "start_time": "2021-10-07T15:36:13.905Z"
   },
   {
    "duration": 114,
    "start_time": "2021-10-07T15:36:13.920Z"
   },
   {
    "duration": 113,
    "start_time": "2021-10-07T15:36:14.037Z"
   },
   {
    "duration": 83,
    "start_time": "2021-10-07T15:36:14.153Z"
   },
   {
    "duration": 24,
    "start_time": "2021-10-07T15:36:14.239Z"
   },
   {
    "duration": 14,
    "start_time": "2021-10-07T15:36:14.266Z"
   },
   {
    "duration": 17,
    "start_time": "2021-10-07T15:36:14.288Z"
   },
   {
    "duration": 54,
    "start_time": "2021-10-07T15:36:14.309Z"
   },
   {
    "duration": 28,
    "start_time": "2021-10-07T15:36:14.367Z"
   },
   {
    "duration": 27,
    "start_time": "2021-10-07T15:36:14.398Z"
   },
   {
    "duration": 37,
    "start_time": "2021-10-07T15:36:14.428Z"
   },
   {
    "duration": 23419,
    "start_time": "2021-10-07T15:36:14.469Z"
   },
   {
    "duration": 17,
    "start_time": "2021-10-07T15:36:37.890Z"
   },
   {
    "duration": 60,
    "start_time": "2021-10-07T15:36:37.910Z"
   },
   {
    "duration": 6,
    "start_time": "2021-10-07T15:36:37.972Z"
   },
   {
    "duration": 7,
    "start_time": "2021-10-07T15:36:37.980Z"
   },
   {
    "duration": 539,
    "start_time": "2021-10-07T15:36:37.989Z"
   },
   {
    "duration": 12,
    "start_time": "2021-10-07T15:36:38.530Z"
   },
   {
    "duration": 23,
    "start_time": "2021-10-07T15:36:38.545Z"
   },
   {
    "duration": 21,
    "start_time": "2021-10-07T15:36:38.571Z"
   },
   {
    "duration": 17,
    "start_time": "2021-10-07T15:36:38.595Z"
   },
   {
    "duration": 247,
    "start_time": "2021-10-07T15:36:38.615Z"
   },
   {
    "duration": 13,
    "start_time": "2021-10-07T15:36:38.865Z"
   },
   {
    "duration": 9,
    "start_time": "2021-10-07T15:36:38.880Z"
   },
   {
    "duration": 44,
    "start_time": "2021-10-07T15:36:38.891Z"
   },
   {
    "duration": 36,
    "start_time": "2021-10-07T15:36:38.938Z"
   },
   {
    "duration": 7,
    "start_time": "2021-10-07T15:36:38.976Z"
   },
   {
    "duration": 27,
    "start_time": "2021-10-07T15:36:38.986Z"
   },
   {
    "duration": 6,
    "start_time": "2021-10-07T15:36:39.015Z"
   },
   {
    "duration": 25,
    "start_time": "2021-10-07T15:36:39.063Z"
   },
   {
    "duration": 79,
    "start_time": "2021-10-07T15:36:39.091Z"
   },
   {
    "duration": 17,
    "start_time": "2021-10-07T15:36:39.172Z"
   },
   {
    "duration": 16,
    "start_time": "2021-10-07T15:36:39.191Z"
   },
   {
    "duration": 228,
    "start_time": "2021-10-07T15:36:39.209Z"
   },
   {
    "duration": 23,
    "start_time": "2021-10-07T15:36:39.439Z"
   },
   {
    "duration": 15,
    "start_time": "2021-10-07T15:36:39.464Z"
   },
   {
    "duration": 399,
    "start_time": "2021-10-07T15:36:39.481Z"
   },
   {
    "duration": 26,
    "start_time": "2021-10-07T15:36:39.883Z"
   },
   {
    "duration": 50,
    "start_time": "2021-10-07T15:36:39.912Z"
   },
   {
    "duration": 17,
    "start_time": "2021-10-07T15:36:39.965Z"
   },
   {
    "duration": 496,
    "start_time": "2021-10-07T15:36:39.985Z"
   },
   {
    "duration": 406,
    "start_time": "2021-10-07T15:36:40.484Z"
   },
   {
    "duration": 7,
    "start_time": "2021-10-07T15:36:40.892Z"
   },
   {
    "duration": 19,
    "start_time": "2021-10-07T15:46:14.009Z"
   },
   {
    "duration": 18,
    "start_time": "2021-10-07T15:46:38.370Z"
   },
   {
    "duration": 46,
    "start_time": "2021-10-07T15:48:26.031Z"
   },
   {
    "duration": 80,
    "start_time": "2021-10-07T15:48:49.231Z"
   },
   {
    "duration": 84,
    "start_time": "2021-10-07T15:52:11.406Z"
   },
   {
    "duration": 120,
    "start_time": "2021-10-07T15:53:00.149Z"
   },
   {
    "duration": 179,
    "start_time": "2021-10-07T15:56:19.929Z"
   },
   {
    "duration": 129,
    "start_time": "2021-10-07T15:57:14.920Z"
   },
   {
    "duration": 30,
    "start_time": "2021-10-07T16:00:11.852Z"
   },
   {
    "duration": 417,
    "start_time": "2021-10-07T16:16:22.242Z"
   },
   {
    "duration": 336,
    "start_time": "2021-10-07T16:16:28.570Z"
   },
   {
    "duration": 43,
    "start_time": "2021-10-07T16:16:39.176Z"
   },
   {
    "duration": 331,
    "start_time": "2021-10-07T16:17:16.330Z"
   },
   {
    "duration": 46,
    "start_time": "2021-10-07T16:17:43.609Z"
   },
   {
    "duration": 28,
    "start_time": "2021-10-07T16:18:01.411Z"
   },
   {
    "duration": 27,
    "start_time": "2021-10-07T16:19:07.789Z"
   },
   {
    "duration": 46,
    "start_time": "2021-10-07T16:24:47.153Z"
   },
   {
    "duration": 43,
    "start_time": "2021-10-07T16:25:13.904Z"
   },
   {
    "duration": 128,
    "start_time": "2021-10-07T16:26:01.440Z"
   },
   {
    "duration": 35,
    "start_time": "2021-10-07T16:26:15.562Z"
   },
   {
    "duration": 62,
    "start_time": "2021-10-07T16:27:30.094Z"
   },
   {
    "duration": 28,
    "start_time": "2021-10-07T16:28:58.450Z"
   },
   {
    "duration": 15,
    "start_time": "2021-10-07T16:38:41.348Z"
   },
   {
    "duration": 19,
    "start_time": "2021-10-07T16:38:47.536Z"
   },
   {
    "duration": 102,
    "start_time": "2021-10-07T16:40:18.284Z"
   },
   {
    "duration": 7,
    "start_time": "2021-10-07T16:40:33.079Z"
   },
   {
    "duration": 13,
    "start_time": "2021-10-07T16:40:55.257Z"
   },
   {
    "duration": 6,
    "start_time": "2021-10-07T16:41:14.025Z"
   },
   {
    "duration": 44,
    "start_time": "2021-10-07T16:44:32.858Z"
   },
   {
    "duration": 35,
    "start_time": "2021-10-07T16:44:50.120Z"
   },
   {
    "duration": 943,
    "start_time": "2021-10-07T16:51:31.040Z"
   },
   {
    "duration": 268,
    "start_time": "2021-10-07T16:51:31.986Z"
   },
   {
    "duration": 19,
    "start_time": "2021-10-07T16:51:32.261Z"
   },
   {
    "duration": 43,
    "start_time": "2021-10-07T16:51:32.282Z"
   },
   {
    "duration": 48,
    "start_time": "2021-10-07T16:51:32.328Z"
   },
   {
    "duration": 19,
    "start_time": "2021-10-07T16:51:32.379Z"
   },
   {
    "duration": 8,
    "start_time": "2021-10-07T16:51:32.400Z"
   },
   {
    "duration": 54,
    "start_time": "2021-10-07T16:51:32.412Z"
   },
   {
    "duration": 12,
    "start_time": "2021-10-07T16:51:32.470Z"
   },
   {
    "duration": 12,
    "start_time": "2021-10-07T16:51:32.485Z"
   },
   {
    "duration": 73,
    "start_time": "2021-10-07T16:51:32.499Z"
   },
   {
    "duration": 109,
    "start_time": "2021-10-07T16:51:32.575Z"
   },
   {
    "duration": 15,
    "start_time": "2021-10-07T16:51:32.687Z"
   },
   {
    "duration": 73,
    "start_time": "2021-10-07T16:51:32.704Z"
   },
   {
    "duration": 35,
    "start_time": "2021-10-07T16:51:32.780Z"
   },
   {
    "duration": 5,
    "start_time": "2021-10-07T16:51:32.818Z"
   },
   {
    "duration": 42,
    "start_time": "2021-10-07T16:51:32.826Z"
   },
   {
    "duration": 93,
    "start_time": "2021-10-07T16:51:32.870Z"
   },
   {
    "duration": 110,
    "start_time": "2021-10-07T16:51:32.965Z"
   },
   {
    "duration": 93,
    "start_time": "2021-10-07T16:51:33.078Z"
   },
   {
    "duration": 7,
    "start_time": "2021-10-07T16:51:33.173Z"
   },
   {
    "duration": 22,
    "start_time": "2021-10-07T16:51:33.182Z"
   },
   {
    "duration": 12,
    "start_time": "2021-10-07T16:51:33.209Z"
   },
   {
    "duration": 49,
    "start_time": "2021-10-07T16:51:33.225Z"
   },
   {
    "duration": 33,
    "start_time": "2021-10-07T16:51:33.276Z"
   },
   {
    "duration": 54,
    "start_time": "2021-10-07T16:51:33.311Z"
   },
   {
    "duration": 4,
    "start_time": "2021-10-07T16:51:33.367Z"
   },
   {
    "duration": 23750,
    "start_time": "2021-10-07T16:51:33.374Z"
   },
   {
    "duration": 13,
    "start_time": "2021-10-07T16:51:57.126Z"
   },
   {
    "duration": 55,
    "start_time": "2021-10-07T16:51:57.142Z"
   },
   {
    "duration": 7,
    "start_time": "2021-10-07T16:51:57.199Z"
   },
   {
    "duration": 7,
    "start_time": "2021-10-07T16:51:57.209Z"
   },
   {
    "duration": 792,
    "start_time": "2021-10-07T16:51:57.219Z"
   },
   {
    "duration": 18,
    "start_time": "2021-10-07T16:51:58.014Z"
   },
   {
    "duration": 37,
    "start_time": "2021-10-07T16:51:58.035Z"
   },
   {
    "duration": 20,
    "start_time": "2021-10-07T16:51:58.075Z"
   },
   {
    "duration": 19,
    "start_time": "2021-10-07T16:51:58.098Z"
   },
   {
    "duration": 241,
    "start_time": "2021-10-07T16:51:58.120Z"
   },
   {
    "duration": 13,
    "start_time": "2021-10-07T16:51:58.364Z"
   },
   {
    "duration": 5,
    "start_time": "2021-10-07T16:51:58.379Z"
   },
   {
    "duration": 45,
    "start_time": "2021-10-07T16:51:58.387Z"
   },
   {
    "duration": 14,
    "start_time": "2021-10-07T16:51:58.463Z"
   },
   {
    "duration": 8,
    "start_time": "2021-10-07T16:51:58.480Z"
   },
   {
    "duration": 32,
    "start_time": "2021-10-07T16:51:58.490Z"
   },
   {
    "duration": 37,
    "start_time": "2021-10-07T16:51:58.525Z"
   },
   {
    "duration": 26,
    "start_time": "2021-10-07T16:51:58.564Z"
   },
   {
    "duration": 77,
    "start_time": "2021-10-07T16:51:58.592Z"
   },
   {
    "duration": 17,
    "start_time": "2021-10-07T16:51:58.671Z"
   },
   {
    "duration": 21,
    "start_time": "2021-10-07T16:51:58.691Z"
   },
   {
    "duration": 335,
    "start_time": "2021-10-07T16:51:58.715Z"
   },
   {
    "duration": 23,
    "start_time": "2021-10-07T16:51:59.052Z"
   },
   {
    "duration": 17,
    "start_time": "2021-10-07T16:51:59.078Z"
   },
   {
    "duration": 441,
    "start_time": "2021-10-07T16:51:59.097Z"
   },
   {
    "duration": 33,
    "start_time": "2021-10-07T16:51:59.541Z"
   },
   {
    "duration": 18,
    "start_time": "2021-10-07T16:51:59.577Z"
   },
   {
    "duration": 17,
    "start_time": "2021-10-07T16:51:59.598Z"
   },
   {
    "duration": 619,
    "start_time": "2021-10-07T16:51:59.618Z"
   },
   {
    "duration": 507,
    "start_time": "2021-10-07T16:52:00.239Z"
   },
   {
    "duration": 18,
    "start_time": "2021-10-07T16:52:00.749Z"
   },
   {
    "duration": 23,
    "start_time": "2021-10-07T16:52:00.770Z"
   },
   {
    "duration": 15,
    "start_time": "2021-10-07T16:52:00.795Z"
   },
   {
    "duration": 154,
    "start_time": "2021-10-07T16:52:00.813Z"
   },
   {
    "duration": 27,
    "start_time": "2021-10-07T16:52:00.969Z"
   },
   {
    "duration": 71,
    "start_time": "2021-10-07T16:52:00.998Z"
   },
   {
    "duration": 26,
    "start_time": "2021-10-07T16:52:01.072Z"
   },
   {
    "duration": 12,
    "start_time": "2021-10-07T16:52:01.101Z"
   },
   {
    "duration": 46,
    "start_time": "2021-10-07T16:52:01.116Z"
   },
   {
    "duration": 22,
    "start_time": "2021-10-07T16:52:01.170Z"
   },
   {
    "duration": 24,
    "start_time": "2021-10-07T16:52:01.195Z"
   },
   {
    "duration": 1459,
    "start_time": "2021-10-07T16:52:01.222Z"
   },
   {
    "duration": -102,
    "start_time": "2021-10-07T16:52:02.786Z"
   },
   {
    "duration": 464,
    "start_time": "2021-10-07T16:52:15.121Z"
   },
   {
    "duration": 39,
    "start_time": "2021-10-07T16:53:33.770Z"
   },
   {
    "duration": 28,
    "start_time": "2021-10-07T16:53:36.959Z"
   },
   {
    "duration": 301,
    "start_time": "2021-10-07T16:56:48.220Z"
   },
   {
    "duration": 332,
    "start_time": "2021-10-07T16:57:08.152Z"
   },
   {
    "duration": 7,
    "start_time": "2021-10-07T16:57:18.419Z"
   },
   {
    "duration": 6,
    "start_time": "2021-10-07T16:58:06.539Z"
   },
   {
    "duration": 9,
    "start_time": "2021-10-07T17:05:50.489Z"
   },
   {
    "duration": 14,
    "start_time": "2021-10-07T17:06:00.935Z"
   },
   {
    "duration": 36,
    "start_time": "2021-10-07T17:08:58.030Z"
   },
   {
    "duration": 516,
    "start_time": "2021-10-07T17:14:08.794Z"
   },
   {
    "duration": 431,
    "start_time": "2021-10-07T17:14:22.503Z"
   },
   {
    "duration": 461,
    "start_time": "2021-10-07T17:14:37.905Z"
   },
   {
    "duration": 27,
    "start_time": "2021-10-07T17:15:00.120Z"
   },
   {
    "duration": 26,
    "start_time": "2021-10-07T17:15:06.822Z"
   },
   {
    "duration": 28,
    "start_time": "2021-10-07T17:15:24.212Z"
   },
   {
    "duration": 497,
    "start_time": "2021-10-07T17:15:26.303Z"
   },
   {
    "duration": 492,
    "start_time": "2021-10-07T17:15:39.645Z"
   },
   {
    "duration": 523,
    "start_time": "2021-10-07T17:16:06.243Z"
   },
   {
    "duration": 460,
    "start_time": "2021-10-07T17:16:18.125Z"
   },
   {
    "duration": 472,
    "start_time": "2021-10-07T17:16:25.319Z"
   },
   {
    "duration": 332,
    "start_time": "2021-10-07T17:16:49.359Z"
   },
   {
    "duration": 552,
    "start_time": "2021-10-07T17:17:05.804Z"
   },
   {
    "duration": 469,
    "start_time": "2021-10-07T17:17:18.266Z"
   },
   {
    "duration": 497,
    "start_time": "2021-10-07T17:17:53.767Z"
   },
   {
    "duration": 1496,
    "start_time": "2021-10-07T17:18:07.457Z"
   },
   {
    "duration": 478,
    "start_time": "2021-10-07T17:18:15.563Z"
   },
   {
    "duration": 479,
    "start_time": "2021-10-07T17:18:25.493Z"
   },
   {
    "duration": 445,
    "start_time": "2021-10-07T17:18:32.603Z"
   },
   {
    "duration": 477,
    "start_time": "2021-10-07T17:18:47.558Z"
   },
   {
    "duration": 74,
    "start_time": "2021-10-07T17:21:57.181Z"
   },
   {
    "duration": 175,
    "start_time": "2021-10-07T17:22:44.887Z"
   },
   {
    "duration": 8744,
    "start_time": "2021-10-07T17:23:45.522Z"
   },
   {
    "duration": 150,
    "start_time": "2021-10-07T17:24:30.125Z"
   },
   {
    "duration": 6,
    "start_time": "2021-10-07T17:24:33.075Z"
   },
   {
    "duration": 278,
    "start_time": "2021-10-08T08:42:51.483Z"
   },
   {
    "duration": 900,
    "start_time": "2021-10-08T08:43:03.094Z"
   },
   {
    "duration": 735,
    "start_time": "2021-10-08T08:43:03.997Z"
   },
   {
    "duration": 19,
    "start_time": "2021-10-08T08:43:04.735Z"
   },
   {
    "duration": 37,
    "start_time": "2021-10-08T08:43:04.757Z"
   },
   {
    "duration": 31,
    "start_time": "2021-10-08T08:43:04.797Z"
   },
   {
    "duration": 20,
    "start_time": "2021-10-08T08:43:04.830Z"
   },
   {
    "duration": 19,
    "start_time": "2021-10-08T08:43:04.852Z"
   },
   {
    "duration": 49,
    "start_time": "2021-10-08T08:43:04.875Z"
   },
   {
    "duration": 10,
    "start_time": "2021-10-08T08:43:04.927Z"
   },
   {
    "duration": 11,
    "start_time": "2021-10-08T08:43:04.939Z"
   },
   {
    "duration": 43,
    "start_time": "2021-10-08T08:43:04.953Z"
   },
   {
    "duration": 99,
    "start_time": "2021-10-08T08:43:04.998Z"
   },
   {
    "duration": 15,
    "start_time": "2021-10-08T08:43:05.099Z"
   },
   {
    "duration": 49,
    "start_time": "2021-10-08T08:43:05.123Z"
   },
   {
    "duration": 53,
    "start_time": "2021-10-08T08:43:05.174Z"
   },
   {
    "duration": 5,
    "start_time": "2021-10-08T08:43:05.229Z"
   },
   {
    "duration": 17,
    "start_time": "2021-10-08T08:43:05.237Z"
   },
   {
    "duration": 99,
    "start_time": "2021-10-08T08:43:05.257Z"
   },
   {
    "duration": 110,
    "start_time": "2021-10-08T08:43:05.359Z"
   },
   {
    "duration": 82,
    "start_time": "2021-10-08T08:43:05.471Z"
   },
   {
    "duration": 9,
    "start_time": "2021-10-08T08:43:05.556Z"
   },
   {
    "duration": 21,
    "start_time": "2021-10-08T08:43:05.568Z"
   },
   {
    "duration": 41,
    "start_time": "2021-10-08T08:43:05.596Z"
   },
   {
    "duration": 13,
    "start_time": "2021-10-08T08:43:05.643Z"
   },
   {
    "duration": 24,
    "start_time": "2021-10-08T08:43:05.658Z"
   },
   {
    "duration": 55,
    "start_time": "2021-10-08T08:43:05.684Z"
   },
   {
    "duration": 4,
    "start_time": "2021-10-08T08:43:05.741Z"
   },
   {
    "duration": 22680,
    "start_time": "2021-10-08T08:43:05.747Z"
   },
   {
    "duration": 12,
    "start_time": "2021-10-08T08:43:28.430Z"
   },
   {
    "duration": 62,
    "start_time": "2021-10-08T08:43:28.444Z"
   },
   {
    "duration": 6,
    "start_time": "2021-10-08T08:43:28.508Z"
   },
   {
    "duration": 17,
    "start_time": "2021-10-08T08:43:28.523Z"
   },
   {
    "duration": 488,
    "start_time": "2021-10-08T08:43:28.543Z"
   },
   {
    "duration": 12,
    "start_time": "2021-10-08T08:43:29.034Z"
   },
   {
    "duration": 32,
    "start_time": "2021-10-08T08:43:29.048Z"
   },
   {
    "duration": 36,
    "start_time": "2021-10-08T08:43:29.083Z"
   },
   {
    "duration": 40,
    "start_time": "2021-10-08T08:43:29.122Z"
   },
   {
    "duration": 222,
    "start_time": "2021-10-08T08:43:29.164Z"
   },
   {
    "duration": 12,
    "start_time": "2021-10-08T08:43:29.388Z"
   },
   {
    "duration": 31,
    "start_time": "2021-10-08T08:43:29.402Z"
   },
   {
    "duration": 60,
    "start_time": "2021-10-08T08:43:29.436Z"
   },
   {
    "duration": 15,
    "start_time": "2021-10-08T08:43:29.498Z"
   },
   {
    "duration": 31,
    "start_time": "2021-10-08T08:43:29.515Z"
   },
   {
    "duration": 37,
    "start_time": "2021-10-08T08:43:29.549Z"
   },
   {
    "duration": 158,
    "start_time": "2021-10-08T08:43:29.589Z"
   },
   {
    "duration": 6,
    "start_time": "2021-10-08T08:43:29.749Z"
   },
   {
    "duration": 49,
    "start_time": "2021-10-08T08:43:29.757Z"
   },
   {
    "duration": 67,
    "start_time": "2021-10-08T08:43:29.808Z"
   },
   {
    "duration": 18,
    "start_time": "2021-10-08T08:43:29.877Z"
   },
   {
    "duration": 33,
    "start_time": "2021-10-08T08:43:29.898Z"
   },
   {
    "duration": 230,
    "start_time": "2021-10-08T08:43:29.934Z"
   },
   {
    "duration": 15,
    "start_time": "2021-10-08T08:43:30.166Z"
   },
   {
    "duration": 42,
    "start_time": "2021-10-08T08:43:30.183Z"
   },
   {
    "duration": 405,
    "start_time": "2021-10-08T08:43:30.228Z"
   },
   {
    "duration": 30,
    "start_time": "2021-10-08T08:43:30.635Z"
   },
   {
    "duration": 29,
    "start_time": "2021-10-08T08:43:30.667Z"
   },
   {
    "duration": 40,
    "start_time": "2021-10-08T08:43:30.698Z"
   },
   {
    "duration": 526,
    "start_time": "2021-10-08T08:43:30.740Z"
   },
   {
    "duration": 411,
    "start_time": "2021-10-08T08:43:31.269Z"
   },
   {
    "duration": 6,
    "start_time": "2021-10-08T08:43:31.682Z"
   },
   {
    "duration": 55,
    "start_time": "2021-10-08T08:43:31.690Z"
   },
   {
    "duration": 43,
    "start_time": "2021-10-08T08:43:31.747Z"
   },
   {
    "duration": 58,
    "start_time": "2021-10-08T08:43:31.792Z"
   },
   {
    "duration": 138,
    "start_time": "2021-10-08T08:43:31.853Z"
   },
   {
    "duration": 34,
    "start_time": "2021-10-08T08:43:31.993Z"
   },
   {
    "duration": 475,
    "start_time": "2021-10-08T08:43:32.029Z"
   },
   {
    "duration": 57,
    "start_time": "2021-10-08T08:43:32.507Z"
   },
   {
    "duration": 28,
    "start_time": "2021-10-08T08:43:32.572Z"
   },
   {
    "duration": 28,
    "start_time": "2021-10-08T08:43:32.603Z"
   },
   {
    "duration": 18,
    "start_time": "2021-10-08T08:43:32.634Z"
   },
   {
    "duration": 31,
    "start_time": "2021-10-08T08:43:32.654Z"
   },
   {
    "duration": 16,
    "start_time": "2021-10-08T08:43:32.687Z"
   },
   {
    "duration": 57,
    "start_time": "2021-10-08T08:43:32.705Z"
   },
   {
    "duration": 27,
    "start_time": "2021-10-08T08:43:32.764Z"
   },
   {
    "duration": 24,
    "start_time": "2021-10-08T08:43:32.794Z"
   },
   {
    "duration": 160,
    "start_time": "2021-10-08T08:43:32.820Z"
   },
   {
    "duration": 7,
    "start_time": "2021-10-08T08:43:32.982Z"
   },
   {
    "duration": 38,
    "start_time": "2021-10-08T08:43:32.992Z"
   },
   {
    "duration": 26,
    "start_time": "2021-10-08T08:43:33.033Z"
   },
   {
    "duration": 162,
    "start_time": "2021-10-08T08:44:35.662Z"
   },
   {
    "duration": 164,
    "start_time": "2021-10-08T08:45:14.771Z"
   },
   {
    "duration": 5,
    "start_time": "2021-10-08T08:46:07.232Z"
   },
   {
    "duration": 12,
    "start_time": "2021-10-08T08:46:47.476Z"
   },
   {
    "duration": 317,
    "start_time": "2021-10-08T08:48:09.919Z"
   },
   {
    "duration": 698,
    "start_time": "2021-10-08T16:43:05.417Z"
   },
   {
    "duration": 658,
    "start_time": "2021-10-08T16:43:06.116Z"
   },
   {
    "duration": 13,
    "start_time": "2021-10-08T16:43:06.776Z"
   },
   {
    "duration": 30,
    "start_time": "2021-10-08T16:43:06.791Z"
   },
   {
    "duration": 16,
    "start_time": "2021-10-08T16:43:06.823Z"
   },
   {
    "duration": 13,
    "start_time": "2021-10-08T16:43:06.841Z"
   },
   {
    "duration": 7,
    "start_time": "2021-10-08T16:43:06.856Z"
   },
   {
    "duration": 38,
    "start_time": "2021-10-08T16:43:06.866Z"
   },
   {
    "duration": 7,
    "start_time": "2021-10-08T16:43:06.906Z"
   },
   {
    "duration": 9,
    "start_time": "2021-10-08T16:43:06.914Z"
   },
   {
    "duration": 35,
    "start_time": "2021-10-08T16:43:06.925Z"
   },
   {
    "duration": 47,
    "start_time": "2021-10-08T16:43:06.961Z"
   },
   {
    "duration": 9,
    "start_time": "2021-10-08T16:43:07.009Z"
   },
   {
    "duration": 50,
    "start_time": "2021-10-08T16:43:07.020Z"
   },
   {
    "duration": 23,
    "start_time": "2021-10-08T16:43:07.071Z"
   },
   {
    "duration": 3,
    "start_time": "2021-10-08T16:43:07.096Z"
   },
   {
    "duration": 7,
    "start_time": "2021-10-08T16:43:07.101Z"
   },
   {
    "duration": 69,
    "start_time": "2021-10-08T16:43:07.110Z"
   },
   {
    "duration": 75,
    "start_time": "2021-10-08T16:43:07.181Z"
   },
   {
    "duration": 50,
    "start_time": "2021-10-08T16:43:07.258Z"
   },
   {
    "duration": 6,
    "start_time": "2021-10-08T16:43:07.310Z"
   },
   {
    "duration": 31,
    "start_time": "2021-10-08T16:43:07.318Z"
   },
   {
    "duration": 10,
    "start_time": "2021-10-08T16:43:07.354Z"
   },
   {
    "duration": 16,
    "start_time": "2021-10-08T16:43:07.367Z"
   },
   {
    "duration": 19,
    "start_time": "2021-10-08T16:43:07.385Z"
   },
   {
    "duration": 31,
    "start_time": "2021-10-08T16:43:07.406Z"
   },
   {
    "duration": 12,
    "start_time": "2021-10-08T16:43:07.439Z"
   },
   {
    "duration": 10877,
    "start_time": "2021-10-08T16:43:07.453Z"
   },
   {
    "duration": 18,
    "start_time": "2021-10-08T16:43:18.332Z"
   },
   {
    "duration": 29,
    "start_time": "2021-10-08T16:43:18.351Z"
   },
   {
    "duration": 4,
    "start_time": "2021-10-08T16:43:18.382Z"
   },
   {
    "duration": 5,
    "start_time": "2021-10-08T16:43:18.388Z"
   },
   {
    "duration": 315,
    "start_time": "2021-10-08T16:43:18.395Z"
   },
   {
    "duration": 7,
    "start_time": "2021-10-08T16:43:18.712Z"
   },
   {
    "duration": 10,
    "start_time": "2021-10-08T16:43:18.721Z"
   },
   {
    "duration": 24,
    "start_time": "2021-10-08T16:43:18.732Z"
   },
   {
    "duration": 13,
    "start_time": "2021-10-08T16:43:18.757Z"
   },
   {
    "duration": 136,
    "start_time": "2021-10-08T16:43:18.771Z"
   },
   {
    "duration": 10,
    "start_time": "2021-10-08T16:43:18.909Z"
   },
   {
    "duration": 5,
    "start_time": "2021-10-08T16:43:18.921Z"
   },
   {
    "duration": 40,
    "start_time": "2021-10-08T16:43:18.927Z"
   },
   {
    "duration": 10,
    "start_time": "2021-10-08T16:43:18.969Z"
   },
   {
    "duration": 9,
    "start_time": "2021-10-08T16:43:18.980Z"
   },
   {
    "duration": 21,
    "start_time": "2021-10-08T16:43:18.991Z"
   },
   {
    "duration": 147,
    "start_time": "2021-10-08T16:43:19.014Z"
   },
   {
    "duration": 9,
    "start_time": "2021-10-08T16:43:19.163Z"
   },
   {
    "duration": 201,
    "start_time": "2021-10-08T16:43:19.174Z"
   },
   {
    "duration": 5,
    "start_time": "2021-10-08T16:43:19.376Z"
   },
   {
    "duration": 26,
    "start_time": "2021-10-08T16:43:19.383Z"
   },
   {
    "duration": 58,
    "start_time": "2021-10-08T16:43:19.410Z"
   },
   {
    "duration": 12,
    "start_time": "2021-10-08T16:43:19.470Z"
   },
   {
    "duration": 10,
    "start_time": "2021-10-08T16:43:19.484Z"
   },
   {
    "duration": 157,
    "start_time": "2021-10-08T16:43:19.496Z"
   },
   {
    "duration": 64,
    "start_time": "2021-10-08T16:43:19.654Z"
   },
   {
    "duration": 21,
    "start_time": "2021-10-08T16:43:19.719Z"
   },
   {
    "duration": 228,
    "start_time": "2021-10-08T16:43:19.742Z"
   },
   {
    "duration": 17,
    "start_time": "2021-10-08T16:43:19.972Z"
   },
   {
    "duration": 11,
    "start_time": "2021-10-08T16:43:19.991Z"
   },
   {
    "duration": 19,
    "start_time": "2021-10-08T16:43:20.003Z"
   },
   {
    "duration": 279,
    "start_time": "2021-10-08T16:43:20.024Z"
   },
   {
    "duration": 235,
    "start_time": "2021-10-08T16:43:20.305Z"
   },
   {
    "duration": 8,
    "start_time": "2021-10-08T16:43:20.542Z"
   },
   {
    "duration": 15,
    "start_time": "2021-10-08T16:43:20.552Z"
   },
   {
    "duration": 10,
    "start_time": "2021-10-08T16:43:20.569Z"
   },
   {
    "duration": 27,
    "start_time": "2021-10-08T16:43:20.581Z"
   },
   {
    "duration": 114,
    "start_time": "2021-10-08T16:43:20.610Z"
   },
   {
    "duration": 27,
    "start_time": "2021-10-08T16:43:20.726Z"
   },
   {
    "duration": 282,
    "start_time": "2021-10-08T16:43:20.757Z"
   },
   {
    "duration": 31,
    "start_time": "2021-10-08T16:43:21.041Z"
   },
   {
    "duration": 21,
    "start_time": "2021-10-08T16:43:21.073Z"
   },
   {
    "duration": 12,
    "start_time": "2021-10-08T16:43:21.096Z"
   },
   {
    "duration": 5,
    "start_time": "2021-10-08T16:43:21.110Z"
   },
   {
    "duration": 13,
    "start_time": "2021-10-08T16:43:21.149Z"
   },
   {
    "duration": 8,
    "start_time": "2021-10-08T16:43:21.165Z"
   },
   {
    "duration": 36,
    "start_time": "2021-10-08T16:43:21.175Z"
   },
   {
    "duration": 17,
    "start_time": "2021-10-08T16:43:21.213Z"
   },
   {
    "duration": 20,
    "start_time": "2021-10-08T16:43:21.231Z"
   },
   {
    "duration": 103,
    "start_time": "2021-10-08T16:43:21.253Z"
   },
   {
    "duration": 4,
    "start_time": "2021-10-08T16:43:21.358Z"
   },
   {
    "duration": 8,
    "start_time": "2021-10-08T16:43:21.364Z"
   },
   {
    "duration": 19,
    "start_time": "2021-10-08T16:43:21.373Z"
   },
   {
    "duration": 13,
    "start_time": "2021-10-08T16:52:06.891Z"
   },
   {
    "duration": 12,
    "start_time": "2021-10-08T16:52:36.754Z"
   },
   {
    "duration": 11,
    "start_time": "2021-10-08T16:53:07.285Z"
   },
   {
    "duration": 11,
    "start_time": "2021-10-08T16:54:12.172Z"
   },
   {
    "duration": 33,
    "start_time": "2021-10-08T16:58:56.281Z"
   },
   {
    "duration": 277,
    "start_time": "2021-10-08T17:00:38.543Z"
   },
   {
    "duration": 15,
    "start_time": "2021-10-08T17:01:06.083Z"
   },
   {
    "duration": 236,
    "start_time": "2021-10-08T17:03:34.464Z"
   },
   {
    "duration": 198,
    "start_time": "2021-10-08T17:03:57.866Z"
   },
   {
    "duration": 13,
    "start_time": "2021-10-08T17:05:24.937Z"
   },
   {
    "duration": 13,
    "start_time": "2021-10-08T17:05:54.147Z"
   },
   {
    "duration": 66,
    "start_time": "2021-10-08T17:06:40.245Z"
   },
   {
    "duration": 2170,
    "start_time": "2021-10-08T17:06:49.425Z"
   },
   {
    "duration": 5,
    "start_time": "2021-10-08T17:08:12.689Z"
   },
   {
    "duration": 14,
    "start_time": "2021-10-08T17:08:21.890Z"
   },
   {
    "duration": 12,
    "start_time": "2021-10-08T17:08:36.883Z"
   },
   {
    "duration": 695,
    "start_time": "2021-10-08T17:10:14.434Z"
   },
   {
    "duration": 206,
    "start_time": "2021-10-08T17:10:15.131Z"
   },
   {
    "duration": 13,
    "start_time": "2021-10-08T17:10:15.339Z"
   },
   {
    "duration": 30,
    "start_time": "2021-10-08T17:10:15.353Z"
   },
   {
    "duration": 16,
    "start_time": "2021-10-08T17:10:15.385Z"
   },
   {
    "duration": 11,
    "start_time": "2021-10-08T17:10:15.403Z"
   },
   {
    "duration": 9,
    "start_time": "2021-10-08T17:10:15.415Z"
   },
   {
    "duration": 34,
    "start_time": "2021-10-08T17:10:15.427Z"
   },
   {
    "duration": 8,
    "start_time": "2021-10-08T17:10:15.463Z"
   },
   {
    "duration": 11,
    "start_time": "2021-10-08T17:10:15.472Z"
   },
   {
    "duration": 28,
    "start_time": "2021-10-08T17:10:15.484Z"
   },
   {
    "duration": 67,
    "start_time": "2021-10-08T17:10:15.514Z"
   },
   {
    "duration": 10,
    "start_time": "2021-10-08T17:10:15.583Z"
   },
   {
    "duration": 55,
    "start_time": "2021-10-08T17:10:15.595Z"
   },
   {
    "duration": 25,
    "start_time": "2021-10-08T17:10:15.652Z"
   },
   {
    "duration": 3,
    "start_time": "2021-10-08T17:10:15.679Z"
   },
   {
    "duration": 8,
    "start_time": "2021-10-08T17:10:15.684Z"
   },
   {
    "duration": 69,
    "start_time": "2021-10-08T17:10:15.694Z"
   },
   {
    "duration": 67,
    "start_time": "2021-10-08T17:10:15.765Z"
   },
   {
    "duration": 62,
    "start_time": "2021-10-08T17:10:15.834Z"
   },
   {
    "duration": 6,
    "start_time": "2021-10-08T17:10:15.897Z"
   },
   {
    "duration": 13,
    "start_time": "2021-10-08T17:10:15.905Z"
   },
   {
    "duration": 31,
    "start_time": "2021-10-08T17:10:15.922Z"
   },
   {
    "duration": 9,
    "start_time": "2021-10-08T17:10:15.956Z"
   },
   {
    "duration": 22,
    "start_time": "2021-10-08T17:10:15.966Z"
   },
   {
    "duration": 18,
    "start_time": "2021-10-08T17:10:15.989Z"
   },
   {
    "duration": 3,
    "start_time": "2021-10-08T17:10:16.008Z"
   },
   {
    "duration": 11324,
    "start_time": "2021-10-08T17:10:16.013Z"
   },
   {
    "duration": 11,
    "start_time": "2021-10-08T17:10:27.339Z"
   },
   {
    "duration": 32,
    "start_time": "2021-10-08T17:10:27.352Z"
   },
   {
    "duration": 5,
    "start_time": "2021-10-08T17:10:27.386Z"
   },
   {
    "duration": 13,
    "start_time": "2021-10-08T17:10:27.393Z"
   },
   {
    "duration": 324,
    "start_time": "2021-10-08T17:10:27.408Z"
   },
   {
    "duration": 18,
    "start_time": "2021-10-08T17:10:27.733Z"
   },
   {
    "duration": 8,
    "start_time": "2021-10-08T17:10:27.753Z"
   },
   {
    "duration": 15,
    "start_time": "2021-10-08T17:10:27.762Z"
   },
   {
    "duration": 18,
    "start_time": "2021-10-08T17:10:27.779Z"
   },
   {
    "duration": 157,
    "start_time": "2021-10-08T17:10:27.799Z"
   },
   {
    "duration": 10,
    "start_time": "2021-10-08T17:10:27.958Z"
   },
   {
    "duration": 4,
    "start_time": "2021-10-08T17:10:27.970Z"
   },
   {
    "duration": 29,
    "start_time": "2021-10-08T17:10:27.975Z"
   },
   {
    "duration": 10,
    "start_time": "2021-10-08T17:10:28.005Z"
   },
   {
    "duration": 33,
    "start_time": "2021-10-08T17:10:28.017Z"
   },
   {
    "duration": 21,
    "start_time": "2021-10-08T17:10:28.053Z"
   },
   {
    "duration": 136,
    "start_time": "2021-10-08T17:10:28.076Z"
   },
   {
    "duration": 9,
    "start_time": "2021-10-08T17:10:28.213Z"
   },
   {
    "duration": 199,
    "start_time": "2021-10-08T17:10:28.224Z"
   },
   {
    "duration": 4,
    "start_time": "2021-10-08T17:10:28.425Z"
   },
   {
    "duration": 35,
    "start_time": "2021-10-08T17:10:28.431Z"
   },
   {
    "duration": 40,
    "start_time": "2021-10-08T17:10:28.468Z"
   },
   {
    "duration": 11,
    "start_time": "2021-10-08T17:10:28.510Z"
   },
   {
    "duration": 32,
    "start_time": "2021-10-08T17:10:28.522Z"
   },
   {
    "duration": 146,
    "start_time": "2021-10-08T17:10:28.555Z"
   },
   {
    "duration": 71,
    "start_time": "2021-10-08T17:10:28.703Z"
   },
   {
    "duration": 24,
    "start_time": "2021-10-08T17:10:28.776Z"
   },
   {
    "duration": 361,
    "start_time": "2021-10-08T17:10:28.801Z"
   },
   {
    "duration": 25,
    "start_time": "2021-10-08T17:10:29.164Z"
   },
   {
    "duration": 17,
    "start_time": "2021-10-08T17:10:29.191Z"
   },
   {
    "duration": 39,
    "start_time": "2021-10-08T17:10:29.211Z"
   },
   {
    "duration": 256,
    "start_time": "2021-10-08T17:10:29.253Z"
   },
   {
    "duration": 242,
    "start_time": "2021-10-08T17:10:29.511Z"
   },
   {
    "duration": 5,
    "start_time": "2021-10-08T17:10:29.755Z"
   },
   {
    "duration": 14,
    "start_time": "2021-10-08T17:10:29.762Z"
   },
   {
    "duration": 11,
    "start_time": "2021-10-08T17:10:29.777Z"
   },
   {
    "duration": 24,
    "start_time": "2021-10-08T17:10:29.789Z"
   },
   {
    "duration": 112,
    "start_time": "2021-10-08T17:10:29.815Z"
   },
   {
    "duration": 32,
    "start_time": "2021-10-08T17:10:29.929Z"
   },
   {
    "duration": 283,
    "start_time": "2021-10-08T17:10:29.966Z"
   },
   {
    "duration": 34,
    "start_time": "2021-10-08T17:10:30.251Z"
   },
   {
    "duration": 23,
    "start_time": "2021-10-08T17:10:30.288Z"
   },
   {
    "duration": 40,
    "start_time": "2021-10-08T17:10:30.313Z"
   },
   {
    "duration": 10,
    "start_time": "2021-10-08T17:10:30.355Z"
   },
   {
    "duration": 14,
    "start_time": "2021-10-08T17:10:30.367Z"
   },
   {
    "duration": 14,
    "start_time": "2021-10-08T17:10:30.383Z"
   },
   {
    "duration": 29,
    "start_time": "2021-10-08T17:10:30.399Z"
   },
   {
    "duration": 32,
    "start_time": "2021-10-08T17:10:30.430Z"
   },
   {
    "duration": 5,
    "start_time": "2021-10-08T17:10:30.465Z"
   },
   {
    "duration": 127,
    "start_time": "2021-10-08T17:10:30.472Z"
   },
   {
    "duration": 5,
    "start_time": "2021-10-08T17:10:30.601Z"
   },
   {
    "duration": 17,
    "start_time": "2021-10-08T17:10:30.608Z"
   },
   {
    "duration": 26,
    "start_time": "2021-10-08T17:10:30.628Z"
   },
   {
    "duration": 49,
    "start_time": "2021-10-08T17:10:30.656Z"
   },
   {
    "duration": 4,
    "start_time": "2021-10-08T17:10:30.707Z"
   },
   {
    "duration": 17,
    "start_time": "2021-10-08T17:10:30.712Z"
   },
   {
    "duration": 645,
    "start_time": "2021-10-08T17:12:20.284Z"
   },
   {
    "duration": 206,
    "start_time": "2021-10-08T17:12:20.931Z"
   },
   {
    "duration": 16,
    "start_time": "2021-10-08T17:12:21.139Z"
   },
   {
    "duration": 29,
    "start_time": "2021-10-08T17:12:21.158Z"
   },
   {
    "duration": 27,
    "start_time": "2021-10-08T17:12:21.189Z"
   },
   {
    "duration": 19,
    "start_time": "2021-10-08T17:12:21.218Z"
   },
   {
    "duration": 13,
    "start_time": "2021-10-08T17:12:21.239Z"
   },
   {
    "duration": 38,
    "start_time": "2021-10-08T17:12:21.255Z"
   },
   {
    "duration": 7,
    "start_time": "2021-10-08T17:12:21.295Z"
   },
   {
    "duration": 15,
    "start_time": "2021-10-08T17:12:21.304Z"
   },
   {
    "duration": 32,
    "start_time": "2021-10-08T17:12:21.321Z"
   },
   {
    "duration": 58,
    "start_time": "2021-10-08T17:12:21.354Z"
   },
   {
    "duration": 10,
    "start_time": "2021-10-08T17:12:21.414Z"
   },
   {
    "duration": 39,
    "start_time": "2021-10-08T17:12:21.425Z"
   },
   {
    "duration": 31,
    "start_time": "2021-10-08T17:12:21.465Z"
   },
   {
    "duration": 10,
    "start_time": "2021-10-08T17:12:21.497Z"
   },
   {
    "duration": 17,
    "start_time": "2021-10-08T17:12:21.509Z"
   },
   {
    "duration": 59,
    "start_time": "2021-10-08T17:12:21.527Z"
   },
   {
    "duration": 76,
    "start_time": "2021-10-08T17:12:21.587Z"
   },
   {
    "duration": 48,
    "start_time": "2021-10-08T17:12:21.664Z"
   },
   {
    "duration": 5,
    "start_time": "2021-10-08T17:12:21.714Z"
   },
   {
    "duration": 34,
    "start_time": "2021-10-08T17:12:21.721Z"
   },
   {
    "duration": 9,
    "start_time": "2021-10-08T17:12:21.759Z"
   },
   {
    "duration": 8,
    "start_time": "2021-10-08T17:12:21.771Z"
   },
   {
    "duration": 19,
    "start_time": "2021-10-08T17:12:21.780Z"
   },
   {
    "duration": 18,
    "start_time": "2021-10-08T17:12:21.801Z"
   },
   {
    "duration": 29,
    "start_time": "2021-10-08T17:12:21.820Z"
   },
   {
    "duration": 11211,
    "start_time": "2021-10-08T17:12:21.851Z"
   },
   {
    "duration": 9,
    "start_time": "2021-10-08T17:12:33.063Z"
   },
   {
    "duration": 33,
    "start_time": "2021-10-08T17:12:33.073Z"
   },
   {
    "duration": 5,
    "start_time": "2021-10-08T17:12:33.108Z"
   },
   {
    "duration": 6,
    "start_time": "2021-10-08T17:12:33.114Z"
   },
   {
    "duration": 329,
    "start_time": "2021-10-08T17:12:33.122Z"
   },
   {
    "duration": 8,
    "start_time": "2021-10-08T17:12:33.453Z"
   },
   {
    "duration": 9,
    "start_time": "2021-10-08T17:12:33.462Z"
   },
   {
    "duration": 12,
    "start_time": "2021-10-08T17:12:33.472Z"
   },
   {
    "duration": 14,
    "start_time": "2021-10-08T17:12:33.485Z"
   },
   {
    "duration": 149,
    "start_time": "2021-10-08T17:12:33.500Z"
   },
   {
    "duration": 9,
    "start_time": "2021-10-08T17:12:33.650Z"
   },
   {
    "duration": 6,
    "start_time": "2021-10-08T17:12:33.660Z"
   },
   {
    "duration": 28,
    "start_time": "2021-10-08T17:12:33.667Z"
   },
   {
    "duration": 10,
    "start_time": "2021-10-08T17:12:33.696Z"
   },
   {
    "duration": 7,
    "start_time": "2021-10-08T17:12:33.707Z"
   },
   {
    "duration": 45,
    "start_time": "2021-10-08T17:12:33.715Z"
   },
   {
    "duration": 120,
    "start_time": "2021-10-08T17:12:33.761Z"
   },
   {
    "duration": 9,
    "start_time": "2021-10-08T17:12:33.882Z"
   },
   {
    "duration": 208,
    "start_time": "2021-10-08T17:12:33.893Z"
   },
   {
    "duration": 5,
    "start_time": "2021-10-08T17:12:34.103Z"
   },
   {
    "duration": 21,
    "start_time": "2021-10-08T17:12:34.110Z"
   },
   {
    "duration": 41,
    "start_time": "2021-10-08T17:12:34.150Z"
   },
   {
    "duration": 11,
    "start_time": "2021-10-08T17:12:34.193Z"
   },
   {
    "duration": 19,
    "start_time": "2021-10-08T17:12:34.206Z"
   },
   {
    "duration": 158,
    "start_time": "2021-10-08T17:12:34.227Z"
   },
   {
    "duration": 71,
    "start_time": "2021-10-08T17:12:34.386Z"
   },
   {
    "duration": 25,
    "start_time": "2021-10-08T17:12:34.459Z"
   },
   {
    "duration": 252,
    "start_time": "2021-10-08T17:12:34.486Z"
   },
   {
    "duration": 22,
    "start_time": "2021-10-08T17:12:34.740Z"
   },
   {
    "duration": 12,
    "start_time": "2021-10-08T17:12:34.764Z"
   },
   {
    "duration": 14,
    "start_time": "2021-10-08T17:12:34.778Z"
   },
   {
    "duration": 273,
    "start_time": "2021-10-08T17:12:34.794Z"
   },
   {
    "duration": 238,
    "start_time": "2021-10-08T17:12:35.069Z"
   },
   {
    "duration": 5,
    "start_time": "2021-10-08T17:12:35.309Z"
   },
   {
    "duration": 16,
    "start_time": "2021-10-08T17:12:35.316Z"
   },
   {
    "duration": 23,
    "start_time": "2021-10-08T17:12:35.334Z"
   },
   {
    "duration": 26,
    "start_time": "2021-10-08T17:12:35.359Z"
   },
   {
    "duration": 99,
    "start_time": "2021-10-08T17:12:35.387Z"
   },
   {
    "duration": 19,
    "start_time": "2021-10-08T17:12:35.487Z"
   },
   {
    "duration": 283,
    "start_time": "2021-10-08T17:12:35.510Z"
   },
   {
    "duration": 29,
    "start_time": "2021-10-08T17:12:35.795Z"
   },
   {
    "duration": 35,
    "start_time": "2021-10-08T17:12:35.826Z"
   },
   {
    "duration": 8,
    "start_time": "2021-10-08T17:12:35.863Z"
   },
   {
    "duration": 5,
    "start_time": "2021-10-08T17:12:35.873Z"
   },
   {
    "duration": 11,
    "start_time": "2021-10-08T17:12:35.880Z"
   },
   {
    "duration": 9,
    "start_time": "2021-10-08T17:12:35.892Z"
   },
   {
    "duration": 26,
    "start_time": "2021-10-08T17:12:35.903Z"
   },
   {
    "duration": 17,
    "start_time": "2021-10-08T17:12:35.949Z"
   },
   {
    "duration": 9,
    "start_time": "2021-10-08T17:12:35.967Z"
   },
   {
    "duration": 109,
    "start_time": "2021-10-08T17:12:35.978Z"
   },
   {
    "duration": 5,
    "start_time": "2021-10-08T17:12:36.089Z"
   },
   {
    "duration": 13,
    "start_time": "2021-10-08T17:12:36.095Z"
   },
   {
    "duration": 15,
    "start_time": "2021-10-08T17:12:36.110Z"
   },
   {
    "duration": 365,
    "start_time": "2021-10-08T17:12:36.127Z"
   },
   {
    "duration": 3,
    "start_time": "2021-10-08T17:12:36.494Z"
   },
   {
    "duration": 14,
    "start_time": "2021-10-08T17:12:36.499Z"
   },
   {
    "duration": 12,
    "start_time": "2021-10-08T17:15:27.541Z"
   },
   {
    "duration": 7,
    "start_time": "2021-10-08T17:24:37.303Z"
   },
   {
    "duration": 367,
    "start_time": "2021-10-08T17:34:35.221Z"
   },
   {
    "duration": 12,
    "start_time": "2021-10-08T17:36:32.935Z"
   },
   {
    "duration": 3,
    "start_time": "2021-10-08T17:36:48.817Z"
   },
   {
    "duration": 11,
    "start_time": "2021-10-08T17:39:39.470Z"
   },
   {
    "duration": 10,
    "start_time": "2021-10-08T17:40:40.488Z"
   },
   {
    "duration": 21,
    "start_time": "2021-10-08T17:44:30.739Z"
   },
   {
    "duration": 20,
    "start_time": "2021-10-08T17:45:07.509Z"
   },
   {
    "duration": 23,
    "start_time": "2021-10-08T17:45:23.044Z"
   },
   {
    "duration": 23,
    "start_time": "2021-10-08T17:46:02.411Z"
   },
   {
    "duration": 362,
    "start_time": "2021-10-08T17:47:29.241Z"
   },
   {
    "duration": 360,
    "start_time": "2021-10-08T17:48:08.616Z"
   },
   {
    "duration": 9,
    "start_time": "2021-10-08T17:53:09.833Z"
   },
   {
    "duration": 12,
    "start_time": "2021-10-08T17:57:51.609Z"
   },
   {
    "duration": 12,
    "start_time": "2021-10-08T17:58:04.528Z"
   },
   {
    "duration": 10,
    "start_time": "2021-10-08T17:58:18.290Z"
   },
   {
    "duration": 299,
    "start_time": "2021-10-08T18:13:13.126Z"
   },
   {
    "duration": 9,
    "start_time": "2021-10-08T18:13:28.807Z"
   },
   {
    "duration": 10,
    "start_time": "2021-10-08T18:16:07.430Z"
   },
   {
    "duration": 5,
    "start_time": "2021-10-08T18:23:09.009Z"
   },
   {
    "duration": 6,
    "start_time": "2021-10-08T18:23:49.305Z"
   },
   {
    "duration": 8,
    "start_time": "2021-10-08T18:24:04.250Z"
   },
   {
    "duration": 5,
    "start_time": "2021-10-08T18:24:13.009Z"
   },
   {
    "duration": 213,
    "start_time": "2021-10-08T18:25:34.895Z"
   },
   {
    "duration": 14,
    "start_time": "2021-10-08T18:25:45.288Z"
   },
   {
    "duration": 4,
    "start_time": "2021-10-08T18:25:48.727Z"
   },
   {
    "duration": 12,
    "start_time": "2021-10-08T18:31:41.445Z"
   },
   {
    "duration": 4,
    "start_time": "2021-10-08T18:31:44.098Z"
   },
   {
    "duration": 356,
    "start_time": "2021-10-08T18:31:57.415Z"
   },
   {
    "duration": 12,
    "start_time": "2021-10-08T18:32:21.487Z"
   },
   {
    "duration": 4,
    "start_time": "2021-10-08T18:32:36.101Z"
   },
   {
    "duration": 1421,
    "start_time": "2021-10-09T06:11:30.013Z"
   },
   {
    "duration": 251,
    "start_time": "2021-10-09T06:11:31.436Z"
   },
   {
    "duration": 18,
    "start_time": "2021-10-09T06:11:31.690Z"
   },
   {
    "duration": 43,
    "start_time": "2021-10-09T06:11:31.711Z"
   },
   {
    "duration": 29,
    "start_time": "2021-10-09T06:11:31.756Z"
   },
   {
    "duration": 11,
    "start_time": "2021-10-09T06:11:31.788Z"
   },
   {
    "duration": 10,
    "start_time": "2021-10-09T06:11:31.801Z"
   },
   {
    "duration": 35,
    "start_time": "2021-10-09T06:11:31.816Z"
   },
   {
    "duration": 34,
    "start_time": "2021-10-09T06:11:31.854Z"
   },
   {
    "duration": 11,
    "start_time": "2021-10-09T06:11:31.891Z"
   },
   {
    "duration": 40,
    "start_time": "2021-10-09T06:11:31.904Z"
   },
   {
    "duration": 92,
    "start_time": "2021-10-09T06:11:31.946Z"
   },
   {
    "duration": 14,
    "start_time": "2021-10-09T06:11:32.040Z"
   },
   {
    "duration": 63,
    "start_time": "2021-10-09T06:11:32.057Z"
   },
   {
    "duration": 32,
    "start_time": "2021-10-09T06:11:32.123Z"
   },
   {
    "duration": 5,
    "start_time": "2021-10-09T06:11:32.158Z"
   },
   {
    "duration": 8,
    "start_time": "2021-10-09T06:11:32.182Z"
   },
   {
    "duration": 90,
    "start_time": "2021-10-09T06:11:32.193Z"
   },
   {
    "duration": 100,
    "start_time": "2021-10-09T06:11:32.285Z"
   },
   {
    "duration": 69,
    "start_time": "2021-10-09T06:11:32.388Z"
   },
   {
    "duration": 8,
    "start_time": "2021-10-09T06:11:32.459Z"
   },
   {
    "duration": 13,
    "start_time": "2021-10-09T06:11:32.483Z"
   },
   {
    "duration": 12,
    "start_time": "2021-10-09T06:11:32.502Z"
   },
   {
    "duration": 10,
    "start_time": "2021-10-09T06:11:32.518Z"
   },
   {
    "duration": 65,
    "start_time": "2021-10-09T06:11:32.531Z"
   },
   {
    "duration": 23,
    "start_time": "2021-10-09T06:11:32.598Z"
   },
   {
    "duration": 4,
    "start_time": "2021-10-09T06:11:32.623Z"
   },
   {
    "duration": 22082,
    "start_time": "2021-10-09T06:11:32.629Z"
   },
   {
    "duration": 13,
    "start_time": "2021-10-09T06:11:54.714Z"
   },
   {
    "duration": 57,
    "start_time": "2021-10-09T06:11:54.730Z"
   },
   {
    "duration": 6,
    "start_time": "2021-10-09T06:11:54.790Z"
   },
   {
    "duration": 7,
    "start_time": "2021-10-09T06:11:54.799Z"
   },
   {
    "duration": 528,
    "start_time": "2021-10-09T06:11:54.809Z"
   },
   {
    "duration": 11,
    "start_time": "2021-10-09T06:11:55.340Z"
   },
   {
    "duration": 31,
    "start_time": "2021-10-09T06:11:55.353Z"
   },
   {
    "duration": 18,
    "start_time": "2021-10-09T06:11:55.386Z"
   },
   {
    "duration": 19,
    "start_time": "2021-10-09T06:11:55.406Z"
   },
   {
    "duration": 243,
    "start_time": "2021-10-09T06:11:55.427Z"
   },
   {
    "duration": 20,
    "start_time": "2021-10-09T06:11:55.673Z"
   },
   {
    "duration": 6,
    "start_time": "2021-10-09T06:11:55.696Z"
   },
   {
    "duration": 44,
    "start_time": "2021-10-09T06:11:55.705Z"
   },
   {
    "duration": 45,
    "start_time": "2021-10-09T06:11:55.752Z"
   },
   {
    "duration": 9,
    "start_time": "2021-10-09T06:11:55.800Z"
   },
   {
    "duration": 30,
    "start_time": "2021-10-09T06:11:55.812Z"
   },
   {
    "duration": 199,
    "start_time": "2021-10-09T06:11:55.844Z"
   },
   {
    "duration": 15,
    "start_time": "2021-10-09T06:11:56.046Z"
   },
   {
    "duration": 330,
    "start_time": "2021-10-09T06:11:56.064Z"
   },
   {
    "duration": 5,
    "start_time": "2021-10-09T06:11:56.397Z"
   },
   {
    "duration": 27,
    "start_time": "2021-10-09T06:11:56.405Z"
   },
   {
    "duration": 86,
    "start_time": "2021-10-09T06:11:56.434Z"
   },
   {
    "duration": 16,
    "start_time": "2021-10-09T06:11:56.522Z"
   },
   {
    "duration": 14,
    "start_time": "2021-10-09T06:11:56.541Z"
   },
   {
    "duration": 326,
    "start_time": "2021-10-09T06:11:56.557Z"
   },
   {
    "duration": 30,
    "start_time": "2021-10-09T06:11:56.895Z"
   },
   {
    "duration": 91,
    "start_time": "2021-10-09T06:11:56.932Z"
   },
   {
    "duration": 359,
    "start_time": "2021-10-09T06:11:57.026Z"
   },
   {
    "duration": 23,
    "start_time": "2021-10-09T06:11:57.388Z"
   },
   {
    "duration": 16,
    "start_time": "2021-10-09T06:11:57.413Z"
   },
   {
    "duration": 51,
    "start_time": "2021-10-09T06:11:57.431Z"
   },
   {
    "duration": 408,
    "start_time": "2021-10-09T06:11:57.484Z"
   },
   {
    "duration": 397,
    "start_time": "2021-10-09T06:11:57.894Z"
   },
   {
    "duration": 7,
    "start_time": "2021-10-09T06:11:58.293Z"
   },
   {
    "duration": 17,
    "start_time": "2021-10-09T06:11:58.303Z"
   },
   {
    "duration": 14,
    "start_time": "2021-10-09T06:11:58.323Z"
   },
   {
    "duration": 66,
    "start_time": "2021-10-09T06:11:58.339Z"
   },
   {
    "duration": 141,
    "start_time": "2021-10-09T06:11:58.407Z"
   },
   {
    "duration": 33,
    "start_time": "2021-10-09T06:11:58.550Z"
   },
   {
    "duration": 455,
    "start_time": "2021-10-09T06:11:58.591Z"
   },
   {
    "duration": 54,
    "start_time": "2021-10-09T06:11:59.049Z"
   },
   {
    "duration": 27,
    "start_time": "2021-10-09T06:11:59.106Z"
   },
   {
    "duration": 13,
    "start_time": "2021-10-09T06:11:59.135Z"
   },
   {
    "duration": 35,
    "start_time": "2021-10-09T06:11:59.151Z"
   },
   {
    "duration": 13,
    "start_time": "2021-10-09T06:11:59.189Z"
   },
   {
    "duration": 12,
    "start_time": "2021-10-09T06:11:59.205Z"
   },
   {
    "duration": 38,
    "start_time": "2021-10-09T06:11:59.219Z"
   },
   {
    "duration": 27,
    "start_time": "2021-10-09T06:11:59.283Z"
   },
   {
    "duration": 5,
    "start_time": "2021-10-09T06:11:59.312Z"
   },
   {
    "duration": 153,
    "start_time": "2021-10-09T06:11:59.319Z"
   },
   {
    "duration": 10,
    "start_time": "2021-10-09T06:11:59.474Z"
   },
   {
    "duration": 11,
    "start_time": "2021-10-09T06:11:59.487Z"
   },
   {
    "duration": 14,
    "start_time": "2021-10-09T06:11:59.500Z"
   },
   {
    "duration": 751,
    "start_time": "2021-10-09T06:11:59.517Z"
   },
   {
    "duration": 5,
    "start_time": "2021-10-09T06:12:00.270Z"
   },
   {
    "duration": 19,
    "start_time": "2021-10-09T06:12:00.281Z"
   },
   {
    "duration": 20,
    "start_time": "2021-10-09T06:12:00.302Z"
   },
   {
    "duration": 22,
    "start_time": "2021-10-09T06:12:00.324Z"
   },
   {
    "duration": 760,
    "start_time": "2021-10-09T06:12:00.349Z"
   },
   {
    "duration": 15,
    "start_time": "2021-10-09T06:12:01.112Z"
   },
   {
    "duration": 11,
    "start_time": "2021-10-09T06:12:01.130Z"
   },
   {
    "duration": 108,
    "start_time": "2021-10-09T06:12:57.099Z"
   },
   {
    "duration": 348,
    "start_time": "2021-10-09T06:13:05.319Z"
   },
   {
    "duration": 322,
    "start_time": "2021-10-09T06:20:19.523Z"
   },
   {
    "duration": 508,
    "start_time": "2021-10-09T06:28:29.874Z"
   },
   {
    "duration": 26,
    "start_time": "2021-10-09T06:29:08.403Z"
   },
   {
    "duration": 539,
    "start_time": "2021-10-09T06:29:26.038Z"
   },
   {
    "duration": 27,
    "start_time": "2021-10-09T06:29:32.930Z"
   },
   {
    "duration": 344,
    "start_time": "2021-10-09T06:34:15.573Z"
   },
   {
    "duration": 404,
    "start_time": "2021-10-09T06:34:53.606Z"
   },
   {
    "duration": 418,
    "start_time": "2021-10-09T06:35:31.398Z"
   },
   {
    "duration": 852,
    "start_time": "2021-10-09T06:36:08.433Z"
   },
   {
    "duration": 454,
    "start_time": "2021-10-09T06:37:14.050Z"
   },
   {
    "duration": 454,
    "start_time": "2021-10-09T06:38:31.050Z"
   },
   {
    "duration": 424,
    "start_time": "2021-10-09T06:39:20.721Z"
   },
   {
    "duration": 498,
    "start_time": "2021-10-09T06:39:42.074Z"
   },
   {
    "duration": 26,
    "start_time": "2021-10-09T06:46:52.054Z"
   },
   {
    "duration": 12,
    "start_time": "2021-10-09T06:47:13.027Z"
   },
   {
    "duration": 404,
    "start_time": "2021-10-09T06:52:28.693Z"
   },
   {
    "duration": 423,
    "start_time": "2021-10-09T06:53:27.009Z"
   },
   {
    "duration": 538,
    "start_time": "2021-10-09T06:54:19.006Z"
   },
   {
    "duration": 17,
    "start_time": "2021-10-09T06:56:30.594Z"
   },
   {
    "duration": 5,
    "start_time": "2021-10-09T06:56:34.142Z"
   },
   {
    "duration": 13,
    "start_time": "2021-10-09T06:56:53.318Z"
   },
   {
    "duration": 4,
    "start_time": "2021-10-09T06:56:54.342Z"
   },
   {
    "duration": 1064,
    "start_time": "2021-10-09T15:15:43.054Z"
   },
   {
    "duration": 185,
    "start_time": "2021-10-09T15:15:44.120Z"
   },
   {
    "duration": 13,
    "start_time": "2021-10-09T15:15:44.307Z"
   },
   {
    "duration": 33,
    "start_time": "2021-10-09T15:15:44.322Z"
   },
   {
    "duration": 18,
    "start_time": "2021-10-09T15:15:44.356Z"
   },
   {
    "duration": 13,
    "start_time": "2021-10-09T15:15:44.375Z"
   },
   {
    "duration": 8,
    "start_time": "2021-10-09T15:15:44.389Z"
   },
   {
    "duration": 29,
    "start_time": "2021-10-09T15:15:44.399Z"
   },
   {
    "duration": 7,
    "start_time": "2021-10-09T15:15:44.430Z"
   },
   {
    "duration": 9,
    "start_time": "2021-10-09T15:15:44.438Z"
   },
   {
    "duration": 28,
    "start_time": "2021-10-09T15:15:44.448Z"
   },
   {
    "duration": 46,
    "start_time": "2021-10-09T15:15:44.478Z"
   },
   {
    "duration": 25,
    "start_time": "2021-10-09T15:15:44.526Z"
   },
   {
    "duration": 32,
    "start_time": "2021-10-09T15:15:44.553Z"
   },
   {
    "duration": 25,
    "start_time": "2021-10-09T15:15:44.586Z"
   },
   {
    "duration": 3,
    "start_time": "2021-10-09T15:15:44.613Z"
   },
   {
    "duration": 27,
    "start_time": "2021-10-09T15:15:44.618Z"
   },
   {
    "duration": 47,
    "start_time": "2021-10-09T15:15:44.647Z"
   },
   {
    "duration": 77,
    "start_time": "2021-10-09T15:15:44.695Z"
   },
   {
    "duration": 43,
    "start_time": "2021-10-09T15:15:44.774Z"
   },
   {
    "duration": 5,
    "start_time": "2021-10-09T15:15:44.818Z"
   },
   {
    "duration": 26,
    "start_time": "2021-10-09T15:15:44.825Z"
   },
   {
    "duration": 9,
    "start_time": "2021-10-09T15:15:44.855Z"
   },
   {
    "duration": 8,
    "start_time": "2021-10-09T15:15:44.866Z"
   },
   {
    "duration": 17,
    "start_time": "2021-10-09T15:15:44.876Z"
   },
   {
    "duration": 16,
    "start_time": "2021-10-09T15:15:44.894Z"
   },
   {
    "duration": 32,
    "start_time": "2021-10-09T15:15:44.912Z"
   },
   {
    "duration": 10846,
    "start_time": "2021-10-09T15:15:44.946Z"
   },
   {
    "duration": 9,
    "start_time": "2021-10-09T15:15:55.794Z"
   },
   {
    "duration": 40,
    "start_time": "2021-10-09T15:15:55.805Z"
   },
   {
    "duration": 4,
    "start_time": "2021-10-09T15:15:55.847Z"
   },
   {
    "duration": 7,
    "start_time": "2021-10-09T15:15:55.852Z"
   },
   {
    "duration": 301,
    "start_time": "2021-10-09T15:15:55.861Z"
   },
   {
    "duration": 8,
    "start_time": "2021-10-09T15:15:56.164Z"
   },
   {
    "duration": 8,
    "start_time": "2021-10-09T15:15:56.174Z"
   },
   {
    "duration": 11,
    "start_time": "2021-10-09T15:15:56.184Z"
   },
   {
    "duration": 12,
    "start_time": "2021-10-09T15:15:56.197Z"
   },
   {
    "duration": 157,
    "start_time": "2021-10-09T15:15:56.211Z"
   },
   {
    "duration": 9,
    "start_time": "2021-10-09T15:15:56.370Z"
   },
   {
    "duration": 14,
    "start_time": "2021-10-09T15:15:56.381Z"
   },
   {
    "duration": 27,
    "start_time": "2021-10-09T15:15:56.397Z"
   },
   {
    "duration": 23,
    "start_time": "2021-10-09T15:15:56.426Z"
   },
   {
    "duration": 6,
    "start_time": "2021-10-09T15:15:56.451Z"
   },
   {
    "duration": 19,
    "start_time": "2021-10-09T15:15:56.459Z"
   },
   {
    "duration": 134,
    "start_time": "2021-10-09T15:15:56.480Z"
   },
   {
    "duration": 9,
    "start_time": "2021-10-09T15:15:56.616Z"
   },
   {
    "duration": 203,
    "start_time": "2021-10-09T15:15:56.627Z"
   },
   {
    "duration": 13,
    "start_time": "2021-10-09T15:15:56.832Z"
   },
   {
    "duration": 26,
    "start_time": "2021-10-09T15:15:56.847Z"
   },
   {
    "duration": 40,
    "start_time": "2021-10-09T15:15:56.875Z"
   },
   {
    "duration": 30,
    "start_time": "2021-10-09T15:15:56.916Z"
   },
   {
    "duration": 11,
    "start_time": "2021-10-09T15:15:56.948Z"
   },
   {
    "duration": 161,
    "start_time": "2021-10-09T15:15:56.961Z"
   },
   {
    "duration": 11,
    "start_time": "2021-10-09T15:15:57.124Z"
   },
   {
    "duration": 18,
    "start_time": "2021-10-09T15:15:57.136Z"
   },
   {
    "duration": 244,
    "start_time": "2021-10-09T15:15:57.156Z"
   },
   {
    "duration": 18,
    "start_time": "2021-10-09T15:15:57.402Z"
   },
   {
    "duration": 27,
    "start_time": "2021-10-09T15:15:57.421Z"
   },
   {
    "duration": 15,
    "start_time": "2021-10-09T15:15:57.450Z"
   },
   {
    "duration": 255,
    "start_time": "2021-10-09T15:15:57.467Z"
   },
   {
    "duration": 231,
    "start_time": "2021-10-09T15:15:57.723Z"
   },
   {
    "duration": 5,
    "start_time": "2021-10-09T15:15:57.957Z"
   },
   {
    "duration": 12,
    "start_time": "2021-10-09T15:15:57.964Z"
   },
   {
    "duration": 10,
    "start_time": "2021-10-09T15:15:57.978Z"
   },
   {
    "duration": 56,
    "start_time": "2021-10-09T15:15:57.990Z"
   },
   {
    "duration": 79,
    "start_time": "2021-10-09T15:15:58.048Z"
   },
   {
    "duration": 24,
    "start_time": "2021-10-09T15:15:58.128Z"
   },
   {
    "duration": 17,
    "start_time": "2021-10-09T15:15:58.157Z"
   },
   {
    "duration": 268,
    "start_time": "2021-10-09T15:15:58.176Z"
   },
   {
    "duration": 27,
    "start_time": "2021-10-09T15:15:58.446Z"
   },
   {
    "duration": 16,
    "start_time": "2021-10-09T15:15:58.474Z"
   },
   {
    "duration": 6,
    "start_time": "2021-10-09T15:15:58.492Z"
   },
   {
    "duration": 10,
    "start_time": "2021-10-09T15:15:58.500Z"
   },
   {
    "duration": 11,
    "start_time": "2021-10-09T15:15:58.511Z"
   },
   {
    "duration": 23,
    "start_time": "2021-10-09T15:15:58.524Z"
   },
   {
    "duration": 24,
    "start_time": "2021-10-09T15:15:58.548Z"
   },
   {
    "duration": 16,
    "start_time": "2021-10-09T15:15:58.573Z"
   },
   {
    "duration": 4,
    "start_time": "2021-10-09T15:15:58.590Z"
   },
   {
    "duration": 102,
    "start_time": "2021-10-09T15:15:58.596Z"
   },
   {
    "duration": 4,
    "start_time": "2021-10-09T15:15:58.700Z"
   },
   {
    "duration": 14,
    "start_time": "2021-10-09T15:15:58.706Z"
   },
   {
    "duration": 13,
    "start_time": "2021-10-09T15:15:58.721Z"
   },
   {
    "duration": 359,
    "start_time": "2021-10-09T15:15:58.745Z"
   },
   {
    "duration": 4,
    "start_time": "2021-10-09T15:15:59.105Z"
   },
   {
    "duration": 10,
    "start_time": "2021-10-09T15:15:59.110Z"
   },
   {
    "duration": 292,
    "start_time": "2021-10-09T15:15:59.122Z"
   },
   {
    "duration": 10,
    "start_time": "2021-10-09T15:15:59.416Z"
   },
   {
    "duration": 4,
    "start_time": "2021-10-09T15:15:59.428Z"
   },
   {
    "duration": 462,
    "start_time": "2021-10-09T15:15:59.445Z"
   },
   {
    "duration": 296,
    "start_time": "2021-10-09T15:15:59.908Z"
   },
   {
    "duration": 10,
    "start_time": "2021-10-09T15:16:00.205Z"
   },
   {
    "duration": 13,
    "start_time": "2021-10-09T15:16:00.216Z"
   },
   {
    "duration": 1052,
    "start_time": "2021-10-09T15:40:04.278Z"
   },
   {
    "duration": 969,
    "start_time": "2021-10-09T15:40:05.332Z"
   },
   {
    "duration": -76,
    "start_time": "2021-10-09T15:40:06.382Z"
   },
   {
    "duration": -79,
    "start_time": "2021-10-09T15:40:06.386Z"
   },
   {
    "duration": -86,
    "start_time": "2021-10-09T15:40:06.393Z"
   },
   {
    "duration": -88,
    "start_time": "2021-10-09T15:40:06.396Z"
   },
   {
    "duration": -111,
    "start_time": "2021-10-09T15:40:06.420Z"
   },
   {
    "duration": -122,
    "start_time": "2021-10-09T15:40:06.432Z"
   },
   {
    "duration": -126,
    "start_time": "2021-10-09T15:40:06.437Z"
   },
   {
    "duration": -129,
    "start_time": "2021-10-09T15:40:06.441Z"
   },
   {
    "duration": -132,
    "start_time": "2021-10-09T15:40:06.445Z"
   },
   {
    "duration": -136,
    "start_time": "2021-10-09T15:40:06.449Z"
   },
   {
    "duration": -139,
    "start_time": "2021-10-09T15:40:06.453Z"
   },
   {
    "duration": -141,
    "start_time": "2021-10-09T15:40:06.456Z"
   },
   {
    "duration": -144,
    "start_time": "2021-10-09T15:40:06.460Z"
   },
   {
    "duration": -146,
    "start_time": "2021-10-09T15:40:06.463Z"
   },
   {
    "duration": -149,
    "start_time": "2021-10-09T15:40:06.467Z"
   },
   {
    "duration": -151,
    "start_time": "2021-10-09T15:40:06.470Z"
   },
   {
    "duration": -153,
    "start_time": "2021-10-09T15:40:06.473Z"
   },
   {
    "duration": -156,
    "start_time": "2021-10-09T15:40:06.477Z"
   },
   {
    "duration": -159,
    "start_time": "2021-10-09T15:40:06.480Z"
   },
   {
    "duration": -162,
    "start_time": "2021-10-09T15:40:06.484Z"
   },
   {
    "duration": -165,
    "start_time": "2021-10-09T15:40:06.488Z"
   },
   {
    "duration": -168,
    "start_time": "2021-10-09T15:40:06.492Z"
   },
   {
    "duration": -172,
    "start_time": "2021-10-09T15:40:06.497Z"
   },
   {
    "duration": -174,
    "start_time": "2021-10-09T15:40:06.500Z"
   },
   {
    "duration": -178,
    "start_time": "2021-10-09T15:40:06.504Z"
   },
   {
    "duration": -250,
    "start_time": "2021-10-09T15:40:06.577Z"
   },
   {
    "duration": -282,
    "start_time": "2021-10-09T15:40:06.610Z"
   },
   {
    "duration": -284,
    "start_time": "2021-10-09T15:40:06.613Z"
   },
   {
    "duration": -297,
    "start_time": "2021-10-09T15:40:06.627Z"
   },
   {
    "duration": -302,
    "start_time": "2021-10-09T15:40:06.633Z"
   },
   {
    "duration": -306,
    "start_time": "2021-10-09T15:40:06.637Z"
   },
   {
    "duration": -309,
    "start_time": "2021-10-09T15:40:06.641Z"
   },
   {
    "duration": -312,
    "start_time": "2021-10-09T15:40:06.645Z"
   },
   {
    "duration": -314,
    "start_time": "2021-10-09T15:40:06.648Z"
   },
   {
    "duration": -317,
    "start_time": "2021-10-09T15:40:06.652Z"
   },
   {
    "duration": -319,
    "start_time": "2021-10-09T15:40:06.655Z"
   },
   {
    "duration": -322,
    "start_time": "2021-10-09T15:40:06.659Z"
   },
   {
    "duration": -324,
    "start_time": "2021-10-09T15:40:06.662Z"
   },
   {
    "duration": -327,
    "start_time": "2021-10-09T15:40:06.666Z"
   },
   {
    "duration": -329,
    "start_time": "2021-10-09T15:40:06.669Z"
   },
   {
    "duration": -332,
    "start_time": "2021-10-09T15:40:06.673Z"
   },
   {
    "duration": -334,
    "start_time": "2021-10-09T15:40:06.676Z"
   },
   {
    "duration": -337,
    "start_time": "2021-10-09T15:40:06.680Z"
   },
   {
    "duration": -340,
    "start_time": "2021-10-09T15:40:06.683Z"
   },
   {
    "duration": -342,
    "start_time": "2021-10-09T15:40:06.686Z"
   },
   {
    "duration": -344,
    "start_time": "2021-10-09T15:40:06.689Z"
   },
   {
    "duration": -347,
    "start_time": "2021-10-09T15:40:06.693Z"
   },
   {
    "duration": -349,
    "start_time": "2021-10-09T15:40:06.696Z"
   },
   {
    "duration": -352,
    "start_time": "2021-10-09T15:40:06.700Z"
   },
   {
    "duration": -354,
    "start_time": "2021-10-09T15:40:06.703Z"
   },
   {
    "duration": -356,
    "start_time": "2021-10-09T15:40:06.706Z"
   },
   {
    "duration": -359,
    "start_time": "2021-10-09T15:40:06.710Z"
   },
   {
    "duration": -362,
    "start_time": "2021-10-09T15:40:06.714Z"
   },
   {
    "duration": -364,
    "start_time": "2021-10-09T15:40:06.717Z"
   },
   {
    "duration": -367,
    "start_time": "2021-10-09T15:40:06.721Z"
   },
   {
    "duration": -379,
    "start_time": "2021-10-09T15:40:06.734Z"
   },
   {
    "duration": -382,
    "start_time": "2021-10-09T15:40:06.738Z"
   },
   {
    "duration": -384,
    "start_time": "2021-10-09T15:40:06.741Z"
   },
   {
    "duration": -387,
    "start_time": "2021-10-09T15:40:06.745Z"
   },
   {
    "duration": -391,
    "start_time": "2021-10-09T15:40:06.750Z"
   },
   {
    "duration": -394,
    "start_time": "2021-10-09T15:40:06.754Z"
   },
   {
    "duration": -411,
    "start_time": "2021-10-09T15:40:06.772Z"
   },
   {
    "duration": -414,
    "start_time": "2021-10-09T15:40:06.776Z"
   },
   {
    "duration": -416,
    "start_time": "2021-10-09T15:40:06.779Z"
   },
   {
    "duration": -419,
    "start_time": "2021-10-09T15:40:06.783Z"
   },
   {
    "duration": -533,
    "start_time": "2021-10-09T15:40:06.898Z"
   },
   {
    "duration": -631,
    "start_time": "2021-10-09T15:40:06.996Z"
   },
   {
    "duration": -633,
    "start_time": "2021-10-09T15:40:07.000Z"
   },
   {
    "duration": -636,
    "start_time": "2021-10-09T15:40:07.003Z"
   },
   {
    "duration": -638,
    "start_time": "2021-10-09T15:40:07.006Z"
   },
   {
    "duration": -642,
    "start_time": "2021-10-09T15:40:07.011Z"
   },
   {
    "duration": -646,
    "start_time": "2021-10-09T15:40:07.016Z"
   },
   {
    "duration": -649,
    "start_time": "2021-10-09T15:40:07.020Z"
   },
   {
    "duration": -651,
    "start_time": "2021-10-09T15:40:07.023Z"
   },
   {
    "duration": -654,
    "start_time": "2021-10-09T15:40:07.027Z"
   },
   {
    "duration": -656,
    "start_time": "2021-10-09T15:40:07.030Z"
   },
   {
    "duration": -659,
    "start_time": "2021-10-09T15:40:07.034Z"
   },
   {
    "duration": -661,
    "start_time": "2021-10-09T15:40:07.037Z"
   },
   {
    "duration": -664,
    "start_time": "2021-10-09T15:40:07.041Z"
   },
   {
    "duration": -666,
    "start_time": "2021-10-09T15:40:07.044Z"
   },
   {
    "duration": -669,
    "start_time": "2021-10-09T15:40:07.048Z"
   },
   {
    "duration": -671,
    "start_time": "2021-10-09T15:40:07.051Z"
   },
   {
    "duration": -684,
    "start_time": "2021-10-09T15:40:07.065Z"
   },
   {
    "duration": -687,
    "start_time": "2021-10-09T15:40:07.069Z"
   },
   {
    "duration": -624,
    "start_time": "2021-10-09T15:40:07.073Z"
   },
   {
    "duration": -627,
    "start_time": "2021-10-09T15:40:07.077Z"
   },
   {
    "duration": -629,
    "start_time": "2021-10-09T15:40:07.081Z"
   },
   {
    "duration": -631,
    "start_time": "2021-10-09T15:40:07.084Z"
   },
   {
    "duration": -634,
    "start_time": "2021-10-09T15:40:07.088Z"
   },
   {
    "duration": -636,
    "start_time": "2021-10-09T15:40:07.091Z"
   },
   {
    "duration": 1047,
    "start_time": "2021-10-09T15:41:09.551Z"
   },
   {
    "duration": 1120,
    "start_time": "2021-10-09T15:41:10.600Z"
   },
   {
    "duration": 12,
    "start_time": "2021-10-09T15:41:11.722Z"
   },
   {
    "duration": 276,
    "start_time": "2021-10-09T15:41:11.736Z"
   },
   {
    "duration": 15,
    "start_time": "2021-10-09T15:41:12.014Z"
   },
   {
    "duration": 9,
    "start_time": "2021-10-09T15:41:12.030Z"
   },
   {
    "duration": 6,
    "start_time": "2021-10-09T15:41:12.041Z"
   },
   {
    "duration": 32,
    "start_time": "2021-10-09T15:41:12.050Z"
   },
   {
    "duration": 7,
    "start_time": "2021-10-09T15:41:12.084Z"
   },
   {
    "duration": 8,
    "start_time": "2021-10-09T15:41:12.092Z"
   },
   {
    "duration": 28,
    "start_time": "2021-10-09T15:41:12.102Z"
   },
   {
    "duration": 46,
    "start_time": "2021-10-09T15:41:12.132Z"
   },
   {
    "duration": 9,
    "start_time": "2021-10-09T15:41:12.179Z"
   },
   {
    "duration": 33,
    "start_time": "2021-10-09T15:41:12.190Z"
   },
   {
    "duration": 40,
    "start_time": "2021-10-09T15:41:12.224Z"
   },
   {
    "duration": 8,
    "start_time": "2021-10-09T15:41:12.266Z"
   },
   {
    "duration": 9,
    "start_time": "2021-10-09T15:41:12.276Z"
   },
   {
    "duration": 47,
    "start_time": "2021-10-09T15:41:12.287Z"
   },
   {
    "duration": 63,
    "start_time": "2021-10-09T15:41:12.344Z"
   },
   {
    "duration": 56,
    "start_time": "2021-10-09T15:41:12.409Z"
   },
   {
    "duration": 5,
    "start_time": "2021-10-09T15:41:12.466Z"
   },
   {
    "duration": 12,
    "start_time": "2021-10-09T15:41:12.472Z"
   },
   {
    "duration": 9,
    "start_time": "2021-10-09T15:41:12.487Z"
   },
   {
    "duration": 7,
    "start_time": "2021-10-09T15:41:12.498Z"
   },
   {
    "duration": 41,
    "start_time": "2021-10-09T15:41:12.506Z"
   },
   {
    "duration": 15,
    "start_time": "2021-10-09T15:41:12.549Z"
   },
   {
    "duration": 3,
    "start_time": "2021-10-09T15:41:12.566Z"
   },
   {
    "duration": 11055,
    "start_time": "2021-10-09T15:41:12.570Z"
   },
   {
    "duration": 8,
    "start_time": "2021-10-09T15:41:23.627Z"
   },
   {
    "duration": 25,
    "start_time": "2021-10-09T15:41:23.644Z"
   },
   {
    "duration": 4,
    "start_time": "2021-10-09T15:41:23.671Z"
   },
   {
    "duration": 7,
    "start_time": "2021-10-09T15:41:23.677Z"
   },
   {
    "duration": 312,
    "start_time": "2021-10-09T15:41:23.685Z"
   },
   {
    "duration": 8,
    "start_time": "2021-10-09T15:41:23.999Z"
   },
   {
    "duration": 10,
    "start_time": "2021-10-09T15:41:24.009Z"
   },
   {
    "duration": 28,
    "start_time": "2021-10-09T15:41:24.021Z"
   },
   {
    "duration": 21,
    "start_time": "2021-10-09T15:41:24.051Z"
   },
   {
    "duration": 135,
    "start_time": "2021-10-09T15:41:24.073Z"
   },
   {
    "duration": 9,
    "start_time": "2021-10-09T15:41:24.210Z"
   },
   {
    "duration": 6,
    "start_time": "2021-10-09T15:41:24.220Z"
   },
   {
    "duration": 40,
    "start_time": "2021-10-09T15:41:24.227Z"
   },
   {
    "duration": 10,
    "start_time": "2021-10-09T15:41:24.268Z"
   },
   {
    "duration": 6,
    "start_time": "2021-10-09T15:41:24.280Z"
   },
   {
    "duration": 24,
    "start_time": "2021-10-09T15:41:24.288Z"
   },
   {
    "duration": 125,
    "start_time": "2021-10-09T15:41:24.313Z"
   },
   {
    "duration": 10,
    "start_time": "2021-10-09T15:41:24.440Z"
   },
   {
    "duration": 199,
    "start_time": "2021-10-09T15:41:24.452Z"
   },
   {
    "duration": 4,
    "start_time": "2021-10-09T15:41:24.653Z"
   },
   {
    "duration": 29,
    "start_time": "2021-10-09T15:41:24.659Z"
   },
   {
    "duration": 55,
    "start_time": "2021-10-09T15:41:24.689Z"
   },
   {
    "duration": 11,
    "start_time": "2021-10-09T15:41:24.746Z"
   },
   {
    "duration": 12,
    "start_time": "2021-10-09T15:41:24.759Z"
   },
   {
    "duration": 160,
    "start_time": "2021-10-09T15:41:24.773Z"
   },
   {
    "duration": 15,
    "start_time": "2021-10-09T15:41:24.935Z"
   },
   {
    "duration": 11,
    "start_time": "2021-10-09T15:41:24.952Z"
   },
   {
    "duration": 241,
    "start_time": "2021-10-09T15:41:24.965Z"
   },
   {
    "duration": 17,
    "start_time": "2021-10-09T15:41:25.208Z"
   },
   {
    "duration": 25,
    "start_time": "2021-10-09T15:41:25.227Z"
   },
   {
    "duration": 11,
    "start_time": "2021-10-09T15:41:25.254Z"
   },
   {
    "duration": 266,
    "start_time": "2021-10-09T15:41:25.267Z"
   },
   {
    "duration": 236,
    "start_time": "2021-10-09T15:41:25.535Z"
   },
   {
    "duration": 4,
    "start_time": "2021-10-09T15:41:25.773Z"
   },
   {
    "duration": 20,
    "start_time": "2021-10-09T15:41:25.779Z"
   },
   {
    "duration": 19,
    "start_time": "2021-10-09T15:41:25.801Z"
   },
   {
    "duration": 45,
    "start_time": "2021-10-09T15:41:25.822Z"
   },
   {
    "duration": 88,
    "start_time": "2021-10-09T15:41:25.869Z"
   },
   {
    "duration": 18,
    "start_time": "2021-10-09T15:41:25.958Z"
   },
   {
    "duration": 17,
    "start_time": "2021-10-09T15:41:25.981Z"
   },
   {
    "duration": 272,
    "start_time": "2021-10-09T15:41:26.000Z"
   },
   {
    "duration": 29,
    "start_time": "2021-10-09T15:41:26.274Z"
   },
   {
    "duration": 18,
    "start_time": "2021-10-09T15:41:26.305Z"
   },
   {
    "duration": 27,
    "start_time": "2021-10-09T15:41:26.324Z"
   },
   {
    "duration": 5,
    "start_time": "2021-10-09T15:41:26.352Z"
   },
   {
    "duration": 9,
    "start_time": "2021-10-09T15:41:26.358Z"
   },
   {
    "duration": 4,
    "start_time": "2021-10-09T15:41:26.369Z"
   },
   {
    "duration": 23,
    "start_time": "2021-10-09T15:41:26.375Z"
   },
   {
    "duration": 49,
    "start_time": "2021-10-09T15:41:26.400Z"
   },
   {
    "duration": 4,
    "start_time": "2021-10-09T15:41:26.450Z"
   },
   {
    "duration": 95,
    "start_time": "2021-10-09T15:41:26.456Z"
   },
   {
    "duration": 4,
    "start_time": "2021-10-09T15:41:26.552Z"
   },
   {
    "duration": 8,
    "start_time": "2021-10-09T15:41:26.558Z"
   },
   {
    "duration": 15,
    "start_time": "2021-10-09T15:41:26.567Z"
   },
   {
    "duration": 373,
    "start_time": "2021-10-09T15:41:26.584Z"
   },
   {
    "duration": 5,
    "start_time": "2021-10-09T15:41:26.958Z"
   },
   {
    "duration": 14,
    "start_time": "2021-10-09T15:41:26.965Z"
   },
   {
    "duration": 301,
    "start_time": "2021-10-09T15:41:26.981Z"
   },
   {
    "duration": 12,
    "start_time": "2021-10-09T15:41:27.284Z"
   },
   {
    "duration": 3,
    "start_time": "2021-10-09T15:41:27.298Z"
   },
   {
    "duration": 396,
    "start_time": "2021-10-09T15:41:27.304Z"
   },
   {
    "duration": 290,
    "start_time": "2021-10-09T15:41:27.702Z"
   },
   {
    "duration": 12,
    "start_time": "2021-10-09T15:41:27.994Z"
   },
   {
    "duration": 4,
    "start_time": "2021-10-09T15:41:28.008Z"
   },
   {
    "duration": 716,
    "start_time": "2021-10-09T16:08:28.333Z"
   },
   {
    "duration": 554,
    "start_time": "2021-10-09T16:09:01.736Z"
   },
   {
    "duration": 280,
    "start_time": "2021-10-09T16:11:18.064Z"
   },
   {
    "duration": 256,
    "start_time": "2021-10-09T16:11:38.585Z"
   },
   {
    "duration": 286,
    "start_time": "2021-10-09T16:11:55.270Z"
   },
   {
    "duration": 283,
    "start_time": "2021-10-09T16:12:10.694Z"
   },
   {
    "duration": 595,
    "start_time": "2021-10-09T16:12:18.011Z"
   },
   {
    "duration": 271,
    "start_time": "2021-10-09T16:12:36.402Z"
   },
   {
    "duration": 198,
    "start_time": "2021-10-09T16:12:42.000Z"
   },
   {
    "duration": 196,
    "start_time": "2021-10-09T16:13:52.189Z"
   },
   {
    "duration": 214,
    "start_time": "2021-10-09T16:16:33.349Z"
   },
   {
    "duration": 224,
    "start_time": "2021-10-09T16:23:54.855Z"
   },
   {
    "duration": 319,
    "start_time": "2021-10-09T16:27:44.504Z"
   },
   {
    "duration": 222,
    "start_time": "2021-10-09T16:28:58.101Z"
   },
   {
    "duration": 264,
    "start_time": "2021-10-09T16:30:44.980Z"
   },
   {
    "duration": 269,
    "start_time": "2021-10-09T16:31:00.591Z"
   },
   {
    "duration": 286,
    "start_time": "2021-10-09T16:31:15.742Z"
   },
   {
    "duration": 1037,
    "start_time": "2021-10-11T21:07:05.487Z"
   },
   {
    "duration": 189,
    "start_time": "2021-10-11T21:07:06.525Z"
   },
   {
    "duration": 11,
    "start_time": "2021-10-11T21:07:06.716Z"
   },
   {
    "duration": 34,
    "start_time": "2021-10-11T21:07:06.729Z"
   },
   {
    "duration": 22,
    "start_time": "2021-10-11T21:07:06.765Z"
   },
   {
    "duration": 14,
    "start_time": "2021-10-11T21:07:06.789Z"
   },
   {
    "duration": 11,
    "start_time": "2021-10-11T21:07:06.805Z"
   },
   {
    "duration": 28,
    "start_time": "2021-10-11T21:07:06.819Z"
   },
   {
    "duration": 7,
    "start_time": "2021-10-11T21:07:06.849Z"
   },
   {
    "duration": 22,
    "start_time": "2021-10-11T21:07:06.858Z"
   },
   {
    "duration": 33,
    "start_time": "2021-10-11T21:07:06.881Z"
   },
   {
    "duration": 52,
    "start_time": "2021-10-11T21:07:06.916Z"
   },
   {
    "duration": 11,
    "start_time": "2021-10-11T21:07:06.970Z"
   },
   {
    "duration": 32,
    "start_time": "2021-10-11T21:07:06.983Z"
   },
   {
    "duration": 41,
    "start_time": "2021-10-11T21:07:07.017Z"
   },
   {
    "duration": 4,
    "start_time": "2021-10-11T21:07:07.060Z"
   },
   {
    "duration": 7,
    "start_time": "2021-10-11T21:07:07.066Z"
   },
   {
    "duration": 69,
    "start_time": "2021-10-11T21:07:07.075Z"
   },
   {
    "duration": 64,
    "start_time": "2021-10-11T21:07:07.146Z"
   },
   {
    "duration": 56,
    "start_time": "2021-10-11T21:07:07.212Z"
   },
   {
    "duration": 5,
    "start_time": "2021-10-11T21:07:07.270Z"
   },
   {
    "duration": 11,
    "start_time": "2021-10-11T21:07:07.277Z"
   },
   {
    "duration": 9,
    "start_time": "2021-10-11T21:07:07.292Z"
   },
   {
    "duration": 23,
    "start_time": "2021-10-11T21:07:07.303Z"
   },
   {
    "duration": 31,
    "start_time": "2021-10-11T21:07:07.328Z"
   },
   {
    "duration": 16,
    "start_time": "2021-10-11T21:07:07.360Z"
   },
   {
    "duration": 3,
    "start_time": "2021-10-11T21:07:07.377Z"
   },
   {
    "duration": 10532,
    "start_time": "2021-10-11T21:07:07.381Z"
   },
   {
    "duration": 9,
    "start_time": "2021-10-11T21:07:17.914Z"
   },
   {
    "duration": 37,
    "start_time": "2021-10-11T21:07:17.924Z"
   },
   {
    "duration": 4,
    "start_time": "2021-10-11T21:07:17.963Z"
   },
   {
    "duration": 14,
    "start_time": "2021-10-11T21:07:17.968Z"
   },
   {
    "duration": 289,
    "start_time": "2021-10-11T21:07:17.984Z"
   },
   {
    "duration": 8,
    "start_time": "2021-10-11T21:07:18.274Z"
   },
   {
    "duration": 20,
    "start_time": "2021-10-11T21:07:18.283Z"
   },
   {
    "duration": 23,
    "start_time": "2021-10-11T21:07:18.305Z"
   },
   {
    "duration": 27,
    "start_time": "2021-10-11T21:07:18.329Z"
   },
   {
    "duration": 124,
    "start_time": "2021-10-11T21:07:18.357Z"
   },
   {
    "duration": 8,
    "start_time": "2021-10-11T21:07:18.483Z"
   },
   {
    "duration": 12,
    "start_time": "2021-10-11T21:07:18.493Z"
   },
   {
    "duration": 47,
    "start_time": "2021-10-11T21:07:18.506Z"
   },
   {
    "duration": 11,
    "start_time": "2021-10-11T21:07:18.555Z"
   },
   {
    "duration": 20,
    "start_time": "2021-10-11T21:07:18.567Z"
   },
   {
    "duration": 37,
    "start_time": "2021-10-11T21:07:18.588Z"
   },
   {
    "duration": 112,
    "start_time": "2021-10-11T21:07:18.627Z"
   },
   {
    "duration": 8,
    "start_time": "2021-10-11T21:07:18.740Z"
   },
   {
    "duration": 214,
    "start_time": "2021-10-11T21:07:18.750Z"
   },
   {
    "duration": 4,
    "start_time": "2021-10-11T21:07:18.966Z"
   },
   {
    "duration": 47,
    "start_time": "2021-10-11T21:07:18.971Z"
   },
   {
    "duration": 52,
    "start_time": "2021-10-11T21:07:19.019Z"
   },
   {
    "duration": 10,
    "start_time": "2021-10-11T21:07:19.073Z"
   },
   {
    "duration": 37,
    "start_time": "2021-10-11T21:07:19.084Z"
   },
   {
    "duration": 149,
    "start_time": "2021-10-11T21:07:19.123Z"
   },
   {
    "duration": 9,
    "start_time": "2021-10-11T21:07:19.273Z"
   },
   {
    "duration": 31,
    "start_time": "2021-10-11T21:07:19.284Z"
   },
   {
    "duration": 236,
    "start_time": "2021-10-11T21:07:19.316Z"
   },
   {
    "duration": 15,
    "start_time": "2021-10-11T21:07:19.553Z"
   },
   {
    "duration": 11,
    "start_time": "2021-10-11T21:07:19.570Z"
   },
   {
    "duration": 11,
    "start_time": "2021-10-11T21:07:19.583Z"
   },
   {
    "duration": 264,
    "start_time": "2021-10-11T21:07:19.595Z"
   },
   {
    "duration": 226,
    "start_time": "2021-10-11T21:07:19.861Z"
   },
   {
    "duration": 5,
    "start_time": "2021-10-11T21:07:20.088Z"
   },
   {
    "duration": 16,
    "start_time": "2021-10-11T21:07:20.095Z"
   },
   {
    "duration": 11,
    "start_time": "2021-10-11T21:07:20.112Z"
   },
   {
    "duration": 40,
    "start_time": "2021-10-11T21:07:20.125Z"
   },
   {
    "duration": 90,
    "start_time": "2021-10-11T21:07:20.167Z"
   },
   {
    "duration": 17,
    "start_time": "2021-10-11T21:07:20.258Z"
   },
   {
    "duration": 17,
    "start_time": "2021-10-11T21:07:20.280Z"
   },
   {
    "duration": 275,
    "start_time": "2021-10-11T21:07:20.300Z"
   },
   {
    "duration": 28,
    "start_time": "2021-10-11T21:07:20.577Z"
   },
   {
    "duration": 37,
    "start_time": "2021-10-11T21:07:20.607Z"
   },
   {
    "duration": 9,
    "start_time": "2021-10-11T21:07:20.646Z"
   },
   {
    "duration": 11,
    "start_time": "2021-10-11T21:07:20.657Z"
   },
   {
    "duration": 21,
    "start_time": "2021-10-11T21:07:20.669Z"
   },
   {
    "duration": 12,
    "start_time": "2021-10-11T21:07:20.691Z"
   },
   {
    "duration": 23,
    "start_time": "2021-10-11T21:07:20.705Z"
   },
   {
    "duration": 21,
    "start_time": "2021-10-11T21:07:20.730Z"
   },
   {
    "duration": 4,
    "start_time": "2021-10-11T21:07:20.753Z"
   },
   {
    "duration": 102,
    "start_time": "2021-10-11T21:07:20.758Z"
   },
   {
    "duration": 5,
    "start_time": "2021-10-11T21:07:20.862Z"
   },
   {
    "duration": 10,
    "start_time": "2021-10-11T21:07:20.869Z"
   },
   {
    "duration": 21,
    "start_time": "2021-10-11T21:07:20.881Z"
   },
   {
    "duration": 344,
    "start_time": "2021-10-11T21:07:20.904Z"
   },
   {
    "duration": 5,
    "start_time": "2021-10-11T21:07:21.249Z"
   },
   {
    "duration": 17,
    "start_time": "2021-10-11T21:07:21.255Z"
   },
   {
    "duration": 380,
    "start_time": "2021-10-11T21:07:21.274Z"
   },
   {
    "duration": 11,
    "start_time": "2021-10-11T21:07:21.656Z"
   },
   {
    "duration": 21,
    "start_time": "2021-10-11T21:07:21.669Z"
   },
   {
    "duration": 365,
    "start_time": "2021-10-11T21:07:21.692Z"
   },
   {
    "duration": 281,
    "start_time": "2021-10-11T21:07:22.059Z"
   },
   {
    "duration": 11,
    "start_time": "2021-10-11T21:07:22.342Z"
   },
   {
    "duration": 8,
    "start_time": "2021-10-11T21:07:22.355Z"
   },
   {
    "duration": 12,
    "start_time": "2021-10-11T21:07:50.808Z"
   },
   {
    "duration": 36,
    "start_time": "2021-10-11T21:09:12.618Z"
   },
   {
    "duration": 38,
    "start_time": "2021-10-11T21:11:41.099Z"
   },
   {
    "duration": 45,
    "start_time": "2021-10-11T21:11:50.643Z"
   },
   {
    "duration": 57,
    "start_time": "2021-10-11T21:13:55.613Z"
   },
   {
    "duration": 1491,
    "start_time": "2021-10-11T21:23:50.484Z"
   },
   {
    "duration": 1367,
    "start_time": "2021-10-12T16:35:14.216Z"
   },
   {
    "duration": 270,
    "start_time": "2021-10-12T16:35:15.586Z"
   },
   {
    "duration": 17,
    "start_time": "2021-10-12T16:35:15.859Z"
   },
   {
    "duration": 55,
    "start_time": "2021-10-12T16:35:15.879Z"
   },
   {
    "duration": 18,
    "start_time": "2021-10-12T16:35:15.937Z"
   },
   {
    "duration": 14,
    "start_time": "2021-10-12T16:35:15.958Z"
   },
   {
    "duration": 11,
    "start_time": "2021-10-12T16:35:15.974Z"
   },
   {
    "duration": 54,
    "start_time": "2021-10-12T16:35:15.989Z"
   },
   {
    "duration": 11,
    "start_time": "2021-10-12T16:35:16.046Z"
   },
   {
    "duration": 16,
    "start_time": "2021-10-12T16:35:16.060Z"
   },
   {
    "duration": 66,
    "start_time": "2021-10-12T16:35:16.078Z"
   },
   {
    "duration": 67,
    "start_time": "2021-10-12T16:35:16.146Z"
   },
   {
    "duration": 19,
    "start_time": "2021-10-12T16:35:16.215Z"
   },
   {
    "duration": 49,
    "start_time": "2021-10-12T16:35:16.236Z"
   },
   {
    "duration": 64,
    "start_time": "2021-10-12T16:35:16.287Z"
   },
   {
    "duration": 4,
    "start_time": "2021-10-12T16:35:16.354Z"
   },
   {
    "duration": 10,
    "start_time": "2021-10-12T16:35:16.361Z"
   },
   {
    "duration": 108,
    "start_time": "2021-10-12T16:35:16.373Z"
   },
   {
    "duration": 115,
    "start_time": "2021-10-12T16:35:16.484Z"
   },
   {
    "duration": 81,
    "start_time": "2021-10-12T16:35:16.601Z"
   },
   {
    "duration": 8,
    "start_time": "2021-10-12T16:35:16.684Z"
   },
   {
    "duration": 37,
    "start_time": "2021-10-12T16:35:16.694Z"
   },
   {
    "duration": 12,
    "start_time": "2021-10-12T16:35:16.739Z"
   },
   {
    "duration": 20,
    "start_time": "2021-10-12T16:35:16.755Z"
   },
   {
    "duration": 49,
    "start_time": "2021-10-12T16:35:16.777Z"
   },
   {
    "duration": 28,
    "start_time": "2021-10-12T16:35:16.829Z"
   },
   {
    "duration": 5,
    "start_time": "2021-10-12T16:35:16.861Z"
   },
   {
    "duration": 24922,
    "start_time": "2021-10-12T16:35:16.869Z"
   },
   {
    "duration": 14,
    "start_time": "2021-10-12T16:35:41.794Z"
   },
   {
    "duration": 50,
    "start_time": "2021-10-12T16:35:41.822Z"
   },
   {
    "duration": 5,
    "start_time": "2021-10-12T16:35:41.875Z"
   },
   {
    "duration": 14,
    "start_time": "2021-10-12T16:35:41.883Z"
   },
   {
    "duration": 523,
    "start_time": "2021-10-12T16:35:41.899Z"
   },
   {
    "duration": 14,
    "start_time": "2021-10-12T16:35:42.425Z"
   },
   {
    "duration": 16,
    "start_time": "2021-10-12T16:35:42.442Z"
   },
   {
    "duration": 15,
    "start_time": "2021-10-12T16:35:42.461Z"
   },
   {
    "duration": 59,
    "start_time": "2021-10-12T16:35:42.478Z"
   },
   {
    "duration": 228,
    "start_time": "2021-10-12T16:35:42.539Z"
   },
   {
    "duration": 12,
    "start_time": "2021-10-12T16:35:42.770Z"
   },
   {
    "duration": 5,
    "start_time": "2021-10-12T16:35:42.785Z"
   },
   {
    "duration": 75,
    "start_time": "2021-10-12T16:35:42.793Z"
   },
   {
    "duration": 16,
    "start_time": "2021-10-12T16:35:42.870Z"
   },
   {
    "duration": 38,
    "start_time": "2021-10-12T16:35:42.889Z"
   },
   {
    "duration": 26,
    "start_time": "2021-10-12T16:35:42.929Z"
   },
   {
    "duration": 175,
    "start_time": "2021-10-12T16:35:42.957Z"
   },
   {
    "duration": 16,
    "start_time": "2021-10-12T16:35:43.134Z"
   },
   {
    "duration": 404,
    "start_time": "2021-10-12T16:35:43.153Z"
   },
   {
    "duration": 5,
    "start_time": "2021-10-12T16:35:43.560Z"
   },
   {
    "duration": 28,
    "start_time": "2021-10-12T16:35:43.567Z"
   },
   {
    "duration": 85,
    "start_time": "2021-10-12T16:35:43.598Z"
   },
   {
    "duration": 17,
    "start_time": "2021-10-12T16:35:43.685Z"
   },
   {
    "duration": 14,
    "start_time": "2021-10-12T16:35:43.728Z"
   },
   {
    "duration": 234,
    "start_time": "2021-10-12T16:35:43.744Z"
   },
   {
    "duration": 15,
    "start_time": "2021-10-12T16:35:43.980Z"
   },
   {
    "duration": 37,
    "start_time": "2021-10-12T16:35:43.998Z"
   },
   {
    "duration": 412,
    "start_time": "2021-10-12T16:35:44.038Z"
   },
   {
    "duration": 24,
    "start_time": "2021-10-12T16:35:44.454Z"
   },
   {
    "duration": 50,
    "start_time": "2021-10-12T16:35:44.481Z"
   },
   {
    "duration": 18,
    "start_time": "2021-10-12T16:35:44.535Z"
   },
   {
    "duration": 474,
    "start_time": "2021-10-12T16:35:44.555Z"
   },
   {
    "duration": 401,
    "start_time": "2021-10-12T16:35:45.034Z"
   },
   {
    "duration": 7,
    "start_time": "2021-10-12T16:35:45.437Z"
   },
   {
    "duration": 42,
    "start_time": "2021-10-12T16:35:45.446Z"
   },
   {
    "duration": 14,
    "start_time": "2021-10-12T16:35:45.491Z"
   },
   {
    "duration": 47,
    "start_time": "2021-10-12T16:35:45.507Z"
   },
   {
    "duration": 138,
    "start_time": "2021-10-12T16:35:45.556Z"
   },
   {
    "duration": 44,
    "start_time": "2021-10-12T16:35:45.697Z"
   },
   {
    "duration": 28,
    "start_time": "2021-10-12T16:35:45.749Z"
   },
   {
    "duration": 473,
    "start_time": "2021-10-12T16:35:45.781Z"
   },
   {
    "duration": 52,
    "start_time": "2021-10-12T16:35:46.256Z"
   },
   {
    "duration": 44,
    "start_time": "2021-10-12T16:35:46.310Z"
   },
   {
    "duration": 11,
    "start_time": "2021-10-12T16:35:46.356Z"
   },
   {
    "duration": 10,
    "start_time": "2021-10-12T16:35:46.369Z"
   },
   {
    "duration": 42,
    "start_time": "2021-10-12T16:35:46.381Z"
   },
   {
    "duration": 8,
    "start_time": "2021-10-12T16:35:46.426Z"
   },
   {
    "duration": 54,
    "start_time": "2021-10-12T16:35:46.436Z"
   },
   {
    "duration": 39,
    "start_time": "2021-10-12T16:35:46.493Z"
   },
   {
    "duration": 8,
    "start_time": "2021-10-12T16:35:46.535Z"
   },
   {
    "duration": 176,
    "start_time": "2021-10-12T16:35:46.546Z"
   },
   {
    "duration": 9,
    "start_time": "2021-10-12T16:35:46.725Z"
   },
   {
    "duration": 29,
    "start_time": "2021-10-12T16:35:46.738Z"
   },
   {
    "duration": 25,
    "start_time": "2021-10-12T16:35:46.770Z"
   },
   {
    "duration": 844,
    "start_time": "2021-10-12T16:35:46.798Z"
   },
   {
    "duration": 5,
    "start_time": "2021-10-12T16:35:47.644Z"
   },
   {
    "duration": 16,
    "start_time": "2021-10-12T16:35:47.651Z"
   },
   {
    "duration": 493,
    "start_time": "2021-10-12T16:35:47.669Z"
   },
   {
    "duration": 14,
    "start_time": "2021-10-12T16:35:48.164Z"
   },
   {
    "duration": 13,
    "start_time": "2021-10-12T16:35:48.181Z"
   },
   {
    "duration": 1056,
    "start_time": "2021-10-12T16:35:48.196Z"
   },
   {
    "duration": 487,
    "start_time": "2021-10-12T16:35:49.254Z"
   },
   {
    "duration": 14,
    "start_time": "2021-10-12T16:35:49.743Z"
   },
   {
    "duration": 19,
    "start_time": "2021-10-12T16:35:49.760Z"
   },
   {
    "duration": 75,
    "start_time": "2021-10-12T16:35:49.781Z"
   },
   {
    "duration": 2604,
    "start_time": "2021-10-12T16:35:49.858Z"
   },
   {
    "duration": 391,
    "start_time": "2021-10-12T16:35:52.464Z"
   },
   {
    "duration": 221,
    "start_time": "2021-10-14T18:37:24.272Z"
   },
   {
    "duration": 969,
    "start_time": "2021-10-14T18:37:37.324Z"
   },
   {
    "duration": 193,
    "start_time": "2021-10-14T18:37:38.295Z"
   },
   {
    "duration": 12,
    "start_time": "2021-10-14T18:37:38.490Z"
   },
   {
    "duration": 28,
    "start_time": "2021-10-14T18:37:38.504Z"
   },
   {
    "duration": 15,
    "start_time": "2021-10-14T18:37:38.534Z"
   },
   {
    "duration": 10,
    "start_time": "2021-10-14T18:37:38.551Z"
   },
   {
    "duration": 7,
    "start_time": "2021-10-14T18:37:38.562Z"
   },
   {
    "duration": 40,
    "start_time": "2021-10-14T18:37:38.570Z"
   },
   {
    "duration": 7,
    "start_time": "2021-10-14T18:37:38.613Z"
   },
   {
    "duration": 7,
    "start_time": "2021-10-14T18:37:38.622Z"
   },
   {
    "duration": 30,
    "start_time": "2021-10-14T18:37:38.631Z"
   },
   {
    "duration": 65,
    "start_time": "2021-10-14T18:37:38.662Z"
   },
   {
    "duration": 11,
    "start_time": "2021-10-14T18:37:38.729Z"
   },
   {
    "duration": 32,
    "start_time": "2021-10-14T18:37:38.742Z"
   },
   {
    "duration": 40,
    "start_time": "2021-10-14T18:37:38.776Z"
   },
   {
    "duration": 4,
    "start_time": "2021-10-14T18:37:38.817Z"
   },
   {
    "duration": 8,
    "start_time": "2021-10-14T18:37:38.823Z"
   },
   {
    "duration": 51,
    "start_time": "2021-10-14T18:37:38.832Z"
   },
   {
    "duration": 63,
    "start_time": "2021-10-14T18:37:38.900Z"
   },
   {
    "duration": 55,
    "start_time": "2021-10-14T18:37:38.964Z"
   },
   {
    "duration": 4,
    "start_time": "2021-10-14T18:37:39.021Z"
   },
   {
    "duration": 11,
    "start_time": "2021-10-14T18:37:39.026Z"
   },
   {
    "duration": 9,
    "start_time": "2021-10-14T18:37:39.039Z"
   },
   {
    "duration": 9,
    "start_time": "2021-10-14T18:37:39.049Z"
   },
   {
    "duration": 46,
    "start_time": "2021-10-14T18:37:39.059Z"
   },
   {
    "duration": 16,
    "start_time": "2021-10-14T18:37:39.107Z"
   },
   {
    "duration": 3,
    "start_time": "2021-10-14T18:37:39.127Z"
   },
   {
    "duration": 11071,
    "start_time": "2021-10-14T18:37:39.133Z"
   },
   {
    "duration": 9,
    "start_time": "2021-10-14T18:37:50.206Z"
   },
   {
    "duration": 29,
    "start_time": "2021-10-14T18:37:50.216Z"
   },
   {
    "duration": 4,
    "start_time": "2021-10-14T18:37:50.247Z"
   },
   {
    "duration": 10,
    "start_time": "2021-10-14T18:37:50.253Z"
   },
   {
    "duration": 333,
    "start_time": "2021-10-14T18:37:50.264Z"
   },
   {
    "duration": 8,
    "start_time": "2021-10-14T18:37:50.599Z"
   },
   {
    "duration": 9,
    "start_time": "2021-10-14T18:37:50.608Z"
   },
   {
    "duration": 14,
    "start_time": "2021-10-14T18:37:50.619Z"
   },
   {
    "duration": 16,
    "start_time": "2021-10-14T18:37:50.634Z"
   },
   {
    "duration": 158,
    "start_time": "2021-10-14T18:37:50.652Z"
   },
   {
    "duration": 9,
    "start_time": "2021-10-14T18:37:50.811Z"
   },
   {
    "duration": 5,
    "start_time": "2021-10-14T18:37:50.822Z"
   },
   {
    "duration": 30,
    "start_time": "2021-10-14T18:37:50.829Z"
   },
   {
    "duration": 10,
    "start_time": "2021-10-14T18:37:50.860Z"
   },
   {
    "duration": 28,
    "start_time": "2021-10-14T18:37:50.871Z"
   },
   {
    "duration": 18,
    "start_time": "2021-10-14T18:37:50.901Z"
   },
   {
    "duration": 118,
    "start_time": "2021-10-14T18:37:50.920Z"
   },
   {
    "duration": 8,
    "start_time": "2021-10-14T18:37:51.040Z"
   },
   {
    "duration": 232,
    "start_time": "2021-10-14T18:37:51.049Z"
   },
   {
    "duration": 4,
    "start_time": "2021-10-14T18:37:51.283Z"
   },
   {
    "duration": 18,
    "start_time": "2021-10-14T18:37:51.300Z"
   },
   {
    "duration": 39,
    "start_time": "2021-10-14T18:37:51.320Z"
   },
   {
    "duration": 11,
    "start_time": "2021-10-14T18:37:51.361Z"
   },
   {
    "duration": 31,
    "start_time": "2021-10-14T18:37:51.373Z"
   },
   {
    "duration": 155,
    "start_time": "2021-10-14T18:37:51.406Z"
   },
   {
    "duration": 10,
    "start_time": "2021-10-14T18:37:51.562Z"
   },
   {
    "duration": 25,
    "start_time": "2021-10-14T18:37:51.574Z"
   },
   {
    "duration": 253,
    "start_time": "2021-10-14T18:37:51.601Z"
   },
   {
    "duration": 18,
    "start_time": "2021-10-14T18:37:51.856Z"
   },
   {
    "duration": 26,
    "start_time": "2021-10-14T18:37:51.875Z"
   },
   {
    "duration": 12,
    "start_time": "2021-10-14T18:37:51.903Z"
   },
   {
    "duration": 268,
    "start_time": "2021-10-14T18:37:51.917Z"
   },
   {
    "duration": 241,
    "start_time": "2021-10-14T18:37:52.187Z"
   },
   {
    "duration": 5,
    "start_time": "2021-10-14T18:37:52.429Z"
   },
   {
    "duration": 65,
    "start_time": "2021-10-14T18:37:52.435Z"
   },
   {
    "duration": -84,
    "start_time": "2021-10-14T18:37:52.587Z"
   },
   {
    "duration": -89,
    "start_time": "2021-10-14T18:37:52.593Z"
   },
   {
    "duration": -93,
    "start_time": "2021-10-14T18:37:52.598Z"
   },
   {
    "duration": -111,
    "start_time": "2021-10-14T18:37:52.617Z"
   },
   {
    "duration": -117,
    "start_time": "2021-10-14T18:37:52.624Z"
   },
   {
    "duration": -120,
    "start_time": "2021-10-14T18:37:52.628Z"
   },
   {
    "duration": -124,
    "start_time": "2021-10-14T18:37:52.633Z"
   },
   {
    "duration": -127,
    "start_time": "2021-10-14T18:37:52.637Z"
   },
   {
    "duration": -130,
    "start_time": "2021-10-14T18:37:52.641Z"
   },
   {
    "duration": -132,
    "start_time": "2021-10-14T18:37:52.644Z"
   },
   {
    "duration": -135,
    "start_time": "2021-10-14T18:37:52.648Z"
   },
   {
    "duration": -138,
    "start_time": "2021-10-14T18:37:52.652Z"
   },
   {
    "duration": -141,
    "start_time": "2021-10-14T18:37:52.656Z"
   },
   {
    "duration": -144,
    "start_time": "2021-10-14T18:37:52.660Z"
   },
   {
    "duration": -147,
    "start_time": "2021-10-14T18:37:52.664Z"
   },
   {
    "duration": -150,
    "start_time": "2021-10-14T18:37:52.668Z"
   },
   {
    "duration": -153,
    "start_time": "2021-10-14T18:37:52.672Z"
   },
   {
    "duration": -156,
    "start_time": "2021-10-14T18:37:52.676Z"
   },
   {
    "duration": -159,
    "start_time": "2021-10-14T18:37:52.680Z"
   },
   {
    "duration": -161,
    "start_time": "2021-10-14T18:37:52.683Z"
   },
   {
    "duration": -164,
    "start_time": "2021-10-14T18:37:52.687Z"
   },
   {
    "duration": -170,
    "start_time": "2021-10-14T18:37:52.694Z"
   },
   {
    "duration": -174,
    "start_time": "2021-10-14T18:37:52.699Z"
   },
   {
    "duration": -176,
    "start_time": "2021-10-14T18:37:52.702Z"
   },
   {
    "duration": -178,
    "start_time": "2021-10-14T18:37:52.706Z"
   },
   {
    "duration": -182,
    "start_time": "2021-10-14T18:37:52.711Z"
   },
   {
    "duration": -194,
    "start_time": "2021-10-14T18:37:52.724Z"
   },
   {
    "duration": -198,
    "start_time": "2021-10-14T18:37:52.729Z"
   },
   {
    "duration": -202,
    "start_time": "2021-10-14T18:37:52.734Z"
   },
   {
    "duration": -205,
    "start_time": "2021-10-14T18:37:52.738Z"
   },
   {
    "duration": -207,
    "start_time": "2021-10-14T18:37:52.741Z"
   },
   {
    "duration": 14,
    "start_time": "2021-10-14T18:38:48.245Z"
   },
   {
    "duration": 13,
    "start_time": "2021-10-14T18:38:49.353Z"
   },
   {
    "duration": 26,
    "start_time": "2021-10-14T18:38:51.474Z"
   },
   {
    "duration": 82,
    "start_time": "2021-10-14T18:38:53.747Z"
   },
   {
    "duration": 22,
    "start_time": "2021-10-14T18:39:02.604Z"
   },
   {
    "duration": 20,
    "start_time": "2021-10-14T18:39:03.952Z"
   },
   {
    "duration": 275,
    "start_time": "2021-10-14T18:39:07.160Z"
   },
   {
    "duration": 247,
    "start_time": "2021-10-14T18:39:12.068Z"
   },
   {
    "duration": 327,
    "start_time": "2021-10-14T18:40:47.187Z"
   },
   {
    "duration": 19,
    "start_time": "2021-10-14T18:41:39.972Z"
   },
   {
    "duration": 14,
    "start_time": "2021-10-14T18:41:58.442Z"
   },
   {
    "duration": 21,
    "start_time": "2021-10-14T18:46:27.267Z"
   },
   {
    "duration": 16,
    "start_time": "2021-10-14T18:46:33.590Z"
   },
   {
    "duration": 30,
    "start_time": "2021-10-14T18:46:55.507Z"
   },
   {
    "duration": 20,
    "start_time": "2021-10-14T18:47:01.446Z"
   },
   {
    "duration": 11,
    "start_time": "2021-10-14T18:47:09.354Z"
   },
   {
    "duration": 6,
    "start_time": "2021-10-14T18:47:14.246Z"
   },
   {
    "duration": 9,
    "start_time": "2021-10-14T18:47:18.398Z"
   },
   {
    "duration": 5,
    "start_time": "2021-10-14T18:47:21.634Z"
   },
   {
    "duration": 5,
    "start_time": "2021-10-14T18:47:34.476Z"
   },
   {
    "duration": 5,
    "start_time": "2021-10-14T18:47:41.363Z"
   },
   {
    "duration": 92,
    "start_time": "2021-10-14T18:48:05.784Z"
   },
   {
    "duration": 17,
    "start_time": "2021-10-14T18:48:07.704Z"
   },
   {
    "duration": 11,
    "start_time": "2021-10-14T18:48:27.607Z"
   },
   {
    "duration": 11,
    "start_time": "2021-10-14T18:48:35.817Z"
   },
   {
    "duration": 5,
    "start_time": "2021-10-14T18:48:45.778Z"
   },
   {
    "duration": 79,
    "start_time": "2021-10-14T18:48:48.959Z"
   },
   {
    "duration": 5,
    "start_time": "2021-10-14T18:48:51.571Z"
   },
   {
    "duration": 241,
    "start_time": "2021-10-14T18:51:15.521Z"
   },
   {
    "duration": 200,
    "start_time": "2021-10-14T18:51:39.826Z"
   },
   {
    "duration": 915,
    "start_time": "2021-10-14T18:51:53.392Z"
   },
   {
    "duration": 53,
    "start_time": "2021-10-14T18:52:28.851Z"
   },
   {
    "duration": 178,
    "start_time": "2021-10-14T18:52:37.347Z"
   },
   {
    "duration": 214,
    "start_time": "2021-10-14T18:52:50.334Z"
   },
   {
    "duration": 265,
    "start_time": "2021-10-14T18:53:20.034Z"
   },
   {
    "duration": 237,
    "start_time": "2021-10-14T18:53:57.474Z"
   },
   {
    "duration": 43,
    "start_time": "2021-10-14T18:54:50.792Z"
   },
   {
    "duration": 40,
    "start_time": "2021-10-14T18:56:07.857Z"
   },
   {
    "duration": 38,
    "start_time": "2021-10-14T18:56:18.957Z"
   },
   {
    "duration": 209,
    "start_time": "2021-10-14T18:56:34.934Z"
   },
   {
    "duration": 20,
    "start_time": "2021-10-14T18:59:26.600Z"
   },
   {
    "duration": 23,
    "start_time": "2021-10-14T18:59:50.322Z"
   },
   {
    "duration": 23,
    "start_time": "2021-10-14T19:03:39.672Z"
   },
   {
    "duration": 23,
    "start_time": "2021-10-14T19:05:17.526Z"
   },
   {
    "duration": 20,
    "start_time": "2021-10-14T19:07:24.769Z"
   },
   {
    "duration": 14,
    "start_time": "2021-10-14T19:10:18.192Z"
   },
   {
    "duration": 7,
    "start_time": "2021-10-14T19:10:29.831Z"
   },
   {
    "duration": 272,
    "start_time": "2021-10-14T19:11:37.908Z"
   },
   {
    "duration": 7,
    "start_time": "2021-10-14T19:14:00.569Z"
   },
   {
    "duration": 11,
    "start_time": "2021-10-14T19:14:11.012Z"
   },
   {
    "duration": 10,
    "start_time": "2021-10-14T19:14:30.512Z"
   },
   {
    "duration": 11,
    "start_time": "2021-10-14T19:14:46.937Z"
   },
   {
    "duration": 11,
    "start_time": "2021-10-14T19:15:44.822Z"
   },
   {
    "duration": 7,
    "start_time": "2021-10-14T19:19:30.304Z"
   },
   {
    "duration": 10,
    "start_time": "2021-10-14T19:19:32.862Z"
   },
   {
    "duration": 334,
    "start_time": "2021-10-14T19:19:42.230Z"
   },
   {
    "duration": 182,
    "start_time": "2021-10-14T19:19:54.278Z"
   },
   {
    "duration": 181,
    "start_time": "2021-10-14T19:20:02.366Z"
   },
   {
    "duration": 4,
    "start_time": "2021-10-14T19:20:12.207Z"
   },
   {
    "duration": 8,
    "start_time": "2021-10-14T19:20:13.891Z"
   },
   {
    "duration": 283,
    "start_time": "2021-10-14T19:21:50.600Z"
   },
   {
    "duration": 272,
    "start_time": "2021-10-14T19:22:03.954Z"
   },
   {
    "duration": 10,
    "start_time": "2021-10-14T19:22:10.507Z"
   },
   {
    "duration": 3,
    "start_time": "2021-10-14T19:22:13.152Z"
   },
   {
    "duration": 354,
    "start_time": "2021-10-14T19:24:39.979Z"
   },
   {
    "duration": 290,
    "start_time": "2021-10-14T19:24:50.178Z"
   },
   {
    "duration": 180,
    "start_time": "2021-10-14T19:25:21.314Z"
   },
   {
    "duration": 276,
    "start_time": "2021-10-14T19:25:53.964Z"
   },
   {
    "duration": 364,
    "start_time": "2021-10-14T19:26:27.075Z"
   },
   {
    "duration": 247,
    "start_time": "2021-10-14T19:26:42.812Z"
   },
   {
    "duration": 275,
    "start_time": "2021-10-14T19:28:36.685Z"
   },
   {
    "duration": 178,
    "start_time": "2021-10-14T19:29:27.984Z"
   },
   {
    "duration": 147,
    "start_time": "2021-10-14T19:29:48.666Z"
   },
   {
    "duration": 148,
    "start_time": "2021-10-14T19:30:04.039Z"
   },
   {
    "duration": 10,
    "start_time": "2021-10-14T19:47:07.620Z"
   },
   {
    "duration": 220,
    "start_time": "2021-10-14T19:47:33.696Z"
   },
   {
    "duration": 144,
    "start_time": "2021-10-14T19:47:36.735Z"
   },
   {
    "duration": 148,
    "start_time": "2021-10-14T19:49:31.982Z"
   },
   {
    "duration": 167,
    "start_time": "2021-10-14T19:49:33.299Z"
   },
   {
    "duration": 3,
    "start_time": "2021-10-14T19:49:38.584Z"
   },
   {
    "duration": 183,
    "start_time": "2021-10-14T19:54:35.486Z"
   },
   {
    "duration": 277,
    "start_time": "2021-10-14T19:54:53.884Z"
   },
   {
    "duration": 1012,
    "start_time": "2021-10-14T20:11:23.363Z"
   },
   {
    "duration": 184,
    "start_time": "2021-10-14T20:11:24.377Z"
   },
   {
    "duration": 12,
    "start_time": "2021-10-14T20:11:24.563Z"
   },
   {
    "duration": 39,
    "start_time": "2021-10-14T20:11:24.577Z"
   },
   {
    "duration": 15,
    "start_time": "2021-10-14T20:11:24.618Z"
   },
   {
    "duration": 10,
    "start_time": "2021-10-14T20:11:24.634Z"
   },
   {
    "duration": 7,
    "start_time": "2021-10-14T20:11:24.645Z"
   },
   {
    "duration": 26,
    "start_time": "2021-10-14T20:11:24.654Z"
   },
   {
    "duration": 6,
    "start_time": "2021-10-14T20:11:24.682Z"
   },
   {
    "duration": 5,
    "start_time": "2021-10-14T20:11:24.699Z"
   },
   {
    "duration": 26,
    "start_time": "2021-10-14T20:11:24.706Z"
   },
   {
    "duration": 42,
    "start_time": "2021-10-14T20:11:24.734Z"
   },
   {
    "duration": 26,
    "start_time": "2021-10-14T20:11:24.777Z"
   },
   {
    "duration": 30,
    "start_time": "2021-10-14T20:11:24.805Z"
   },
   {
    "duration": 23,
    "start_time": "2021-10-14T20:11:24.837Z"
   },
   {
    "duration": 3,
    "start_time": "2021-10-14T20:11:24.862Z"
   },
   {
    "duration": 33,
    "start_time": "2021-10-14T20:11:24.866Z"
   },
   {
    "duration": 47,
    "start_time": "2021-10-14T20:11:24.901Z"
   },
   {
    "duration": 78,
    "start_time": "2021-10-14T20:11:24.950Z"
   },
   {
    "duration": 43,
    "start_time": "2021-10-14T20:11:25.030Z"
   },
   {
    "duration": 6,
    "start_time": "2021-10-14T20:11:25.075Z"
   },
   {
    "duration": 26,
    "start_time": "2021-10-14T20:11:25.082Z"
   },
   {
    "duration": 8,
    "start_time": "2021-10-14T20:11:25.112Z"
   },
   {
    "duration": 7,
    "start_time": "2021-10-14T20:11:25.122Z"
   },
   {
    "duration": 16,
    "start_time": "2021-10-14T20:11:25.131Z"
   },
   {
    "duration": 16,
    "start_time": "2021-10-14T20:11:25.148Z"
   },
   {
    "duration": 3,
    "start_time": "2021-10-14T20:11:25.165Z"
   },
   {
    "duration": 10545,
    "start_time": "2021-10-14T20:11:25.169Z"
   },
   {
    "duration": 8,
    "start_time": "2021-10-14T20:11:35.715Z"
   },
   {
    "duration": 28,
    "start_time": "2021-10-14T20:11:35.725Z"
   },
   {
    "duration": 4,
    "start_time": "2021-10-14T20:11:35.754Z"
   },
   {
    "duration": 10,
    "start_time": "2021-10-14T20:11:35.759Z"
   },
   {
    "duration": 317,
    "start_time": "2021-10-14T20:11:35.770Z"
   },
   {
    "duration": 11,
    "start_time": "2021-10-14T20:11:36.089Z"
   },
   {
    "duration": 8,
    "start_time": "2021-10-14T20:11:36.102Z"
   },
   {
    "duration": 10,
    "start_time": "2021-10-14T20:11:36.111Z"
   },
   {
    "duration": 13,
    "start_time": "2021-10-14T20:11:36.122Z"
   },
   {
    "duration": 144,
    "start_time": "2021-10-14T20:11:36.136Z"
   },
   {
    "duration": 8,
    "start_time": "2021-10-14T20:11:36.281Z"
   },
   {
    "duration": 9,
    "start_time": "2021-10-14T20:11:36.291Z"
   },
   {
    "duration": 26,
    "start_time": "2021-10-14T20:11:36.301Z"
   },
   {
    "duration": 9,
    "start_time": "2021-10-14T20:11:36.328Z"
   },
   {
    "duration": 7,
    "start_time": "2021-10-14T20:11:36.338Z"
   },
   {
    "duration": 18,
    "start_time": "2021-10-14T20:11:36.346Z"
   },
   {
    "duration": 121,
    "start_time": "2021-10-14T20:11:36.365Z"
   },
   {
    "duration": 12,
    "start_time": "2021-10-14T20:11:36.488Z"
   },
   {
    "duration": 220,
    "start_time": "2021-10-14T20:11:36.502Z"
   },
   {
    "duration": 4,
    "start_time": "2021-10-14T20:11:36.723Z"
   },
   {
    "duration": 18,
    "start_time": "2021-10-14T20:11:36.728Z"
   },
   {
    "duration": 55,
    "start_time": "2021-10-14T20:11:36.748Z"
   },
   {
    "duration": 11,
    "start_time": "2021-10-14T20:11:36.804Z"
   },
   {
    "duration": 11,
    "start_time": "2021-10-14T20:11:36.817Z"
   },
   {
    "duration": 146,
    "start_time": "2021-10-14T20:11:36.829Z"
   },
   {
    "duration": 9,
    "start_time": "2021-10-14T20:11:36.977Z"
   },
   {
    "duration": 19,
    "start_time": "2021-10-14T20:11:36.988Z"
   },
   {
    "duration": 230,
    "start_time": "2021-10-14T20:11:37.008Z"
   },
   {
    "duration": 17,
    "start_time": "2021-10-14T20:11:37.240Z"
   },
   {
    "duration": 11,
    "start_time": "2021-10-14T20:11:37.258Z"
   },
   {
    "duration": 32,
    "start_time": "2021-10-14T20:11:37.270Z"
   },
   {
    "duration": 256,
    "start_time": "2021-10-14T20:11:37.304Z"
   },
   {
    "duration": 236,
    "start_time": "2021-10-14T20:11:37.561Z"
   },
   {
    "duration": 5,
    "start_time": "2021-10-14T20:11:37.798Z"
   },
   {
    "duration": 14,
    "start_time": "2021-10-14T20:11:37.804Z"
   },
   {
    "duration": 9,
    "start_time": "2021-10-14T20:11:37.819Z"
   },
   {
    "duration": 22,
    "start_time": "2021-10-14T20:11:37.830Z"
   },
   {
    "duration": 99,
    "start_time": "2021-10-14T20:11:37.854Z"
   },
   {
    "duration": 16,
    "start_time": "2021-10-14T20:11:37.955Z"
   },
   {
    "duration": 33,
    "start_time": "2021-10-14T20:11:37.976Z"
   },
   {
    "duration": 259,
    "start_time": "2021-10-14T20:11:38.011Z"
   },
   {
    "duration": 299,
    "start_time": "2021-10-14T20:11:38.272Z"
   },
   {
    "duration": 27,
    "start_time": "2021-10-14T20:11:38.573Z"
   },
   {
    "duration": 13,
    "start_time": "2021-10-14T20:11:38.602Z"
   },
   {
    "duration": 26,
    "start_time": "2021-10-14T20:11:38.616Z"
   },
   {
    "duration": 17,
    "start_time": "2021-10-14T20:11:38.644Z"
   },
   {
    "duration": 7,
    "start_time": "2021-10-14T20:11:38.662Z"
   },
   {
    "duration": 29,
    "start_time": "2021-10-14T20:11:38.671Z"
   },
   {
    "duration": 11,
    "start_time": "2021-10-14T20:11:38.701Z"
   },
   {
    "duration": 9,
    "start_time": "2021-10-14T20:11:38.713Z"
   },
   {
    "duration": 23,
    "start_time": "2021-10-14T20:11:38.724Z"
   },
   {
    "duration": 10,
    "start_time": "2021-10-14T20:11:38.749Z"
   },
   {
    "duration": 4,
    "start_time": "2021-10-14T20:11:38.760Z"
   },
   {
    "duration": 110,
    "start_time": "2021-10-14T20:11:38.765Z"
   },
   {
    "duration": 4,
    "start_time": "2021-10-14T20:11:38.877Z"
   },
   {
    "duration": 30,
    "start_time": "2021-10-14T20:11:38.882Z"
   },
   {
    "duration": 20,
    "start_time": "2021-10-14T20:11:38.913Z"
   },
   {
    "duration": 15,
    "start_time": "2021-10-14T20:11:38.935Z"
   },
   {
    "duration": 11,
    "start_time": "2021-10-14T20:11:38.951Z"
   },
   {
    "duration": 293,
    "start_time": "2021-10-14T20:11:38.964Z"
   },
   {
    "duration": 10,
    "start_time": "2021-10-14T20:11:39.259Z"
   },
   {
    "duration": 7,
    "start_time": "2021-10-14T20:11:39.271Z"
   },
   {
    "duration": 27,
    "start_time": "2021-10-14T20:11:39.280Z"
   },
   {
    "duration": 336,
    "start_time": "2021-10-14T20:11:39.309Z"
   },
   {
    "duration": 4,
    "start_time": "2021-10-14T20:11:39.647Z"
   },
   {
    "duration": 11,
    "start_time": "2021-10-14T20:11:39.653Z"
   },
   {
    "duration": 286,
    "start_time": "2021-10-14T20:11:39.665Z"
   },
   {
    "duration": 11,
    "start_time": "2021-10-14T20:11:39.953Z"
   },
   {
    "duration": 3,
    "start_time": "2021-10-14T20:11:39.966Z"
   },
   {
    "duration": 376,
    "start_time": "2021-10-14T20:11:39.971Z"
   },
   {
    "duration": 356,
    "start_time": "2021-10-14T20:11:40.349Z"
   },
   {
    "duration": 11,
    "start_time": "2021-10-14T20:11:40.707Z"
   },
   {
    "duration": 163,
    "start_time": "2021-10-14T20:11:40.720Z"
   },
   {
    "duration": 146,
    "start_time": "2021-10-14T20:11:40.885Z"
   },
   {
    "duration": 2,
    "start_time": "2021-10-14T20:11:41.033Z"
   },
   {
    "duration": 53,
    "start_time": "2021-10-14T20:14:03.674Z"
   }
  ],
  "kernelspec": {
   "display_name": "Python 3",
   "language": "python",
   "name": "python3"
  },
  "language_info": {
   "codemirror_mode": {
    "name": "ipython",
    "version": 3
   },
   "file_extension": ".py",
   "mimetype": "text/x-python",
   "name": "python",
   "nbconvert_exporter": "python",
   "pygments_lexer": "ipython3",
   "version": "3.7.8"
  },
  "toc": {
   "base_numbering": 1,
   "nav_menu": {
    "height": "43px",
    "width": "160px"
   },
   "number_sections": true,
   "sideBar": true,
   "skip_h1_title": true,
   "title_cell": "Содержание",
   "title_sidebar": "Contents",
   "toc_cell": true,
   "toc_position": {},
   "toc_section_display": true,
   "toc_window_display": true
  }
 },
 "nbformat": 4,
 "nbformat_minor": 2
}
